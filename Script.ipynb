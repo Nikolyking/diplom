{
 "cells": [
  {
   "cell_type": "code",
   "execution_count": 1,
   "id": "080e12ce-b936-481e-a953-9451c1ad7832",
   "metadata": {},
   "outputs": [],
   "source": [
    "# Ссылка на индекс https://finance.yahoo.com/quote/IMOEX.ME/history/"
   ]
  },
  {
   "cell_type": "code",
   "execution_count": 2,
   "id": "69ae5fcb-ef6a-4aab-bcb6-293b886e44f3",
   "metadata": {},
   "outputs": [],
   "source": [
    "import requests\n",
    "import apimoex\n",
    "import pandas as pd\n",
    "from scipy.stats import norm\n",
    "import yfinance as yf\n",
    "import numpy as np\n",
    "from datetime import datetime, timedelta\n",
    "from pypfopt.efficient_frontier import EfficientFrontier\n",
    "from pypfopt import risk_models\n",
    "from pypfopt import expected_returns\n",
    "from pypfopt.discrete_allocation import DiscreteAllocation, get_latest_prices\n",
    "import matplotlib.pyplot as plt\n",
    "from pypfopt import plotting, EfficientFrontier\n",
    "import plotly.graph_objs as go"
   ]
  },
  {
   "cell_type": "code",
   "execution_count": 3,
   "id": "888cfd35",
   "metadata": {},
   "outputs": [],
   "source": [
    "#Beta calculation\n",
    "\n",
    "def matrix_beta(df):\n",
    "    # Extract the market index (last column)\n",
    "    X = df.iloc[:, [-1]].values\n",
    "    # Add an additional column for the intercept (initialise as 1's)\n",
    "    X = np.concatenate([np.ones_like(X), X], axis=1)\n",
    "    # Extract dependent variables (all but last column)\n",
    "    Y = df.iloc[:, :-1].values\n",
    "    # Apply matrix algebra for linear regression model\n",
    "    beta = np.linalg.pinv(X.T @ X) @ X.T @ Y\n",
    "    # Extract the asset names\n",
    "    asset_names = df.columns[:-1]\n",
    "    return pd.Series(beta[1], index=asset_names, name='Beta')"
   ]
  },
  {
   "cell_type": "code",
   "execution_count": 45,
   "id": "b2ece711-a3ca-4391-81b1-5674bcf903c1",
   "metadata": {
    "scrolled": true
   },
   "outputs": [
    {
     "name": "stdout",
     "output_type": "stream",
     "text": [
      "1.41 %\n",
      "2.82 %\n",
      "4.23 %\n",
      "5.63 %\n",
      "7.04 %\n",
      "8.45 %\n",
      "9.86 %\n",
      "11.27 %\n",
      "12.68 %\n",
      "14.08 %\n",
      "15.49 %\n",
      "16.9 %\n",
      "18.31 %\n",
      "19.72 %\n",
      "21.13 %\n",
      "22.54 %\n",
      "23.94 %\n",
      "25.35 %\n",
      "26.76 %\n",
      "28.17 %\n",
      "29.58 %\n",
      "30.99 %\n",
      "32.39 %\n",
      "33.8 %\n",
      "35.21 %\n",
      "36.62 %\n",
      "38.03 %\n",
      "39.44 %\n",
      "40.85 %\n",
      "42.25 %\n",
      "43.66 %\n",
      "45.07 %\n",
      "46.48 %\n",
      "47.89 %\n",
      "49.3 %\n",
      "50.7 %\n",
      "52.11 %\n",
      "53.52 %\n",
      "54.93 %\n",
      "56.34 %\n",
      "57.75 %\n",
      "59.15 %\n",
      "60.56 %\n",
      "61.97 %\n",
      "63.38 %\n",
      "64.79 %\n",
      "66.2 %\n",
      "67.61 %\n",
      "69.01 %\n",
      "70.42 %\n",
      "71.83 %\n",
      "73.24 %\n",
      "74.65 %\n",
      "76.06 %\n",
      "77.46 %\n",
      "78.87 %\n",
      "80.28 %\n",
      "81.69 %\n",
      "83.1 %\n",
      "84.51 %\n",
      "85.92 %\n",
      "87.32 %\n",
      "88.73 %\n",
      "90.14 %\n",
      "91.55 %\n",
      "92.96 %\n",
      "94.37 %\n",
      "95.77 %\n",
      "97.18 %\n",
      "98.59 %\n",
      "100.0 %\n"
     ]
    },
    {
     "data": {
      "text/html": [
       "<div>\n",
       "<style scoped>\n",
       "    .dataframe tbody tr th:only-of-type {\n",
       "        vertical-align: middle;\n",
       "    }\n",
       "\n",
       "    .dataframe tbody tr th {\n",
       "        vertical-align: top;\n",
       "    }\n",
       "\n",
       "    .dataframe thead th {\n",
       "        text-align: right;\n",
       "    }\n",
       "</style>\n",
       "<table border=\"1\" class=\"dataframe\">\n",
       "  <thead>\n",
       "    <tr style=\"text-align: right;\">\n",
       "      <th></th>\n",
       "      <th>CBOM</th>\n",
       "      <th>ALRS</th>\n",
       "      <th>VTBR</th>\n",
       "      <th>RUAL</th>\n",
       "      <th>ENPG</th>\n",
       "      <th>BSPB</th>\n",
       "      <th>AFKS</th>\n",
       "      <th>AFLT</th>\n",
       "      <th>BELU</th>\n",
       "      <th>GAZP</th>\n",
       "      <th>...</th>\n",
       "      <th>MRKU</th>\n",
       "      <th>MRKP</th>\n",
       "      <th>MRKC</th>\n",
       "      <th>SVAV</th>\n",
       "      <th>SNGS</th>\n",
       "      <th>SNGSP</th>\n",
       "      <th>TGKN</th>\n",
       "      <th>TRMK</th>\n",
       "      <th>VSMO</th>\n",
       "      <th>MGTSP</th>\n",
       "    </tr>\n",
       "    <tr>\n",
       "      <th>TRADEDATE</th>\n",
       "      <th></th>\n",
       "      <th></th>\n",
       "      <th></th>\n",
       "      <th></th>\n",
       "      <th></th>\n",
       "      <th></th>\n",
       "      <th></th>\n",
       "      <th></th>\n",
       "      <th></th>\n",
       "      <th></th>\n",
       "      <th></th>\n",
       "      <th></th>\n",
       "      <th></th>\n",
       "      <th></th>\n",
       "      <th></th>\n",
       "      <th></th>\n",
       "      <th></th>\n",
       "      <th></th>\n",
       "      <th></th>\n",
       "      <th></th>\n",
       "      <th></th>\n",
       "    </tr>\n",
       "  </thead>\n",
       "  <tbody>\n",
       "    <tr>\n",
       "      <th>2022-06-01</th>\n",
       "      <td>5.602</td>\n",
       "      <td>74.82</td>\n",
       "      <td>0.018495</td>\n",
       "      <td>57.990</td>\n",
       "      <td>613.0</td>\n",
       "      <td>64.50</td>\n",
       "      <td>13.190</td>\n",
       "      <td>27.94</td>\n",
       "      <td>2312</td>\n",
       "      <td>297.69</td>\n",
       "      <td>...</td>\n",
       "      <td>0.1878</td>\n",
       "      <td>0.2111</td>\n",
       "      <td>0.2850</td>\n",
       "      <td>177.5</td>\n",
       "      <td>22.200</td>\n",
       "      <td>35.590</td>\n",
       "      <td>0.00262</td>\n",
       "      <td>53.90</td>\n",
       "      <td>58680</td>\n",
       "      <td>684</td>\n",
       "    </tr>\n",
       "    <tr>\n",
       "      <th>2022-06-02</th>\n",
       "      <td>5.532</td>\n",
       "      <td>72.96</td>\n",
       "      <td>0.017935</td>\n",
       "      <td>60.500</td>\n",
       "      <td>609.5</td>\n",
       "      <td>64.78</td>\n",
       "      <td>12.826</td>\n",
       "      <td>26.98</td>\n",
       "      <td>2296</td>\n",
       "      <td>296.00</td>\n",
       "      <td>...</td>\n",
       "      <td>0.1890</td>\n",
       "      <td>0.2106</td>\n",
       "      <td>0.2838</td>\n",
       "      <td>175.0</td>\n",
       "      <td>22.000</td>\n",
       "      <td>36.050</td>\n",
       "      <td>0.00261</td>\n",
       "      <td>52.64</td>\n",
       "      <td>61000</td>\n",
       "      <td>682</td>\n",
       "    </tr>\n",
       "    <tr>\n",
       "      <th>2022-06-03</th>\n",
       "      <td>5.461</td>\n",
       "      <td>70.12</td>\n",
       "      <td>0.017550</td>\n",
       "      <td>60.800</td>\n",
       "      <td>594.5</td>\n",
       "      <td>65.22</td>\n",
       "      <td>12.843</td>\n",
       "      <td>26.74</td>\n",
       "      <td>2275</td>\n",
       "      <td>297.00</td>\n",
       "      <td>...</td>\n",
       "      <td>0.1890</td>\n",
       "      <td>0.2121</td>\n",
       "      <td>0.2828</td>\n",
       "      <td>173.5</td>\n",
       "      <td>21.605</td>\n",
       "      <td>35.915</td>\n",
       "      <td>0.00262</td>\n",
       "      <td>51.74</td>\n",
       "      <td>60600</td>\n",
       "      <td>660</td>\n",
       "    </tr>\n",
       "    <tr>\n",
       "      <th>2022-06-06</th>\n",
       "      <td>5.442</td>\n",
       "      <td>71.22</td>\n",
       "      <td>0.017415</td>\n",
       "      <td>60.405</td>\n",
       "      <td>576.0</td>\n",
       "      <td>66.80</td>\n",
       "      <td>12.540</td>\n",
       "      <td>25.92</td>\n",
       "      <td>2336</td>\n",
       "      <td>296.50</td>\n",
       "      <td>...</td>\n",
       "      <td>0.1914</td>\n",
       "      <td>0.2119</td>\n",
       "      <td>0.2810</td>\n",
       "      <td>175.0</td>\n",
       "      <td>21.475</td>\n",
       "      <td>36.020</td>\n",
       "      <td>0.00263</td>\n",
       "      <td>51.70</td>\n",
       "      <td>60820</td>\n",
       "      <td>654</td>\n",
       "    </tr>\n",
       "    <tr>\n",
       "      <th>2022-06-07</th>\n",
       "      <td>5.433</td>\n",
       "      <td>71.05</td>\n",
       "      <td>0.017210</td>\n",
       "      <td>60.295</td>\n",
       "      <td>572.0</td>\n",
       "      <td>66.22</td>\n",
       "      <td>12.470</td>\n",
       "      <td>27.20</td>\n",
       "      <td>2330</td>\n",
       "      <td>297.99</td>\n",
       "      <td>...</td>\n",
       "      <td>0.1910</td>\n",
       "      <td>0.2109</td>\n",
       "      <td>0.2804</td>\n",
       "      <td>174.5</td>\n",
       "      <td>21.735</td>\n",
       "      <td>35.830</td>\n",
       "      <td>0.00264</td>\n",
       "      <td>52.02</td>\n",
       "      <td>60660</td>\n",
       "      <td>680</td>\n",
       "    </tr>\n",
       "    <tr>\n",
       "      <th>...</th>\n",
       "      <td>...</td>\n",
       "      <td>...</td>\n",
       "      <td>...</td>\n",
       "      <td>...</td>\n",
       "      <td>...</td>\n",
       "      <td>...</td>\n",
       "      <td>...</td>\n",
       "      <td>...</td>\n",
       "      <td>...</td>\n",
       "      <td>...</td>\n",
       "      <td>...</td>\n",
       "      <td>...</td>\n",
       "      <td>...</td>\n",
       "      <td>...</td>\n",
       "      <td>...</td>\n",
       "      <td>...</td>\n",
       "      <td>...</td>\n",
       "      <td>...</td>\n",
       "      <td>...</td>\n",
       "      <td>...</td>\n",
       "      <td>...</td>\n",
       "    </tr>\n",
       "    <tr>\n",
       "      <th>2023-03-27</th>\n",
       "      <td>7.157</td>\n",
       "      <td>65.44</td>\n",
       "      <td>0.018340</td>\n",
       "      <td>41.395</td>\n",
       "      <td>415.5</td>\n",
       "      <td>154.00</td>\n",
       "      <td>14.508</td>\n",
       "      <td>32.92</td>\n",
       "      <td>4009</td>\n",
       "      <td>172.33</td>\n",
       "      <td>...</td>\n",
       "      <td>0.1950</td>\n",
       "      <td>0.2094</td>\n",
       "      <td>0.2874</td>\n",
       "      <td>240.5</td>\n",
       "      <td>23.760</td>\n",
       "      <td>31.695</td>\n",
       "      <td>0.00366</td>\n",
       "      <td>104.48</td>\n",
       "      <td>47040</td>\n",
       "      <td>1332</td>\n",
       "    </tr>\n",
       "    <tr>\n",
       "      <th>2023-03-28</th>\n",
       "      <td>7.408</td>\n",
       "      <td>64.87</td>\n",
       "      <td>0.018300</td>\n",
       "      <td>41.115</td>\n",
       "      <td>410.5</td>\n",
       "      <td>152.10</td>\n",
       "      <td>14.391</td>\n",
       "      <td>32.36</td>\n",
       "      <td>4038</td>\n",
       "      <td>171.07</td>\n",
       "      <td>...</td>\n",
       "      <td>0.1946</td>\n",
       "      <td>0.2089</td>\n",
       "      <td>0.2872</td>\n",
       "      <td>239.0</td>\n",
       "      <td>23.645</td>\n",
       "      <td>31.505</td>\n",
       "      <td>0.00380</td>\n",
       "      <td>103.00</td>\n",
       "      <td>46500</td>\n",
       "      <td>1324</td>\n",
       "    </tr>\n",
       "    <tr>\n",
       "      <th>2023-03-29</th>\n",
       "      <td>7.454</td>\n",
       "      <td>64.56</td>\n",
       "      <td>0.018340</td>\n",
       "      <td>41.030</td>\n",
       "      <td>420.0</td>\n",
       "      <td>150.09</td>\n",
       "      <td>14.634</td>\n",
       "      <td>32.27</td>\n",
       "      <td>4032</td>\n",
       "      <td>170.95</td>\n",
       "      <td>...</td>\n",
       "      <td>0.1950</td>\n",
       "      <td>0.2084</td>\n",
       "      <td>0.2876</td>\n",
       "      <td>238.0</td>\n",
       "      <td>23.775</td>\n",
       "      <td>31.460</td>\n",
       "      <td>0.00375</td>\n",
       "      <td>102.70</td>\n",
       "      <td>46580</td>\n",
       "      <td>1312</td>\n",
       "    </tr>\n",
       "    <tr>\n",
       "      <th>2023-03-30</th>\n",
       "      <td>7.441</td>\n",
       "      <td>66.51</td>\n",
       "      <td>0.018360</td>\n",
       "      <td>40.940</td>\n",
       "      <td>442.0</td>\n",
       "      <td>149.96</td>\n",
       "      <td>14.544</td>\n",
       "      <td>32.74</td>\n",
       "      <td>4023</td>\n",
       "      <td>171.71</td>\n",
       "      <td>...</td>\n",
       "      <td>0.1996</td>\n",
       "      <td>0.2087</td>\n",
       "      <td>0.2900</td>\n",
       "      <td>237.0</td>\n",
       "      <td>23.880</td>\n",
       "      <td>32.160</td>\n",
       "      <td>0.00415</td>\n",
       "      <td>100.72</td>\n",
       "      <td>47020</td>\n",
       "      <td>1322</td>\n",
       "    </tr>\n",
       "    <tr>\n",
       "      <th>2023-03-31</th>\n",
       "      <td>7.158</td>\n",
       "      <td>65.99</td>\n",
       "      <td>0.018140</td>\n",
       "      <td>40.400</td>\n",
       "      <td>434.0</td>\n",
       "      <td>148.50</td>\n",
       "      <td>14.787</td>\n",
       "      <td>31.65</td>\n",
       "      <td>4037</td>\n",
       "      <td>169.83</td>\n",
       "      <td>...</td>\n",
       "      <td>0.2002</td>\n",
       "      <td>0.2072</td>\n",
       "      <td>0.2880</td>\n",
       "      <td>235.0</td>\n",
       "      <td>23.520</td>\n",
       "      <td>31.645</td>\n",
       "      <td>0.00408</td>\n",
       "      <td>100.08</td>\n",
       "      <td>46560</td>\n",
       "      <td>1298</td>\n",
       "    </tr>\n",
       "  </tbody>\n",
       "</table>\n",
       "<p>213 rows × 70 columns</p>\n",
       "</div>"
      ],
      "text/plain": [
       "             CBOM   ALRS      VTBR    RUAL   ENPG    BSPB    AFKS   AFLT  \\\n",
       "TRADEDATE                                                                  \n",
       "2022-06-01  5.602  74.82  0.018495  57.990  613.0   64.50  13.190  27.94   \n",
       "2022-06-02  5.532  72.96  0.017935  60.500  609.5   64.78  12.826  26.98   \n",
       "2022-06-03  5.461  70.12  0.017550  60.800  594.5   65.22  12.843  26.74   \n",
       "2022-06-06  5.442  71.22  0.017415  60.405  576.0   66.80  12.540  25.92   \n",
       "2022-06-07  5.433  71.05  0.017210  60.295  572.0   66.22  12.470  27.20   \n",
       "...           ...    ...       ...     ...    ...     ...     ...    ...   \n",
       "2023-03-27  7.157  65.44  0.018340  41.395  415.5  154.00  14.508  32.92   \n",
       "2023-03-28  7.408  64.87  0.018300  41.115  410.5  152.10  14.391  32.36   \n",
       "2023-03-29  7.454  64.56  0.018340  41.030  420.0  150.09  14.634  32.27   \n",
       "2023-03-30  7.441  66.51  0.018360  40.940  442.0  149.96  14.544  32.74   \n",
       "2023-03-31  7.158  65.99  0.018140  40.400  434.0  148.50  14.787  31.65   \n",
       "\n",
       "            BELU    GAZP  ...    MRKU    MRKP    MRKC   SVAV    SNGS   SNGSP  \\\n",
       "TRADEDATE                 ...                                                  \n",
       "2022-06-01  2312  297.69  ...  0.1878  0.2111  0.2850  177.5  22.200  35.590   \n",
       "2022-06-02  2296  296.00  ...  0.1890  0.2106  0.2838  175.0  22.000  36.050   \n",
       "2022-06-03  2275  297.00  ...  0.1890  0.2121  0.2828  173.5  21.605  35.915   \n",
       "2022-06-06  2336  296.50  ...  0.1914  0.2119  0.2810  175.0  21.475  36.020   \n",
       "2022-06-07  2330  297.99  ...  0.1910  0.2109  0.2804  174.5  21.735  35.830   \n",
       "...          ...     ...  ...     ...     ...     ...    ...     ...     ...   \n",
       "2023-03-27  4009  172.33  ...  0.1950  0.2094  0.2874  240.5  23.760  31.695   \n",
       "2023-03-28  4038  171.07  ...  0.1946  0.2089  0.2872  239.0  23.645  31.505   \n",
       "2023-03-29  4032  170.95  ...  0.1950  0.2084  0.2876  238.0  23.775  31.460   \n",
       "2023-03-30  4023  171.71  ...  0.1996  0.2087  0.2900  237.0  23.880  32.160   \n",
       "2023-03-31  4037  169.83  ...  0.2002  0.2072  0.2880  235.0  23.520  31.645   \n",
       "\n",
       "               TGKN    TRMK   VSMO  MGTSP  \n",
       "TRADEDATE                                  \n",
       "2022-06-01  0.00262   53.90  58680    684  \n",
       "2022-06-02  0.00261   52.64  61000    682  \n",
       "2022-06-03  0.00262   51.74  60600    660  \n",
       "2022-06-06  0.00263   51.70  60820    654  \n",
       "2022-06-07  0.00264   52.02  60660    680  \n",
       "...             ...     ...    ...    ...  \n",
       "2023-03-27  0.00366  104.48  47040   1332  \n",
       "2023-03-28  0.00380  103.00  46500   1324  \n",
       "2023-03-29  0.00375  102.70  46580   1312  \n",
       "2023-03-30  0.00415  100.72  47020   1322  \n",
       "2023-03-31  0.00408  100.08  46560   1298  \n",
       "\n",
       "[213 rows x 70 columns]"
      ]
     },
     "execution_count": 45,
     "metadata": {},
     "output_type": "execute_result"
    }
   ],
   "source": [
    "# Get close price data\n",
    "\n",
    "# Trade mode\n",
    "board = 'TQBR'\n",
    "\n",
    "# Start and end date\n",
    "start = \"2022-06-01\"\n",
    "end = \"2023-04-01\"\n",
    "\n",
    "end = datetime.strptime(end, \"%Y-%m-%d\")\n",
    "end = end + timedelta(days=1)\n",
    "end = end.strftime(\"%Y-%m-%d\")\n",
    "\n",
    "# Load tickers from file\n",
    "with open(\"TICKERS.txt\", \"r\") as TICKs:\n",
    "    TICKs = [line.rstrip() for line in TICKs]\n",
    "\n",
    "# Initialize an empty dataframe for the combined data\n",
    "all_data = None\n",
    "\n",
    "process = 0\n",
    "with requests.Session() as session:\n",
    "    for TICK in TICKs:\n",
    "        process = process + 1\n",
    "        print(round(process / len(TICKs) * 100, 2), \"%\")\n",
    "        data = apimoex.get_board_history(session, TICK, board=board, start=start, end=end)\n",
    "        \n",
    "        if not data:\n",
    "            continue\n",
    "        \n",
    "        df = pd.DataFrame(data)\n",
    "        df = df[['TRADEDATE', 'CLOSE']]\n",
    "        \n",
    "        # Rename 'CLOSE' column to the ticker name\n",
    "        df = df.rename(columns={'CLOSE': TICK})\n",
    "\n",
    "        # If all_data is empty, assign df to it. Otherwise, merge on 'TRADEDATE'\n",
    "        if all_data is None:\n",
    "            all_data = df\n",
    "        else:\n",
    "            all_data = all_data.merge(df, on='TRADEDATE', how='outer')\n",
    "\n",
    "all_data['TRADEDATE'] = pd.to_datetime(all_data['TRADEDATE'])\n",
    "\n",
    "# Sort by TRADEDATE\n",
    "all_data = all_data.sort_values(by='TRADEDATE', ascending=True)\n",
    "\n",
    "# Set TRADEDATE as index column\n",
    "all_data.set_index('TRADEDATE', inplace=True)\n",
    "\n",
    "df = all_data\n",
    "df"
   ]
  },
  {
   "cell_type": "code",
   "execution_count": 46,
   "id": "9608a744-1ca3-45d1-8fd4-0ca7c54d4a91",
   "metadata": {},
   "outputs": [
    {
     "name": "stdout",
     "output_type": "stream",
     "text": [
      "OrderedDict([('CBOM', 0.0), ('ALRS', 0.0), ('VTBR', 0.0), ('RUAL', 0.0), ('ENPG', 0.0), ('BSPB', 0.27657), ('AFKS', 0.0), ('AFLT', 0.0), ('BELU', 0.18781), ('GAZP', 0.0), ('GMKN', 0.0), ('LSRG', 0.0), ('POSI', 0.24064), ('RENI', 0.0), ('DSKY', 0.0), ('IRAO', 0.0), ('MVID', 0.0), ('MAGN', 0.0), ('MTLR', 0.0), ('MTLRP', 0.0), ('MTSS', 0.0), ('MOEX', 0.0), ('LKOH', 0.0), ('NLMK', 0.0), ('PIKK', 0.0), ('PLZL', 0.0), ('RTKM', 0.0), ('RTKMP', 0.0), ('SBER', 0.0), ('SBERP', 0.10416), ('CHMF', 0.0), ('SELG', 0.0), ('FLOT', 0.0), ('TGKA', 0.0), ('TRNFP', 0.0), ('HYDR', 0.0), ('FEES', 0.0), ('PHOR', 0.0), ('ELFV', 0.0), ('SFIN', 0.0), ('UPRO', 0.0), ('SGZH', 0.0), ('RNFT', 0.0), ('MSNG', 0.0), ('SMLT', 0.0), ('NVTK', 0.0), ('ROSN', 0.0), ('TATN', 0.0), ('TATNP', 0.0), ('AQUA', 0.0), ('AKRN', 0.0), ('APTK', 0.0), ('OGKB', 0.0), ('FESH', 0.0), ('KMAZ', 0.0), ('RASP', 0.0), ('MRKV', 0.0), ('MSRS', 0.0), ('MRKZ', 0.0), ('MRKS', 0.0), ('MRKU', 0.0), ('MRKP', 0.0), ('MRKC', 0.0), ('SVAV', 0.0), ('SNGS', 0.0), ('SNGSP', 0.0), ('TGKN', 0.05572), ('TRMK', 0.13509), ('VSMO', 0.0), ('MGTSP', 0.0)])\n",
      "Expected annual return: 123.5%\n",
      "Annual volatility: 23.3%\n",
      "Sharpe Ratio: 5.21\n"
     ]
    },
    {
     "data": {
      "text/plain": [
       "(1.2353277717934172, 0.233419212400731, 5.2066312763790785)"
      ]
     },
     "execution_count": 46,
     "metadata": {},
     "output_type": "execute_result"
    }
   ],
   "source": [
    "# Maximum Sharpe Ratio Portfolio\n",
    "\n",
    "assets = df.iloc[:, :].columns\n",
    "\n",
    "# Calculate all assets risk and returns\n",
    "\n",
    "mu = expected_returns.mean_historical_return(df.iloc[:, :].ffill())\n",
    "s = risk_models.CovarianceShrinkage(df.iloc[:, :].ffill()).ledoit_wolf()\n",
    "\n",
    "\n",
    "# Use efficient frontier to determine weights\n",
    "\n",
    "ef = EfficientFrontier(mu, s)\n",
    "weights = ef.max_sharpe()\n",
    "\n",
    "cleaned_weights = ef.clean_weights()\n",
    "\n",
    "print(cleaned_weights)\n",
    "ef.portfolio_performance(verbose=True)"
   ]
  },
  {
   "cell_type": "code",
   "execution_count": 47,
   "id": "1c0067ac-37b8-4a44-ac00-a24fddb2e746",
   "metadata": {
    "scrolled": true
   },
   "outputs": [
    {
     "name": "stdout",
     "output_type": "stream",
     "text": [
      "Discrete Allocation:  {'BSPB': 1862, 'POSI': 140, 'BELU': 46, 'TRMK': 1349, 'SBERP': 482, 'TGKN': 13656862}\n",
      "Funds Remaining:  2676.2030400000076\n"
     ]
    }
   ],
   "source": [
    "# Calculate allocation\n",
    "\n",
    "portfolio_val = 1000000\n",
    "latest_prices = get_latest_prices(df)\n",
    "weights = cleaned_weights\n",
    "da = DiscreteAllocation(weights, latest_prices, total_portfolio_value = portfolio_val)\n",
    "allocation, leftover = da.greedy_portfolio()\n",
    "print('Discrete Allocation: ', allocation)\n",
    "print('Funds Remaining: ', leftover)"
   ]
  },
  {
   "cell_type": "code",
   "execution_count": 48,
   "id": "c4255daa-da2f-4c1e-a940-fae235b9239c",
   "metadata": {},
   "outputs": [
    {
     "name": "stderr",
     "output_type": "stream",
     "text": [
      "c:\\Users\\Gegenubr\\anaconda3\\Lib\\site-packages\\cvxpy\\reductions\\solvers\\solving_chain.py:336: FutureWarning:\n",
      "\n",
      "\n",
      "    Your problem is being solved with the ECOS solver by default. Starting in \n",
      "    CVXPY 1.5.0, Clarabel will be used as the default solver instead. To continue \n",
      "    using ECOS, specify the ECOS solver explicitly using the ``solver=cp.ECOS`` \n",
      "    argument to the ``problem.solve`` method.\n",
      "    \n",
      "\n"
     ]
    },
    {
     "data": {
      "image/png": "[encoded data removed]",
      "text/plain": [
       "<Figure size 640x480 with 1 Axes>"
      ]
     },
     "metadata": {},
     "output_type": "display_data"
    },
    {
     "data": {
      "application/vnd.plotly.v1+json": {
       "config": {
        "plotlyServerURL": "https://plot.ly"
       },
       "data": [
        {
         "labels": [
          "BSPB",
          "BELU",
          "POSI",
          "SBERP",
          "TGKN",
          "TRMK"
         ],
         "marker": {
          "line": {
           "color": "#000000",
           "width": 1
          }
         },
         "pull": [
          0,
          0,
          0,
          0,
          0,
          0
         ],
         "textfont": {
          "size": 10
         },
         "textinfo": "percent+label",
         "textposition": "inside",
         "type": "pie",
         "values": [
          0.27657,
          0.18781,
          0.24064,
          0.10416,
          0.05572,
          0.13509
         ]
        }
       ],
       "layout": {
        "autosize": false,
        "height": 600,
        "template": {
         "data": {
          "bar": [
           {
            "error_x": {
             "color": "#2a3f5f"
            },
            "error_y": {
             "color": "#2a3f5f"
            },
            "marker": {
             "line": {
              "color": "#E5ECF6",
              "width": 0.5
             },
             "pattern": {
              "fillmode": "overlay",
              "size": 10,
              "solidity": 0.2
             }
            },
            "type": "bar"
           }
          ],
          "barpolar": [
           {
            "marker": {
             "line": {
              "color": "#E5ECF6",
              "width": 0.5
             },
             "pattern": {
              "fillmode": "overlay",
              "size": 10,
              "solidity": 0.2
             }
            },
            "type": "barpolar"
           }
          ],
          "carpet": [
           {
            "aaxis": {
             "endlinecolor": "#2a3f5f",
             "gridcolor": "white",
             "linecolor": "white",
             "minorgridcolor": "white",
             "startlinecolor": "#2a3f5f"
            },
            "baxis": {
             "endlinecolor": "#2a3f5f",
             "gridcolor": "white",
             "linecolor": "white",
             "minorgridcolor": "white",
             "startlinecolor": "#2a3f5f"
            },
            "type": "carpet"
           }
          ],
          "choropleth": [
           {
            "colorbar": {
             "outlinewidth": 0,
             "ticks": ""
            },
            "type": "choropleth"
           }
          ],
          "contour": [
           {
            "colorbar": {
             "outlinewidth": 0,
             "ticks": ""
            },
            "colorscale": [
             [
              0,
              "#0d0887"
             ],
             [
              0.1111111111111111,
              "#46039f"
             ],
             [
              0.2222222222222222,
              "#7201a8"
             ],
             [
              0.3333333333333333,
              "#9c179e"
             ],
             [
              0.4444444444444444,
              "#bd3786"
             ],
             [
              0.5555555555555556,
              "#d8576b"
             ],
             [
              0.6666666666666666,
              "#ed7953"
             ],
             [
              0.7777777777777778,
              "#fb9f3a"
             ],
             [
              0.8888888888888888,
              "#fdca26"
             ],
             [
              1,
              "#f0f921"
             ]
            ],
            "type": "contour"
           }
          ],
          "contourcarpet": [
           {
            "colorbar": {
             "outlinewidth": 0,
             "ticks": ""
            },
            "type": "contourcarpet"
           }
          ],
          "heatmap": [
           {
            "colorbar": {
             "outlinewidth": 0,
             "ticks": ""
            },
            "colorscale": [
             [
              0,
              "#0d0887"
             ],
             [
              0.1111111111111111,
              "#46039f"
             ],
             [
              0.2222222222222222,
              "#7201a8"
             ],
             [
              0.3333333333333333,
              "#9c179e"
             ],
             [
              0.4444444444444444,
              "#bd3786"
             ],
             [
              0.5555555555555556,
              "#d8576b"
             ],
             [
              0.6666666666666666,
              "#ed7953"
             ],
             [
              0.7777777777777778,
              "#fb9f3a"
             ],
             [
              0.8888888888888888,
              "#fdca26"
             ],
             [
              1,
              "#f0f921"
             ]
            ],
            "type": "heatmap"
           }
          ],
          "heatmapgl": [
           {
            "colorbar": {
             "outlinewidth": 0,
             "ticks": ""
            },
            "colorscale": [
             [
              0,
              "#0d0887"
             ],
             [
              0.1111111111111111,
              "#46039f"
             ],
             [
              0.2222222222222222,
              "#7201a8"
             ],
             [
              0.3333333333333333,
              "#9c179e"
             ],
             [
              0.4444444444444444,
              "#bd3786"
             ],
             [
              0.5555555555555556,
              "#d8576b"
             ],
             [
              0.6666666666666666,
              "#ed7953"
             ],
             [
              0.7777777777777778,
              "#fb9f3a"
             ],
             [
              0.8888888888888888,
              "#fdca26"
             ],
             [
              1,
              "#f0f921"
             ]
            ],
            "type": "heatmapgl"
           }
          ],
          "histogram": [
           {
            "marker": {
             "pattern": {
              "fillmode": "overlay",
              "size": 10,
              "solidity": 0.2
             }
            },
            "type": "histogram"
           }
          ],
          "histogram2d": [
           {
            "colorbar": {
             "outlinewidth": 0,
             "ticks": ""
            },
            "colorscale": [
             [
              0,
              "#0d0887"
             ],
             [
              0.1111111111111111,
              "#46039f"
             ],
             [
              0.2222222222222222,
              "#7201a8"
             ],
             [
              0.3333333333333333,
              "#9c179e"
             ],
             [
              0.4444444444444444,
              "#bd3786"
             ],
             [
              0.5555555555555556,
              "#d8576b"
             ],
             [
              0.6666666666666666,
              "#ed7953"
             ],
             [
              0.7777777777777778,
              "#fb9f3a"
             ],
             [
              0.8888888888888888,
              "#fdca26"
             ],
             [
              1,
              "#f0f921"
             ]
            ],
            "type": "histogram2d"
           }
          ],
          "histogram2dcontour": [
           {
            "colorbar": {
             "outlinewidth": 0,
             "ticks": ""
            },
            "colorscale": [
             [
              0,
              "#0d0887"
             ],
             [
              0.1111111111111111,
              "#46039f"
             ],
             [
              0.2222222222222222,
              "#7201a8"
             ],
             [
              0.3333333333333333,
              "#9c179e"
             ],
             [
              0.4444444444444444,
              "#bd3786"
             ],
             [
              0.5555555555555556,
              "#d8576b"
             ],
             [
              0.6666666666666666,
              "#ed7953"
             ],
             [
              0.7777777777777778,
              "#fb9f3a"
             ],
             [
              0.8888888888888888,
              "#fdca26"
             ],
             [
              1,
              "#f0f921"
             ]
            ],
            "type": "histogram2dcontour"
           }
          ],
          "mesh3d": [
           {
            "colorbar": {
             "outlinewidth": 0,
             "ticks": ""
            },
            "type": "mesh3d"
           }
          ],
          "parcoords": [
           {
            "line": {
             "colorbar": {
              "outlinewidth": 0,
              "ticks": ""
             }
            },
            "type": "parcoords"
           }
          ],
          "pie": [
           {
            "automargin": true,
            "type": "pie"
           }
          ],
          "scatter": [
           {
            "fillpattern": {
             "fillmode": "overlay",
             "size": 10,
             "solidity": 0.2
            },
            "type": "scatter"
           }
          ],
          "scatter3d": [
           {
            "line": {
             "colorbar": {
              "outlinewidth": 0,
              "ticks": ""
             }
            },
            "marker": {
             "colorbar": {
              "outlinewidth": 0,
              "ticks": ""
             }
            },
            "type": "scatter3d"
           }
          ],
          "scattercarpet": [
           {
            "marker": {
             "colorbar": {
              "outlinewidth": 0,
              "ticks": ""
             }
            },
            "type": "scattercarpet"
           }
          ],
          "scattergeo": [
           {
            "marker": {
             "colorbar": {
              "outlinewidth": 0,
              "ticks": ""
             }
            },
            "type": "scattergeo"
           }
          ],
          "scattergl": [
           {
            "marker": {
             "colorbar": {
              "outlinewidth": 0,
              "ticks": ""
             }
            },
            "type": "scattergl"
           }
          ],
          "scattermapbox": [
           {
            "marker": {
             "colorbar": {
              "outlinewidth": 0,
              "ticks": ""
             }
            },
            "type": "scattermapbox"
           }
          ],
          "scatterpolar": [
           {
            "marker": {
             "colorbar": {
              "outlinewidth": 0,
              "ticks": ""
             }
            },
            "type": "scatterpolar"
           }
          ],
          "scatterpolargl": [
           {
            "marker": {
             "colorbar": {
              "outlinewidth": 0,
              "ticks": ""
             }
            },
            "type": "scatterpolargl"
           }
          ],
          "scatterternary": [
           {
            "marker": {
             "colorbar": {
              "outlinewidth": 0,
              "ticks": ""
             }
            },
            "type": "scatterternary"
           }
          ],
          "surface": [
           {
            "colorbar": {
             "outlinewidth": 0,
             "ticks": ""
            },
            "colorscale": [
             [
              0,
              "#0d0887"
             ],
             [
              0.1111111111111111,
              "#46039f"
             ],
             [
              0.2222222222222222,
              "#7201a8"
             ],
             [
              0.3333333333333333,
              "#9c179e"
             ],
             [
              0.4444444444444444,
              "#bd3786"
             ],
             [
              0.5555555555555556,
              "#d8576b"
             ],
             [
              0.6666666666666666,
              "#ed7953"
             ],
             [
              0.7777777777777778,
              "#fb9f3a"
             ],
             [
              0.8888888888888888,
              "#fdca26"
             ],
             [
              1,
              "#f0f921"
             ]
            ],
            "type": "surface"
           }
          ],
          "table": [
           {
            "cells": {
             "fill": {
              "color": "#EBF0F8"
             },
             "line": {
              "color": "white"
             }
            },
            "header": {
             "fill": {
              "color": "#C8D4E3"
             },
             "line": {
              "color": "white"
             }
            },
            "type": "table"
           }
          ]
         },
         "layout": {
          "annotationdefaults": {
           "arrowcolor": "#2a3f5f",
           "arrowhead": 0,
           "arrowwidth": 1
          },
          "autotypenumbers": "strict",
          "coloraxis": {
           "colorbar": {
            "outlinewidth": 0,
            "ticks": ""
           }
          },
          "colorscale": {
           "diverging": [
            [
             0,
             "#8e0152"
            ],
            [
             0.1,
             "#c51b7d"
            ],
            [
             0.2,
             "#de77ae"
            ],
            [
             0.3,
             "#f1b6da"
            ],
            [
             0.4,
             "#fde0ef"
            ],
            [
             0.5,
             "#f7f7f7"
            ],
            [
             0.6,
             "#e6f5d0"
            ],
            [
             0.7,
             "#b8e186"
            ],
            [
             0.8,
             "#7fbc41"
            ],
            [
             0.9,
             "#4d9221"
            ],
            [
             1,
             "#276419"
            ]
           ],
           "sequential": [
            [
             0,
             "#0d0887"
            ],
            [
             0.1111111111111111,
             "#46039f"
            ],
            [
             0.2222222222222222,
             "#7201a8"
            ],
            [
             0.3333333333333333,
             "#9c179e"
            ],
            [
             0.4444444444444444,
             "#bd3786"
            ],
            [
             0.5555555555555556,
             "#d8576b"
            ],
            [
             0.6666666666666666,
             "#ed7953"
            ],
            [
             0.7777777777777778,
             "#fb9f3a"
            ],
            [
             0.8888888888888888,
             "#fdca26"
            ],
            [
             1,
             "#f0f921"
            ]
           ],
           "sequentialminus": [
            [
             0,
             "#0d0887"
            ],
            [
             0.1111111111111111,
             "#46039f"
            ],
            [
             0.2222222222222222,
             "#7201a8"
            ],
            [
             0.3333333333333333,
             "#9c179e"
            ],
            [
             0.4444444444444444,
             "#bd3786"
            ],
            [
             0.5555555555555556,
             "#d8576b"
            ],
            [
             0.6666666666666666,
             "#ed7953"
            ],
            [
             0.7777777777777778,
             "#fb9f3a"
            ],
            [
             0.8888888888888888,
             "#fdca26"
            ],
            [
             1,
             "#f0f921"
            ]
           ]
          },
          "colorway": [
           "#636efa",
           "#EF553B",
           "#00cc96",
           "#ab63fa",
           "#FFA15A",
           "#19d3f3",
           "#FF6692",
           "#B6E880",
           "#FF97FF",
           "#FECB52"
          ],
          "font": {
           "color": "#2a3f5f"
          },
          "geo": {
           "bgcolor": "white",
           "lakecolor": "white",
           "landcolor": "#E5ECF6",
           "showlakes": true,
           "showland": true,
           "subunitcolor": "white"
          },
          "hoverlabel": {
           "align": "left"
          },
          "hovermode": "closest",
          "mapbox": {
           "style": "light"
          },
          "paper_bgcolor": "white",
          "plot_bgcolor": "#E5ECF6",
          "polar": {
           "angularaxis": {
            "gridcolor": "white",
            "linecolor": "white",
            "ticks": ""
           },
           "bgcolor": "#E5ECF6",
           "radialaxis": {
            "gridcolor": "white",
            "linecolor": "white",
            "ticks": ""
           }
          },
          "scene": {
           "xaxis": {
            "backgroundcolor": "#E5ECF6",
            "gridcolor": "white",
            "gridwidth": 2,
            "linecolor": "white",
            "showbackground": true,
            "ticks": "",
            "zerolinecolor": "white"
           },
           "yaxis": {
            "backgroundcolor": "#E5ECF6",
            "gridcolor": "white",
            "gridwidth": 2,
            "linecolor": "white",
            "showbackground": true,
            "ticks": "",
            "zerolinecolor": "white"
           },
           "zaxis": {
            "backgroundcolor": "#E5ECF6",
            "gridcolor": "white",
            "gridwidth": 2,
            "linecolor": "white",
            "showbackground": true,
            "ticks": "",
            "zerolinecolor": "white"
           }
          },
          "shapedefaults": {
           "line": {
            "color": "#2a3f5f"
           }
          },
          "ternary": {
           "aaxis": {
            "gridcolor": "white",
            "linecolor": "white",
            "ticks": ""
           },
           "baxis": {
            "gridcolor": "white",
            "linecolor": "white",
            "ticks": ""
           },
           "bgcolor": "#E5ECF6",
           "caxis": {
            "gridcolor": "white",
            "linecolor": "white",
            "ticks": ""
           }
          },
          "title": {
           "x": 0.05
          },
          "xaxis": {
           "automargin": true,
           "gridcolor": "white",
           "linecolor": "white",
           "ticks": "",
           "title": {
            "standoff": 15
           },
           "zerolinecolor": "white",
           "zerolinewidth": 2
          },
          "yaxis": {
           "automargin": true,
           "gridcolor": "white",
           "linecolor": "white",
           "ticks": "",
           "title": {
            "standoff": 15
           },
           "zerolinecolor": "white",
           "zerolinewidth": 2
          }
         }
        },
        "title": {
         "text": "Portfolio Allocation"
        },
        "width": 800
       }
      }
     },
     "metadata": {},
     "output_type": "display_data"
    }
   ],
   "source": [
    "plt.style.use('classic')\n",
    "\n",
    "# Create a new Efficient Frontier object for plotting\n",
    "ef_plot = EfficientFrontier(mu, s)\n",
    "\n",
    "# Plotting the efficient frontier\n",
    "fig, ax = plt.subplots()\n",
    "plotting.plot_efficient_frontier(ef_plot, ax=ax, show_assets=True)\n",
    "\n",
    "# Now create a new Efficient Frontier object for finding the tangency portfolio\n",
    "ef_tangency = EfficientFrontier(mu, s)\n",
    "ef_tangency.max_sharpe()\n",
    "ret_tangent, std_tangent, _ = ef_tangency.portfolio_performance()\n",
    "ax.scatter(std_tangent, ret_tangent, marker=\"*\", s=100, c=\"r\", label=\"Max Sharpe\")\n",
    "\n",
    "# Format the matplotlib plot\n",
    "ax.set_title(\"Efficient Frontier with Maximum Sharpe Ratio Portfolio\")\n",
    "ax.legend()\n",
    "plt.tight_layout()\n",
    "plt.show()\n",
    "\n",
    "# Filter out portfolio weights that are 0 or very close to 0\n",
    "non_zero_weights = {ticker: weight for ticker, weight in cleaned_weights.items() if weight > 0}\n",
    "\n",
    "# Extract the labels and sizes for the pie chart\n",
    "labels = list(non_zero_weights.keys())\n",
    "sizes = list(non_zero_weights.values())\n",
    "sizes = [abs(x) for x in sizes]  # take the absolute value for plotting\n",
    "\n",
    "# Create the figure for the pie chart\n",
    "fig = go.Figure(data=[go.Pie(labels=labels, values=sizes)])\n",
    "\n",
    "# Adjust the layout of the pie chart\n",
    "fig.update_layout(\n",
    "    title_text='Portfolio Allocation',\n",
    "    autosize=False,\n",
    "    width=800,\n",
    "    height=600,\n",
    ")\n",
    "\n",
    "# Improve label positioning\n",
    "fig.update_traces(\n",
    "    textinfo='percent+label',\n",
    "    textfont_size=10,\n",
    "    marker=dict(line=dict(color='#000000', width=1)),\n",
    "    pull=[0.05 if size > 10 else 0 for size in sizes],  # Pull out slices with size > 10%\n",
    "    textposition='inside'\n",
    ")\n",
    "\n",
    "# Plotting the portfolio allocation pie chart using Plotly\n",
    "labels = list(cleaned_weights.keys())\n",
    "sizes = list(cleaned_weights.values())\n",
    "sizes = [abs(x) for x in sizes]\n",
    "\n",
    "# Show the Plotly figure\n",
    "fig.show()"
   ]
  },
  {
   "cell_type": "code",
   "execution_count": 49,
   "id": "aebf8178-6ad6-498f-b9c0-13e7642c3798",
   "metadata": {},
   "outputs": [
    {
     "name": "stdout",
     "output_type": "stream",
     "text": [
      "OrderedDict([('CBOM', 0.1), ('ALRS', 0.0), ('VTBR', 0.0), ('RUAL', 0.0), ('ENPG', 0.0), ('BSPB', 0.1), ('AFKS', 0.0), ('AFLT', 0.0), ('BELU', 0.1), ('GAZP', 0.0), ('GMKN', 0.0), ('LSRG', 0.0), ('POSI', 0.1), ('RENI', 0.05817), ('DSKY', 0.0), ('IRAO', 0.0), ('MVID', 0.0), ('MAGN', 0.0), ('MTLR', 0.0), ('MTLRP', 0.0), ('MTSS', 0.0), ('MOEX', 0.0), ('LKOH', 0.0), ('NLMK', 0.0), ('PIKK', 0.0), ('PLZL', 0.0), ('RTKM', 0.0), ('RTKMP', 0.0), ('SBER', 0.1), ('SBERP', 0.1), ('CHMF', 0.0), ('SELG', 0.0), ('FLOT', 0.0), ('TGKA', 0.0), ('TRNFP', 0.0), ('HYDR', 0.0), ('FEES', 0.0), ('PHOR', 0.0), ('ELFV', 0.0), ('SFIN', 0.02224), ('UPRO', 0.02878), ('SGZH', 0.0), ('RNFT', 0.0024), ('MSNG', 0.0), ('SMLT', 0.0), ('NVTK', 0.0), ('ROSN', 0.0), ('TATN', 0.0), ('TATNP', 0.0), ('AQUA', 0.0), ('AKRN', 0.0), ('APTK', 0.0), ('OGKB', 0.0), ('FESH', 0.0), ('KMAZ', 0.0), ('RASP', 0.0), ('MRKV', 0.0), ('MSRS', 0.0), ('MRKZ', 0.0), ('MRKS', 0.0), ('MRKU', 0.0), ('MRKP', 0.0), ('MRKC', 0.0), ('SVAV', 0.05302), ('SNGS', 0.0), ('SNGSP', 0.0), ('TGKN', 0.1), ('TRMK', 0.1), ('VSMO', 0.0), ('MGTSP', 0.0354)])\n",
      "Expected annual return: 92.2%\n",
      "Annual volatility: 20.8%\n",
      "Sharpe Ratio: 4.34\n"
     ]
    },
    {
     "data": {
      "text/plain": [
       "(0.922097913967947, 0.20803164361633114, 4.336349500904148)"
      ]
     },
     "execution_count": 49,
     "metadata": {},
     "output_type": "execute_result"
    }
   ],
   "source": [
    "# Limited Order Size Portfolio\n",
    "\n",
    "assets = df.columns\n",
    "\n",
    "# Calculate all assets risk and returns\n",
    "\n",
    "mu_lim = expected_returns.mean_historical_return(df.ffill())\n",
    "s_lim = risk_models.CovarianceShrinkage(df.ffill()).ledoit_wolf()\n",
    "\n",
    "\n",
    "# Use efficient frontier to determine weights\n",
    "\n",
    "ef_lim = EfficientFrontier(mu_lim, s_lim, weight_bounds=(0, 0.1))\n",
    "weights_lim = ef_lim.max_sharpe()\n",
    "\n",
    "cleaned_weights_lim = ef_lim.clean_weights()\n",
    "\n",
    "print(cleaned_weights_lim)\n",
    "ef_lim.portfolio_performance(verbose=True)"
   ]
  },
  {
   "cell_type": "code",
   "execution_count": 50,
   "id": "da4545ed-bb50-46ce-b22e-512e1163c344",
   "metadata": {},
   "outputs": [
    {
     "name": "stdout",
     "output_type": "stream",
     "text": [
      "Discrete Allocation:  {'CBOM': 13971, 'BSPB': 673, 'BELU': 25, 'POSI': 58, 'SBER': 462, 'SBERP': 463, 'TGKN': 24509803, 'TRMK': 999, 'RENI': 1013, 'SVAV': 225, 'MGTSP': 27, 'UPRO': 14928, 'SFIN': 44, 'RNFT': 17}\n",
      "Funds Remaining:  0.12176000001640652\n"
     ]
    }
   ],
   "source": [
    "# Calculate allocation\n",
    "\n",
    "portfolio_val_lim = 1000000\n",
    "latest_prices_lim = get_latest_prices(df)\n",
    "weights_lim = cleaned_weights_lim\n",
    "da_lim = DiscreteAllocation(weights_lim, latest_prices_lim, total_portfolio_value = portfolio_val_lim)\n",
    "allocation_lim, leftover_lim = da_lim.greedy_portfolio()\n",
    "print('Discrete Allocation: ', allocation_lim)\n",
    "print('Funds Remaining: ', leftover_lim)"
   ]
  },
  {
   "cell_type": "code",
   "execution_count": 51,
   "id": "75279911-39a7-4673-8094-b39433e2891e",
   "metadata": {},
   "outputs": [
    {
     "name": "stderr",
     "output_type": "stream",
     "text": [
      "c:\\Users\\Gegenubr\\anaconda3\\Lib\\site-packages\\cvxpy\\reductions\\solvers\\solving_chain.py:336: FutureWarning:\n",
      "\n",
      "\n",
      "    Your problem is being solved with the ECOS solver by default. Starting in \n",
      "    CVXPY 1.5.0, Clarabel will be used as the default solver instead. To continue \n",
      "    using ECOS, specify the ECOS solver explicitly using the ``solver=cp.ECOS`` \n",
      "    argument to the ``problem.solve`` method.\n",
      "    \n",
      "\n"
     ]
    },
    {
     "data": {
      "image/png": "[encoded data removed]",
      "text/plain": [
       "<Figure size 640x480 with 1 Axes>"
      ]
     },
     "metadata": {},
     "output_type": "display_data"
    },
    {
     "data": {
      "application/vnd.plotly.v1+json": {
       "config": {
        "plotlyServerURL": "https://plot.ly"
       },
       "data": [
        {
         "labels": [
          "CBOM",
          "BSPB",
          "BELU",
          "POSI",
          "RENI",
          "SBER",
          "SBERP",
          "SFIN",
          "UPRO",
          "RNFT",
          "SVAV",
          "TGKN",
          "TRMK",
          "MGTSP"
         ],
         "marker": {
          "line": {
           "color": "#000000",
           "width": 1
          }
         },
         "pull": [
          0,
          0,
          0,
          0,
          0,
          0,
          0,
          0,
          0,
          0,
          0,
          0,
          0,
          0
         ],
         "textfont": {
          "size": 10
         },
         "textinfo": "percent+label",
         "textposition": "inside",
         "type": "pie",
         "values": [
          0.1,
          0.1,
          0.1,
          0.1,
          0.05817,
          0.1,
          0.1,
          0.02224,
          0.02878,
          0.0024,
          0.05302,
          0.1,
          0.1,
          0.0354
         ]
        }
       ],
       "layout": {
        "autosize": false,
        "height": 600,
        "template": {
         "data": {
          "bar": [
           {
            "error_x": {
             "color": "#2a3f5f"
            },
            "error_y": {
             "color": "#2a3f5f"
            },
            "marker": {
             "line": {
              "color": "#E5ECF6",
              "width": 0.5
             },
             "pattern": {
              "fillmode": "overlay",
              "size": 10,
              "solidity": 0.2
             }
            },
            "type": "bar"
           }
          ],
          "barpolar": [
           {
            "marker": {
             "line": {
              "color": "#E5ECF6",
              "width": 0.5
             },
             "pattern": {
              "fillmode": "overlay",
              "size": 10,
              "solidity": 0.2
             }
            },
            "type": "barpolar"
           }
          ],
          "carpet": [
           {
            "aaxis": {
             "endlinecolor": "#2a3f5f",
             "gridcolor": "white",
             "linecolor": "white",
             "minorgridcolor": "white",
             "startlinecolor": "#2a3f5f"
            },
            "baxis": {
             "endlinecolor": "#2a3f5f",
             "gridcolor": "white",
             "linecolor": "white",
             "minorgridcolor": "white",
             "startlinecolor": "#2a3f5f"
            },
            "type": "carpet"
           }
          ],
          "choropleth": [
           {
            "colorbar": {
             "outlinewidth": 0,
             "ticks": ""
            },
            "type": "choropleth"
           }
          ],
          "contour": [
           {
            "colorbar": {
             "outlinewidth": 0,
             "ticks": ""
            },
            "colorscale": [
             [
              0,
              "#0d0887"
             ],
             [
              0.1111111111111111,
              "#46039f"
             ],
             [
              0.2222222222222222,
              "#7201a8"
             ],
             [
              0.3333333333333333,
              "#9c179e"
             ],
             [
              0.4444444444444444,
              "#bd3786"
             ],
             [
              0.5555555555555556,
              "#d8576b"
             ],
             [
              0.6666666666666666,
              "#ed7953"
             ],
             [
              0.7777777777777778,
              "#fb9f3a"
             ],
             [
              0.8888888888888888,
              "#fdca26"
             ],
             [
              1,
              "#f0f921"
             ]
            ],
            "type": "contour"
           }
          ],
          "contourcarpet": [
           {
            "colorbar": {
             "outlinewidth": 0,
             "ticks": ""
            },
            "type": "contourcarpet"
           }
          ],
          "heatmap": [
           {
            "colorbar": {
             "outlinewidth": 0,
             "ticks": ""
            },
            "colorscale": [
             [
              0,
              "#0d0887"
             ],
             [
              0.1111111111111111,
              "#46039f"
             ],
             [
              0.2222222222222222,
              "#7201a8"
             ],
             [
              0.3333333333333333,
              "#9c179e"
             ],
             [
              0.4444444444444444,
              "#bd3786"
             ],
             [
              0.5555555555555556,
              "#d8576b"
             ],
             [
              0.6666666666666666,
              "#ed7953"
             ],
             [
              0.7777777777777778,
              "#fb9f3a"
             ],
             [
              0.8888888888888888,
              "#fdca26"
             ],
             [
              1,
              "#f0f921"
             ]
            ],
            "type": "heatmap"
           }
          ],
          "heatmapgl": [
           {
            "colorbar": {
             "outlinewidth": 0,
             "ticks": ""
            },
            "colorscale": [
             [
              0,
              "#0d0887"
             ],
             [
              0.1111111111111111,
              "#46039f"
             ],
             [
              0.2222222222222222,
              "#7201a8"
             ],
             [
              0.3333333333333333,
              "#9c179e"
             ],
             [
              0.4444444444444444,
              "#bd3786"
             ],
             [
              0.5555555555555556,
              "#d8576b"
             ],
             [
              0.6666666666666666,
              "#ed7953"
             ],
             [
              0.7777777777777778,
              "#fb9f3a"
             ],
             [
              0.8888888888888888,
              "#fdca26"
             ],
             [
              1,
              "#f0f921"
             ]
            ],
            "type": "heatmapgl"
           }
          ],
          "histogram": [
           {
            "marker": {
             "pattern": {
              "fillmode": "overlay",
              "size": 10,
              "solidity": 0.2
             }
            },
            "type": "histogram"
           }
          ],
          "histogram2d": [
           {
            "colorbar": {
             "outlinewidth": 0,
             "ticks": ""
            },
            "colorscale": [
             [
              0,
              "#0d0887"
             ],
             [
              0.1111111111111111,
              "#46039f"
             ],
             [
              0.2222222222222222,
              "#7201a8"
             ],
             [
              0.3333333333333333,
              "#9c179e"
             ],
             [
              0.4444444444444444,
              "#bd3786"
             ],
             [
              0.5555555555555556,
              "#d8576b"
             ],
             [
              0.6666666666666666,
              "#ed7953"
             ],
             [
              0.7777777777777778,
              "#fb9f3a"
             ],
             [
              0.8888888888888888,
              "#fdca26"
             ],
             [
              1,
              "#f0f921"
             ]
            ],
            "type": "histogram2d"
           }
          ],
          "histogram2dcontour": [
           {
            "colorbar": {
             "outlinewidth": 0,
             "ticks": ""
            },
            "colorscale": [
             [
              0,
              "#0d0887"
             ],
             [
              0.1111111111111111,
              "#46039f"
             ],
             [
              0.2222222222222222,
              "#7201a8"
             ],
             [
              0.3333333333333333,
              "#9c179e"
             ],
             [
              0.4444444444444444,
              "#bd3786"
             ],
             [
              0.5555555555555556,
              "#d8576b"
             ],
             [
              0.6666666666666666,
              "#ed7953"
             ],
             [
              0.7777777777777778,
              "#fb9f3a"
             ],
             [
              0.8888888888888888,
              "#fdca26"
             ],
             [
              1,
              "#f0f921"
             ]
            ],
            "type": "histogram2dcontour"
           }
          ],
          "mesh3d": [
           {
            "colorbar": {
             "outlinewidth": 0,
             "ticks": ""
            },
            "type": "mesh3d"
           }
          ],
          "parcoords": [
           {
            "line": {
             "colorbar": {
              "outlinewidth": 0,
              "ticks": ""
             }
            },
            "type": "parcoords"
           }
          ],
          "pie": [
           {
            "automargin": true,
            "type": "pie"
           }
          ],
          "scatter": [
           {
            "fillpattern": {
             "fillmode": "overlay",
             "size": 10,
             "solidity": 0.2
            },
            "type": "scatter"
           }
          ],
          "scatter3d": [
           {
            "line": {
             "colorbar": {
              "outlinewidth": 0,
              "ticks": ""
             }
            },
            "marker": {
             "colorbar": {
              "outlinewidth": 0,
              "ticks": ""
             }
            },
            "type": "scatter3d"
           }
          ],
          "scattercarpet": [
           {
            "marker": {
             "colorbar": {
              "outlinewidth": 0,
              "ticks": ""
             }
            },
            "type": "scattercarpet"
           }
          ],
          "scattergeo": [
           {
            "marker": {
             "colorbar": {
              "outlinewidth": 0,
              "ticks": ""
             }
            },
            "type": "scattergeo"
           }
          ],
          "scattergl": [
           {
            "marker": {
             "colorbar": {
              "outlinewidth": 0,
              "ticks": ""
             }
            },
            "type": "scattergl"
           }
          ],
          "scattermapbox": [
           {
            "marker": {
             "colorbar": {
              "outlinewidth": 0,
              "ticks": ""
             }
            },
            "type": "scattermapbox"
           }
          ],
          "scatterpolar": [
           {
            "marker": {
             "colorbar": {
              "outlinewidth": 0,
              "ticks": ""
             }
            },
            "type": "scatterpolar"
           }
          ],
          "scatterpolargl": [
           {
            "marker": {
             "colorbar": {
              "outlinewidth": 0,
              "ticks": ""
             }
            },
            "type": "scatterpolargl"
           }
          ],
          "scatterternary": [
           {
            "marker": {
             "colorbar": {
              "outlinewidth": 0,
              "ticks": ""
             }
            },
            "type": "scatterternary"
           }
          ],
          "surface": [
           {
            "colorbar": {
             "outlinewidth": 0,
             "ticks": ""
            },
            "colorscale": [
             [
              0,
              "#0d0887"
             ],
             [
              0.1111111111111111,
              "#46039f"
             ],
             [
              0.2222222222222222,
              "#7201a8"
             ],
             [
              0.3333333333333333,
              "#9c179e"
             ],
             [
              0.4444444444444444,
              "#bd3786"
             ],
             [
              0.5555555555555556,
              "#d8576b"
             ],
             [
              0.6666666666666666,
              "#ed7953"
             ],
             [
              0.7777777777777778,
              "#fb9f3a"
             ],
             [
              0.8888888888888888,
              "#fdca26"
             ],
             [
              1,
              "#f0f921"
             ]
            ],
            "type": "surface"
           }
          ],
          "table": [
           {
            "cells": {
             "fill": {
              "color": "#EBF0F8"
             },
             "line": {
              "color": "white"
             }
            },
            "header": {
             "fill": {
              "color": "#C8D4E3"
             },
             "line": {
              "color": "white"
             }
            },
            "type": "table"
           }
          ]
         },
         "layout": {
          "annotationdefaults": {
           "arrowcolor": "#2a3f5f",
           "arrowhead": 0,
           "arrowwidth": 1
          },
          "autotypenumbers": "strict",
          "coloraxis": {
           "colorbar": {
            "outlinewidth": 0,
            "ticks": ""
           }
          },
          "colorscale": {
           "diverging": [
            [
             0,
             "#8e0152"
            ],
            [
             0.1,
             "#c51b7d"
            ],
            [
             0.2,
             "#de77ae"
            ],
            [
             0.3,
             "#f1b6da"
            ],
            [
             0.4,
             "#fde0ef"
            ],
            [
             0.5,
             "#f7f7f7"
            ],
            [
             0.6,
             "#e6f5d0"
            ],
            [
             0.7,
             "#b8e186"
            ],
            [
             0.8,
             "#7fbc41"
            ],
            [
             0.9,
             "#4d9221"
            ],
            [
             1,
             "#276419"
            ]
           ],
           "sequential": [
            [
             0,
             "#0d0887"
            ],
            [
             0.1111111111111111,
             "#46039f"
            ],
            [
             0.2222222222222222,
             "#7201a8"
            ],
            [
             0.3333333333333333,
             "#9c179e"
            ],
            [
             0.4444444444444444,
             "#bd3786"
            ],
            [
             0.5555555555555556,
             "#d8576b"
            ],
            [
             0.6666666666666666,
             "#ed7953"
            ],
            [
             0.7777777777777778,
             "#fb9f3a"
            ],
            [
             0.8888888888888888,
             "#fdca26"
            ],
            [
             1,
             "#f0f921"
            ]
           ],
           "sequentialminus": [
            [
             0,
             "#0d0887"
            ],
            [
             0.1111111111111111,
             "#46039f"
            ],
            [
             0.2222222222222222,
             "#7201a8"
            ],
            [
             0.3333333333333333,
             "#9c179e"
            ],
            [
             0.4444444444444444,
             "#bd3786"
            ],
            [
             0.5555555555555556,
             "#d8576b"
            ],
            [
             0.6666666666666666,
             "#ed7953"
            ],
            [
             0.7777777777777778,
             "#fb9f3a"
            ],
            [
             0.8888888888888888,
             "#fdca26"
            ],
            [
             1,
             "#f0f921"
            ]
           ]
          },
          "colorway": [
           "#636efa",
           "#EF553B",
           "#00cc96",
           "#ab63fa",
           "#FFA15A",
           "#19d3f3",
           "#FF6692",
           "#B6E880",
           "#FF97FF",
           "#FECB52"
          ],
          "font": {
           "color": "#2a3f5f"
          },
          "geo": {
           "bgcolor": "white",
           "lakecolor": "white",
           "landcolor": "#E5ECF6",
           "showlakes": true,
           "showland": true,
           "subunitcolor": "white"
          },
          "hoverlabel": {
           "align": "left"
          },
          "hovermode": "closest",
          "mapbox": {
           "style": "light"
          },
          "paper_bgcolor": "white",
          "plot_bgcolor": "#E5ECF6",
          "polar": {
           "angularaxis": {
            "gridcolor": "white",
            "linecolor": "white",
            "ticks": ""
           },
           "bgcolor": "#E5ECF6",
           "radialaxis": {
            "gridcolor": "white",
            "linecolor": "white",
            "ticks": ""
           }
          },
          "scene": {
           "xaxis": {
            "backgroundcolor": "#E5ECF6",
            "gridcolor": "white",
            "gridwidth": 2,
            "linecolor": "white",
            "showbackground": true,
            "ticks": "",
            "zerolinecolor": "white"
           },
           "yaxis": {
            "backgroundcolor": "#E5ECF6",
            "gridcolor": "white",
            "gridwidth": 2,
            "linecolor": "white",
            "showbackground": true,
            "ticks": "",
            "zerolinecolor": "white"
           },
           "zaxis": {
            "backgroundcolor": "#E5ECF6",
            "gridcolor": "white",
            "gridwidth": 2,
            "linecolor": "white",
            "showbackground": true,
            "ticks": "",
            "zerolinecolor": "white"
           }
          },
          "shapedefaults": {
           "line": {
            "color": "#2a3f5f"
           }
          },
          "ternary": {
           "aaxis": {
            "gridcolor": "white",
            "linecolor": "white",
            "ticks": ""
           },
           "baxis": {
            "gridcolor": "white",
            "linecolor": "white",
            "ticks": ""
           },
           "bgcolor": "#E5ECF6",
           "caxis": {
            "gridcolor": "white",
            "linecolor": "white",
            "ticks": ""
           }
          },
          "title": {
           "x": 0.05
          },
          "xaxis": {
           "automargin": true,
           "gridcolor": "white",
           "linecolor": "white",
           "ticks": "",
           "title": {
            "standoff": 15
           },
           "zerolinecolor": "white",
           "zerolinewidth": 2
          },
          "yaxis": {
           "automargin": true,
           "gridcolor": "white",
           "linecolor": "white",
           "ticks": "",
           "title": {
            "standoff": 15
           },
           "zerolinecolor": "white",
           "zerolinewidth": 2
          }
         }
        },
        "title": {
         "text": "Portfolio Allocation"
        },
        "width": 800
       }
      }
     },
     "metadata": {},
     "output_type": "display_data"
    }
   ],
   "source": [
    "plt.style.use('classic')\n",
    "\n",
    "# Create a new Efficient Frontier object for plotting\n",
    "ef_lim_plot = EfficientFrontier(mu_lim, s_lim)\n",
    "\n",
    "# Plotting the efficient frontier\n",
    "fig, ax = plt.subplots()\n",
    "plotting.plot_efficient_frontier(ef_lim_plot, ax=ax, show_assets=True)\n",
    "\n",
    "# Now create a new Efficient Frontier object for finding the tangency portfolio\n",
    "ef_lim_tangency = EfficientFrontier(mu_lim, s_lim, weight_bounds=(0, 0.1))\n",
    "ef_lim_tangency.max_sharpe()\n",
    "ret_lim_tangent, std_lim_tangent, _ = ef_lim_tangency.portfolio_performance()\n",
    "ax.scatter(std_lim_tangent, ret_lim_tangent, marker=\"*\", s=100, c=\"r\", label=\"Max Sharpe Limited\")\n",
    "\n",
    "# Format the matplotlib plot\n",
    "ax.set_title(\"Efficient Frontier with Limited Order Size Portfolio\")\n",
    "ax.legend()\n",
    "plt.tight_layout()\n",
    "plt.show()\n",
    "\n",
    "# Filter out portfolio weights that are 0 or very close to 0\n",
    "non_zero_weights_lim = {ticker_lim: weight for ticker_lim, weight in cleaned_weights_lim.items() if weight > 0}\n",
    "\n",
    "# Extract the labels and sizes for the pie chart\n",
    "labels_lim = list(non_zero_weights_lim.keys())\n",
    "sizes_lim = list(non_zero_weights_lim.values())\n",
    "sizes_lim = [abs(x) for x in sizes_lim]\n",
    "\n",
    "# Create the figure for the pie chart\n",
    "fig_lim = go.Figure(data=[go.Pie(labels=labels_lim, values=sizes_lim)])\n",
    "\n",
    "# Adjust the layout of the pie chart\n",
    "fig_lim.update_layout(\n",
    "    title_text='Portfolio Allocation',\n",
    "    autosize=False,\n",
    "    width=800,\n",
    "    height=600,\n",
    ")\n",
    "\n",
    "# Improve label positioning\n",
    "fig_lim.update_traces(\n",
    "    textinfo='percent+label',\n",
    "    textfont_size=10,\n",
    "    marker=dict(line=dict(color='#000000', width=1)),\n",
    "    pull=[0.05 if size_lim > 10 else 0 for size_lim in sizes_lim],  # Pull out slices with size > 10%\n",
    "    textposition='inside'\n",
    ")\n",
    "\n",
    "# Show the Plotly figure\n",
    "fig_lim.show()"
   ]
  },
  {
   "cell_type": "code",
   "execution_count": 52,
   "id": "de6daf84",
   "metadata": {},
   "outputs": [
    {
     "name": "stdout",
     "output_type": "stream",
     "text": [
      "[*********************100%%**********************]  1 of 1 completed\n"
     ]
    },
    {
     "data": {
      "text/html": [
       "<div>\n",
       "<style scoped>\n",
       "    .dataframe tbody tr th:only-of-type {\n",
       "        vertical-align: middle;\n",
       "    }\n",
       "\n",
       "    .dataframe tbody tr th {\n",
       "        vertical-align: top;\n",
       "    }\n",
       "\n",
       "    .dataframe thead th {\n",
       "        text-align: right;\n",
       "    }\n",
       "</style>\n",
       "<table border=\"1\" class=\"dataframe\">\n",
       "  <thead>\n",
       "    <tr style=\"text-align: right;\">\n",
       "      <th></th>\n",
       "      <th>Stock</th>\n",
       "      <th>Direction</th>\n",
       "      <th>Type</th>\n",
       "      <th>Stock Price</th>\n",
       "      <th>Price</th>\n",
       "      <th>Units</th>\n",
       "      <th>Value</th>\n",
       "      <th>Weight</th>\n",
       "      <th>Beta</th>\n",
       "    </tr>\n",
       "  </thead>\n",
       "  <tbody>\n",
       "    <tr>\n",
       "      <th>CBOM</th>\n",
       "      <td>CBOM</td>\n",
       "      <td>Long</td>\n",
       "      <td>S</td>\n",
       "      <td>7.44100</td>\n",
       "      <td>7.44100</td>\n",
       "      <td>13971</td>\n",
       "      <td>103958.21100</td>\n",
       "      <td>0.10000</td>\n",
       "      <td>0.000872</td>\n",
       "    </tr>\n",
       "    <tr>\n",
       "      <th>BSPB</th>\n",
       "      <td>BSPB</td>\n",
       "      <td>Long</td>\n",
       "      <td>S</td>\n",
       "      <td>149.96000</td>\n",
       "      <td>149.96000</td>\n",
       "      <td>673</td>\n",
       "      <td>100923.08000</td>\n",
       "      <td>0.10000</td>\n",
       "      <td>0.042779</td>\n",
       "    </tr>\n",
       "    <tr>\n",
       "      <th>BELU</th>\n",
       "      <td>BELU</td>\n",
       "      <td>Long</td>\n",
       "      <td>S</td>\n",
       "      <td>4023.00000</td>\n",
       "      <td>4023.00000</td>\n",
       "      <td>25</td>\n",
       "      <td>100575.00000</td>\n",
       "      <td>0.10000</td>\n",
       "      <td>1.055396</td>\n",
       "    </tr>\n",
       "    <tr>\n",
       "      <th>POSI</th>\n",
       "      <td>POSI</td>\n",
       "      <td>Long</td>\n",
       "      <td>S</td>\n",
       "      <td>1716.00000</td>\n",
       "      <td>1716.00000</td>\n",
       "      <td>58</td>\n",
       "      <td>99528.00000</td>\n",
       "      <td>0.10000</td>\n",
       "      <td>0.594174</td>\n",
       "    </tr>\n",
       "    <tr>\n",
       "      <th>RENI</th>\n",
       "      <td>RENI</td>\n",
       "      <td>Long</td>\n",
       "      <td>S</td>\n",
       "      <td>54.60000</td>\n",
       "      <td>54.60000</td>\n",
       "      <td>1013</td>\n",
       "      <td>55309.80000</td>\n",
       "      <td>0.05817</td>\n",
       "      <td>0.016623</td>\n",
       "    </tr>\n",
       "    <tr>\n",
       "      <th>SBER</th>\n",
       "      <td>SBER</td>\n",
       "      <td>Long</td>\n",
       "      <td>S</td>\n",
       "      <td>216.87000</td>\n",
       "      <td>216.87000</td>\n",
       "      <td>462</td>\n",
       "      <td>100193.94000</td>\n",
       "      <td>0.10000</td>\n",
       "      <td>0.098435</td>\n",
       "    </tr>\n",
       "    <tr>\n",
       "      <th>SBERP</th>\n",
       "      <td>SBERP</td>\n",
       "      <td>Long</td>\n",
       "      <td>S</td>\n",
       "      <td>216.80000</td>\n",
       "      <td>216.80000</td>\n",
       "      <td>463</td>\n",
       "      <td>100378.40000</td>\n",
       "      <td>0.10000</td>\n",
       "      <td>0.097403</td>\n",
       "    </tr>\n",
       "    <tr>\n",
       "      <th>SFIN</th>\n",
       "      <td>SFIN</td>\n",
       "      <td>Long</td>\n",
       "      <td>S</td>\n",
       "      <td>508.00000</td>\n",
       "      <td>508.00000</td>\n",
       "      <td>44</td>\n",
       "      <td>22352.00000</td>\n",
       "      <td>0.02224</td>\n",
       "      <td>0.108234</td>\n",
       "    </tr>\n",
       "    <tr>\n",
       "      <th>UPRO</th>\n",
       "      <td>UPRO</td>\n",
       "      <td>Long</td>\n",
       "      <td>S</td>\n",
       "      <td>1.94300</td>\n",
       "      <td>1.94300</td>\n",
       "      <td>14928</td>\n",
       "      <td>29005.10400</td>\n",
       "      <td>0.02878</td>\n",
       "      <td>0.000771</td>\n",
       "    </tr>\n",
       "    <tr>\n",
       "      <th>RNFT</th>\n",
       "      <td>RNFT</td>\n",
       "      <td>Long</td>\n",
       "      <td>S</td>\n",
       "      <td>125.40000</td>\n",
       "      <td>125.40000</td>\n",
       "      <td>17</td>\n",
       "      <td>2131.80000</td>\n",
       "      <td>0.00240</td>\n",
       "      <td>0.054010</td>\n",
       "    </tr>\n",
       "    <tr>\n",
       "      <th>SVAV</th>\n",
       "      <td>SVAV</td>\n",
       "      <td>Long</td>\n",
       "      <td>S</td>\n",
       "      <td>237.00000</td>\n",
       "      <td>237.00000</td>\n",
       "      <td>225</td>\n",
       "      <td>53325.00000</td>\n",
       "      <td>0.05302</td>\n",
       "      <td>0.063396</td>\n",
       "    </tr>\n",
       "    <tr>\n",
       "      <th>TGKN</th>\n",
       "      <td>TGKN</td>\n",
       "      <td>Long</td>\n",
       "      <td>S</td>\n",
       "      <td>0.00415</td>\n",
       "      <td>0.00415</td>\n",
       "      <td>24509803</td>\n",
       "      <td>101715.68245</td>\n",
       "      <td>0.10000</td>\n",
       "      <td>0.000002</td>\n",
       "    </tr>\n",
       "    <tr>\n",
       "      <th>TRMK</th>\n",
       "      <td>TRMK</td>\n",
       "      <td>Long</td>\n",
       "      <td>S</td>\n",
       "      <td>100.72000</td>\n",
       "      <td>100.72000</td>\n",
       "      <td>999</td>\n",
       "      <td>100619.28000</td>\n",
       "      <td>0.10000</td>\n",
       "      <td>0.027841</td>\n",
       "    </tr>\n",
       "    <tr>\n",
       "      <th>MGTSP</th>\n",
       "      <td>MGTSP</td>\n",
       "      <td>Long</td>\n",
       "      <td>S</td>\n",
       "      <td>1322.00000</td>\n",
       "      <td>1322.00000</td>\n",
       "      <td>27</td>\n",
       "      <td>35694.00000</td>\n",
       "      <td>0.03540</td>\n",
       "      <td>0.802114</td>\n",
       "    </tr>\n",
       "  </tbody>\n",
       "</table>\n",
       "</div>"
      ],
      "text/plain": [
       "       Stock Direction Type  Stock Price       Price     Units         Value  \\\n",
       "CBOM    CBOM      Long    S      7.44100     7.44100     13971  103958.21100   \n",
       "BSPB    BSPB      Long    S    149.96000   149.96000       673  100923.08000   \n",
       "BELU    BELU      Long    S   4023.00000  4023.00000        25  100575.00000   \n",
       "POSI    POSI      Long    S   1716.00000  1716.00000        58   99528.00000   \n",
       "RENI    RENI      Long    S     54.60000    54.60000      1013   55309.80000   \n",
       "SBER    SBER      Long    S    216.87000   216.87000       462  100193.94000   \n",
       "SBERP  SBERP      Long    S    216.80000   216.80000       463  100378.40000   \n",
       "SFIN    SFIN      Long    S    508.00000   508.00000        44   22352.00000   \n",
       "UPRO    UPRO      Long    S      1.94300     1.94300     14928   29005.10400   \n",
       "RNFT    RNFT      Long    S    125.40000   125.40000        17    2131.80000   \n",
       "SVAV    SVAV      Long    S    237.00000   237.00000       225   53325.00000   \n",
       "TGKN    TGKN      Long    S      0.00415     0.00415  24509803  101715.68245   \n",
       "TRMK    TRMK      Long    S    100.72000   100.72000       999  100619.28000   \n",
       "MGTSP  MGTSP      Long    S   1322.00000  1322.00000        27   35694.00000   \n",
       "\n",
       "        Weight      Beta  \n",
       "CBOM   0.10000  0.000872  \n",
       "BSPB   0.10000  0.042779  \n",
       "BELU   0.10000  1.055396  \n",
       "POSI   0.10000  0.594174  \n",
       "RENI   0.05817  0.016623  \n",
       "SBER   0.10000  0.098435  \n",
       "SBERP  0.10000  0.097403  \n",
       "SFIN   0.02224  0.108234  \n",
       "UPRO   0.02878  0.000771  \n",
       "RNFT   0.00240  0.054010  \n",
       "SVAV   0.05302  0.063396  \n",
       "TGKN   0.10000  0.000002  \n",
       "TRMK   0.10000  0.027841  \n",
       "MGTSP  0.03540  0.802114  "
      ]
     },
     "execution_count": 52,
     "metadata": {},
     "output_type": "execute_result"
    }
   ],
   "source": [
    "# Limited order size portfolio table\n",
    "\n",
    "non_zero_lim = [name for name, value in cleaned_weights_lim.items() if value > 0]\n",
    "non_zero_df = df[non_zero_lim]\n",
    "\n",
    "# Define index symbol\n",
    "stock = ['IMOEX.ME']\n",
    "\n",
    "# Fetch data from Yahoo Finance\n",
    "index = yf.download(stock, start=start, end=end)\n",
    "index = index.reset_index()\n",
    "index.rename(columns={'Date': 'TRADEDATE', 'Adj Close': 'IMOEX'}, inplace=True)\n",
    "index_mer = index[['TRADEDATE', 'IMOEX']]\n",
    "\n",
    "index_mer = index_mer.round(2)\n",
    "\n",
    "all_data = non_zero_df.merge(index_mer, on='TRADEDATE', how='outer')\n",
    "\n",
    "# Sort by TRADEDATE\n",
    "all_data = all_data.sort_values(by='TRADEDATE')\n",
    "\n",
    "# Set TRADEDATE as index column\n",
    "all_data.set_index('TRADEDATE', inplace=True)\n",
    "all_data = all_data.iloc[:-1]\n",
    "\n",
    "non_zero_df_lim = all_data\n",
    "non_zero_df_lim\n",
    "\n",
    "beta_lim = matrix_beta(non_zero_df_lim)\n",
    "\n",
    "non_zero_df_lim.drop('IMOEX', axis = 1, inplace = True)\n",
    "non_zero_df_lim\n",
    "\n",
    "allocation_lim = {col: allocation_lim[col] for col in non_zero_df_lim.columns if col in allocation_lim}\n",
    "\n",
    "units_lim = np.array(list(allocation_lim.values()))\n",
    "price_nested_lim = non_zero_df_lim.iloc[-1:].values.tolist()\n",
    "price_lim = price_nested_lim[0]\n",
    "value_lim = [unit*pr for unit, pr in zip(units_lim, price_lim)]\n",
    "weight_lim = np.array(list(cleaned_weights_lim.values()))\n",
    "non_zero_weight_lim = [value for value in weight_lim if value > 0]\n",
    "\n",
    "Portfolio_lim = pd.DataFrame({\n",
    "    'Stock': non_zero_df_lim.columns.tolist(),\n",
    "    'Direction': 'Long',\n",
    "    'Type': 'S',\n",
    "    'Stock Price': price_lim,\n",
    "    'Price': price_lim,\n",
    "    'Units': units_lim,\n",
    "    'Value': units_lim*price_lim,\n",
    "    'Weight': non_zero_weight_lim,\n",
    "    'Beta': beta_lim,\n",
    "    })\n",
    "Portfolio_lim"
   ]
  },
  {
   "cell_type": "code",
   "execution_count": 53,
   "id": "0054a9d5-a071-4e23-a6b9-27800c18c04a",
   "metadata": {},
   "outputs": [
    {
     "name": "stdout",
     "output_type": "stream",
     "text": [
      "OrderedDict([('CBOM', 0.03886), ('ALRS', 0.0), ('VTBR', 0.0), ('RUAL', 0.0), ('ENPG', 0.0), ('BSPB', 0.00099), ('AFKS', 0.0), ('AFLT', 0.0), ('BELU', 0.02071), ('GAZP', 0.0), ('GMKN', 0.0), ('LSRG', 0.0), ('POSI', 0.0), ('RENI', 0.00762), ('DSKY', 0.0), ('IRAO', 0.0), ('MVID', 0.0), ('MAGN', 0.0), ('MTLR', 0.0), ('MTLRP', 0.0), ('MTSS', 0.0), ('MOEX', 0.0), ('LKOH', 0.0), ('NLMK', 0.0), ('PIKK', 0.0), ('PLZL', 0.0), ('RTKM', 0.0), ('RTKMP', 0.06919), ('SBER', 0.0), ('SBERP', 0.0), ('CHMF', 0.0), ('SELG', 0.0), ('FLOT', 0.0), ('TGKA', 0.0), ('TRNFP', 0.0), ('HYDR', 0.03194), ('FEES', 0.0), ('PHOR', 0.00616), ('ELFV', 0.50659), ('SFIN', 0.0488), ('UPRO', 0.0), ('SGZH', 0.0), ('RNFT', 0.0), ('MSNG', 0.01271), ('SMLT', 0.0), ('NVTK', 0.0), ('ROSN', 0.0), ('TATN', 0.0), ('TATNP', 0.0), ('AQUA', 0.0), ('AKRN', 0.0), ('APTK', 0.10739), ('OGKB', 0.0), ('FESH', 0.0), ('KMAZ', 0.0), ('RASP', 0.0), ('MRKV', 0.00071), ('MSRS', 0.0), ('MRKZ', 0.0), ('MRKS', 0.00758), ('MRKU', 0.0), ('MRKP', 0.0), ('MRKC', 0.0), ('SVAV', 0.00158), ('SNGS', 0.0), ('SNGSP', 0.0), ('TGKN', 0.0262), ('TRMK', 0.0), ('VSMO', 0.11299), ('MGTSP', 0.0)])\n",
      "Expected annual return: -30.1%\n",
      "Annual volatility: 9.1%\n",
      "Sharpe Ratio: -3.52\n"
     ]
    },
    {
     "data": {
      "text/plain": [
       "(-0.3011562192377231, 0.09126183006864746, -3.519063983224403)"
      ]
     },
     "execution_count": 53,
     "metadata": {},
     "output_type": "execute_result"
    }
   ],
   "source": [
    "# Minimum Volatility Portfolio\n",
    "\n",
    "assets = df.columns\n",
    "\n",
    "# Calculate all assets risk and returns\n",
    "\n",
    "mu_vol = expected_returns.mean_historical_return(df.ffill())\n",
    "s_vol = risk_models.CovarianceShrinkage(df.ffill()).ledoit_wolf()\n",
    "\n",
    "\n",
    "# Use efficient frontier to determine weights\n",
    "\n",
    "ef_vol = EfficientFrontier(mu_vol, s_vol)\n",
    "weights_vol = ef_vol.min_volatility()\n",
    "\n",
    "cleaned_weights_vol = ef_vol.clean_weights()\n",
    "\n",
    "print(cleaned_weights_vol)\n",
    "ef_vol.portfolio_performance(verbose=True)"
   ]
  },
  {
   "cell_type": "code",
   "execution_count": 54,
   "id": "e146dffb-05a4-4e0d-b4bd-f0e1f515da73",
   "metadata": {},
   "outputs": [
    {
     "name": "stdout",
     "output_type": "stream",
     "text": [
      "Discrete Allocation:  {'ELFV': 884409, 'VSMO': 2, 'APTK': 8255, 'RTKMP': 1141, 'SFIN': 95, 'CBOM': 5428, 'HYDR': 38903, 'TGKN': 6421568, 'BELU': 6, 'MSNG': 5522, 'RENI': 132, 'MRKS': 22359, 'PHOR': 1, 'SVAV': 7, 'BSPB': 7, 'MRKV': 19749}\n",
      "Funds Remaining:  15281.679810000009\n"
     ]
    }
   ],
   "source": [
    "# Calculate allocation\n",
    "\n",
    "portfolio_val = 1000000\n",
    "latest_prices_vol = get_latest_prices(df)\n",
    "weights_vol = cleaned_weights_vol\n",
    "da_vol = DiscreteAllocation(weights_vol, latest_prices_vol, total_portfolio_value = portfolio_val)\n",
    "allocation_vol, leftover_vol = da_vol.greedy_portfolio()\n",
    "print('Discrete Allocation: ', allocation_vol)\n",
    "print('Funds Remaining: ', leftover_vol)"
   ]
  },
  {
   "cell_type": "code",
   "execution_count": 55,
   "id": "73a6376f-2dea-4817-9456-fe30ec35ddfa",
   "metadata": {},
   "outputs": [
    {
     "name": "stderr",
     "output_type": "stream",
     "text": [
      "c:\\Users\\Gegenubr\\anaconda3\\Lib\\site-packages\\cvxpy\\reductions\\solvers\\solving_chain.py:336: FutureWarning:\n",
      "\n",
      "\n",
      "    Your problem is being solved with the ECOS solver by default. Starting in \n",
      "    CVXPY 1.5.0, Clarabel will be used as the default solver instead. To continue \n",
      "    using ECOS, specify the ECOS solver explicitly using the ``solver=cp.ECOS`` \n",
      "    argument to the ``problem.solve`` method.\n",
      "    \n",
      "\n"
     ]
    },
    {
     "data": {
      "image/png": "[encoded data removed]",
      "text/plain": [
       "<Figure size 640x480 with 1 Axes>"
      ]
     },
     "metadata": {},
     "output_type": "display_data"
    },
    {
     "data": {
      "application/vnd.plotly.v1+json": {
       "config": {
        "plotlyServerURL": "https://plot.ly"
       },
       "data": [
        {
         "labels": [
          "CBOM",
          "BSPB",
          "BELU",
          "RENI",
          "RTKMP",
          "HYDR",
          "PHOR",
          "ELFV",
          "SFIN",
          "MSNG",
          "APTK",
          "MRKV",
          "MRKS",
          "SVAV",
          "TGKN",
          "VSMO"
         ],
         "marker": {
          "line": {
           "color": "#000000",
           "width": 1
          }
         },
         "pull": [
          0,
          0,
          0,
          0,
          0,
          0,
          0,
          0,
          0,
          0,
          0,
          0,
          0,
          0,
          0,
          0
         ],
         "textfont": {
          "size": 10
         },
         "textinfo": "percent+label",
         "textposition": "inside",
         "type": "pie",
         "values": [
          0.03886,
          0.00099,
          0.02071,
          0.00762,
          0.06919,
          0.03194,
          0.00616,
          0.50659,
          0.0488,
          0.01271,
          0.10739,
          0.00071,
          0.00758,
          0.00158,
          0.0262,
          0.11299
         ]
        }
       ],
       "layout": {
        "autosize": false,
        "height": 600,
        "template": {
         "data": {
          "bar": [
           {
            "error_x": {
             "color": "#2a3f5f"
            },
            "error_y": {
             "color": "#2a3f5f"
            },
            "marker": {
             "line": {
              "color": "#E5ECF6",
              "width": 0.5
             },
             "pattern": {
              "fillmode": "overlay",
              "size": 10,
              "solidity": 0.2
             }
            },
            "type": "bar"
           }
          ],
          "barpolar": [
           {
            "marker": {
             "line": {
              "color": "#E5ECF6",
              "width": 0.5
             },
             "pattern": {
              "fillmode": "overlay",
              "size": 10,
              "solidity": 0.2
             }
            },
            "type": "barpolar"
           }
          ],
          "carpet": [
           {
            "aaxis": {
             "endlinecolor": "#2a3f5f",
             "gridcolor": "white",
             "linecolor": "white",
             "minorgridcolor": "white",
             "startlinecolor": "#2a3f5f"
            },
            "baxis": {
             "endlinecolor": "#2a3f5f",
             "gridcolor": "white",
             "linecolor": "white",
             "minorgridcolor": "white",
             "startlinecolor": "#2a3f5f"
            },
            "type": "carpet"
           }
          ],
          "choropleth": [
           {
            "colorbar": {
             "outlinewidth": 0,
             "ticks": ""
            },
            "type": "choropleth"
           }
          ],
          "contour": [
           {
            "colorbar": {
             "outlinewidth": 0,
             "ticks": ""
            },
            "colorscale": [
             [
              0,
              "#0d0887"
             ],
             [
              0.1111111111111111,
              "#46039f"
             ],
             [
              0.2222222222222222,
              "#7201a8"
             ],
             [
              0.3333333333333333,
              "#9c179e"
             ],
             [
              0.4444444444444444,
              "#bd3786"
             ],
             [
              0.5555555555555556,
              "#d8576b"
             ],
             [
              0.6666666666666666,
              "#ed7953"
             ],
             [
              0.7777777777777778,
              "#fb9f3a"
             ],
             [
              0.8888888888888888,
              "#fdca26"
             ],
             [
              1,
              "#f0f921"
             ]
            ],
            "type": "contour"
           }
          ],
          "contourcarpet": [
           {
            "colorbar": {
             "outlinewidth": 0,
             "ticks": ""
            },
            "type": "contourcarpet"
           }
          ],
          "heatmap": [
           {
            "colorbar": {
             "outlinewidth": 0,
             "ticks": ""
            },
            "colorscale": [
             [
              0,
              "#0d0887"
             ],
             [
              0.1111111111111111,
              "#46039f"
             ],
             [
              0.2222222222222222,
              "#7201a8"
             ],
             [
              0.3333333333333333,
              "#9c179e"
             ],
             [
              0.4444444444444444,
              "#bd3786"
             ],
             [
              0.5555555555555556,
              "#d8576b"
             ],
             [
              0.6666666666666666,
              "#ed7953"
             ],
             [
              0.7777777777777778,
              "#fb9f3a"
             ],
             [
              0.8888888888888888,
              "#fdca26"
             ],
             [
              1,
              "#f0f921"
             ]
            ],
            "type": "heatmap"
           }
          ],
          "heatmapgl": [
           {
            "colorbar": {
             "outlinewidth": 0,
             "ticks": ""
            },
            "colorscale": [
             [
              0,
              "#0d0887"
             ],
             [
              0.1111111111111111,
              "#46039f"
             ],
             [
              0.2222222222222222,
              "#7201a8"
             ],
             [
              0.3333333333333333,
              "#9c179e"
             ],
             [
              0.4444444444444444,
              "#bd3786"
             ],
             [
              0.5555555555555556,
              "#d8576b"
             ],
             [
              0.6666666666666666,
              "#ed7953"
             ],
             [
              0.7777777777777778,
              "#fb9f3a"
             ],
             [
              0.8888888888888888,
              "#fdca26"
             ],
             [
              1,
              "#f0f921"
             ]
            ],
            "type": "heatmapgl"
           }
          ],
          "histogram": [
           {
            "marker": {
             "pattern": {
              "fillmode": "overlay",
              "size": 10,
              "solidity": 0.2
             }
            },
            "type": "histogram"
           }
          ],
          "histogram2d": [
           {
            "colorbar": {
             "outlinewidth": 0,
             "ticks": ""
            },
            "colorscale": [
             [
              0,
              "#0d0887"
             ],
             [
              0.1111111111111111,
              "#46039f"
             ],
             [
              0.2222222222222222,
              "#7201a8"
             ],
             [
              0.3333333333333333,
              "#9c179e"
             ],
             [
              0.4444444444444444,
              "#bd3786"
             ],
             [
              0.5555555555555556,
              "#d8576b"
             ],
             [
              0.6666666666666666,
              "#ed7953"
             ],
             [
              0.7777777777777778,
              "#fb9f3a"
             ],
             [
              0.8888888888888888,
              "#fdca26"
             ],
             [
              1,
              "#f0f921"
             ]
            ],
            "type": "histogram2d"
           }
          ],
          "histogram2dcontour": [
           {
            "colorbar": {
             "outlinewidth": 0,
             "ticks": ""
            },
            "colorscale": [
             [
              0,
              "#0d0887"
             ],
             [
              0.1111111111111111,
              "#46039f"
             ],
             [
              0.2222222222222222,
              "#7201a8"
             ],
             [
              0.3333333333333333,
              "#9c179e"
             ],
             [
              0.4444444444444444,
              "#bd3786"
             ],
             [
              0.5555555555555556,
              "#d8576b"
             ],
             [
              0.6666666666666666,
              "#ed7953"
             ],
             [
              0.7777777777777778,
              "#fb9f3a"
             ],
             [
              0.8888888888888888,
              "#fdca26"
             ],
             [
              1,
              "#f0f921"
             ]
            ],
            "type": "histogram2dcontour"
           }
          ],
          "mesh3d": [
           {
            "colorbar": {
             "outlinewidth": 0,
             "ticks": ""
            },
            "type": "mesh3d"
           }
          ],
          "parcoords": [
           {
            "line": {
             "colorbar": {
              "outlinewidth": 0,
              "ticks": ""
             }
            },
            "type": "parcoords"
           }
          ],
          "pie": [
           {
            "automargin": true,
            "type": "pie"
           }
          ],
          "scatter": [
           {
            "fillpattern": {
             "fillmode": "overlay",
             "size": 10,
             "solidity": 0.2
            },
            "type": "scatter"
           }
          ],
          "scatter3d": [
           {
            "line": {
             "colorbar": {
              "outlinewidth": 0,
              "ticks": ""
             }
            },
            "marker": {
             "colorbar": {
              "outlinewidth": 0,
              "ticks": ""
             }
            },
            "type": "scatter3d"
           }
          ],
          "scattercarpet": [
           {
            "marker": {
             "colorbar": {
              "outlinewidth": 0,
              "ticks": ""
             }
            },
            "type": "scattercarpet"
           }
          ],
          "scattergeo": [
           {
            "marker": {
             "colorbar": {
              "outlinewidth": 0,
              "ticks": ""
             }
            },
            "type": "scattergeo"
           }
          ],
          "scattergl": [
           {
            "marker": {
             "colorbar": {
              "outlinewidth": 0,
              "ticks": ""
             }
            },
            "type": "scattergl"
           }
          ],
          "scattermapbox": [
           {
            "marker": {
             "colorbar": {
              "outlinewidth": 0,
              "ticks": ""
             }
            },
            "type": "scattermapbox"
           }
          ],
          "scatterpolar": [
           {
            "marker": {
             "colorbar": {
              "outlinewidth": 0,
              "ticks": ""
             }
            },
            "type": "scatterpolar"
           }
          ],
          "scatterpolargl": [
           {
            "marker": {
             "colorbar": {
              "outlinewidth": 0,
              "ticks": ""
             }
            },
            "type": "scatterpolargl"
           }
          ],
          "scatterternary": [
           {
            "marker": {
             "colorbar": {
              "outlinewidth": 0,
              "ticks": ""
             }
            },
            "type": "scatterternary"
           }
          ],
          "surface": [
           {
            "colorbar": {
             "outlinewidth": 0,
             "ticks": ""
            },
            "colorscale": [
             [
              0,
              "#0d0887"
             ],
             [
              0.1111111111111111,
              "#46039f"
             ],
             [
              0.2222222222222222,
              "#7201a8"
             ],
             [
              0.3333333333333333,
              "#9c179e"
             ],
             [
              0.4444444444444444,
              "#bd3786"
             ],
             [
              0.5555555555555556,
              "#d8576b"
             ],
             [
              0.6666666666666666,
              "#ed7953"
             ],
             [
              0.7777777777777778,
              "#fb9f3a"
             ],
             [
              0.8888888888888888,
              "#fdca26"
             ],
             [
              1,
              "#f0f921"
             ]
            ],
            "type": "surface"
           }
          ],
          "table": [
           {
            "cells": {
             "fill": {
              "color": "#EBF0F8"
             },
             "line": {
              "color": "white"
             }
            },
            "header": {
             "fill": {
              "color": "#C8D4E3"
             },
             "line": {
              "color": "white"
             }
            },
            "type": "table"
           }
          ]
         },
         "layout": {
          "annotationdefaults": {
           "arrowcolor": "#2a3f5f",
           "arrowhead": 0,
           "arrowwidth": 1
          },
          "autotypenumbers": "strict",
          "coloraxis": {
           "colorbar": {
            "outlinewidth": 0,
            "ticks": ""
           }
          },
          "colorscale": {
           "diverging": [
            [
             0,
             "#8e0152"
            ],
            [
             0.1,
             "#c51b7d"
            ],
            [
             0.2,
             "#de77ae"
            ],
            [
             0.3,
             "#f1b6da"
            ],
            [
             0.4,
             "#fde0ef"
            ],
            [
             0.5,
             "#f7f7f7"
            ],
            [
             0.6,
             "#e6f5d0"
            ],
            [
             0.7,
             "#b8e186"
            ],
            [
             0.8,
             "#7fbc41"
            ],
            [
             0.9,
             "#4d9221"
            ],
            [
             1,
             "#276419"
            ]
           ],
           "sequential": [
            [
             0,
             "#0d0887"
            ],
            [
             0.1111111111111111,
             "#46039f"
            ],
            [
             0.2222222222222222,
             "#7201a8"
            ],
            [
             0.3333333333333333,
             "#9c179e"
            ],
            [
             0.4444444444444444,
             "#bd3786"
            ],
            [
             0.5555555555555556,
             "#d8576b"
            ],
            [
             0.6666666666666666,
             "#ed7953"
            ],
            [
             0.7777777777777778,
             "#fb9f3a"
            ],
            [
             0.8888888888888888,
             "#fdca26"
            ],
            [
             1,
             "#f0f921"
            ]
           ],
           "sequentialminus": [
            [
             0,
             "#0d0887"
            ],
            [
             0.1111111111111111,
             "#46039f"
            ],
            [
             0.2222222222222222,
             "#7201a8"
            ],
            [
             0.3333333333333333,
             "#9c179e"
            ],
            [
             0.4444444444444444,
             "#bd3786"
            ],
            [
             0.5555555555555556,
             "#d8576b"
            ],
            [
             0.6666666666666666,
             "#ed7953"
            ],
            [
             0.7777777777777778,
             "#fb9f3a"
            ],
            [
             0.8888888888888888,
             "#fdca26"
            ],
            [
             1,
             "#f0f921"
            ]
           ]
          },
          "colorway": [
           "#636efa",
           "#EF553B",
           "#00cc96",
           "#ab63fa",
           "#FFA15A",
           "#19d3f3",
           "#FF6692",
           "#B6E880",
           "#FF97FF",
           "#FECB52"
          ],
          "font": {
           "color": "#2a3f5f"
          },
          "geo": {
           "bgcolor": "white",
           "lakecolor": "white",
           "landcolor": "#E5ECF6",
           "showlakes": true,
           "showland": true,
           "subunitcolor": "white"
          },
          "hoverlabel": {
           "align": "left"
          },
          "hovermode": "closest",
          "mapbox": {
           "style": "light"
          },
          "paper_bgcolor": "white",
          "plot_bgcolor": "#E5ECF6",
          "polar": {
           "angularaxis": {
            "gridcolor": "white",
            "linecolor": "white",
            "ticks": ""
           },
           "bgcolor": "#E5ECF6",
           "radialaxis": {
            "gridcolor": "white",
            "linecolor": "white",
            "ticks": ""
           }
          },
          "scene": {
           "xaxis": {
            "backgroundcolor": "#E5ECF6",
            "gridcolor": "white",
            "gridwidth": 2,
            "linecolor": "white",
            "showbackground": true,
            "ticks": "",
            "zerolinecolor": "white"
           },
           "yaxis": {
            "backgroundcolor": "#E5ECF6",
            "gridcolor": "white",
            "gridwidth": 2,
            "linecolor": "white",
            "showbackground": true,
            "ticks": "",
            "zerolinecolor": "white"
           },
           "zaxis": {
            "backgroundcolor": "#E5ECF6",
            "gridcolor": "white",
            "gridwidth": 2,
            "linecolor": "white",
            "showbackground": true,
            "ticks": "",
            "zerolinecolor": "white"
           }
          },
          "shapedefaults": {
           "line": {
            "color": "#2a3f5f"
           }
          },
          "ternary": {
           "aaxis": {
            "gridcolor": "white",
            "linecolor": "white",
            "ticks": ""
           },
           "baxis": {
            "gridcolor": "white",
            "linecolor": "white",
            "ticks": ""
           },
           "bgcolor": "#E5ECF6",
           "caxis": {
            "gridcolor": "white",
            "linecolor": "white",
            "ticks": ""
           }
          },
          "title": {
           "x": 0.05
          },
          "xaxis": {
           "automargin": true,
           "gridcolor": "white",
           "linecolor": "white",
           "ticks": "",
           "title": {
            "standoff": 15
           },
           "zerolinecolor": "white",
           "zerolinewidth": 2
          },
          "yaxis": {
           "automargin": true,
           "gridcolor": "white",
           "linecolor": "white",
           "ticks": "",
           "title": {
            "standoff": 15
           },
           "zerolinecolor": "white",
           "zerolinewidth": 2
          }
         }
        },
        "title": {
         "text": "Portfolio Allocation"
        },
        "width": 800
       }
      }
     },
     "metadata": {},
     "output_type": "display_data"
    }
   ],
   "source": [
    "plt.style.use('classic')\n",
    "\n",
    "# Create a new Efficient Frontier object for plotting\n",
    "ef_vol_plot = EfficientFrontier(mu_vol, s_vol)\n",
    "\n",
    "# Plotting the efficient frontier\n",
    "fig, ax = plt.subplots()\n",
    "plotting.plot_efficient_frontier(ef_vol_plot, ax=ax, show_assets=True)\n",
    "\n",
    "# Now create a new Efficient Frontier object for finding the tangency portfolio\n",
    "ef_vol_tangency = EfficientFrontier(mu_vol, s_vol)\n",
    "ef_vol_tangency.min_volatility()\n",
    "ret_vol_tangent, std_vol_tangent, _ = ef_vol_tangency.portfolio_performance()\n",
    "ax.scatter(std_vol_tangent, ret_vol_tangent, marker=\"*\", s=100, c=\"r\", label=\"Min Volatility\")\n",
    "\n",
    "# Format the matplotlib plot\n",
    "ax.set_title(\"Efficient Frontier with Minimum Volatility Portfolio\")\n",
    "ax.legend()\n",
    "plt.tight_layout()\n",
    "plt.show()\n",
    "\n",
    "# Filter out portfolio weights that are 0 or very close to 0\n",
    "non_zero_weights_vol = {ticker_vol: weight for ticker_vol, weight in cleaned_weights_vol.items() if weight > 0}\n",
    "\n",
    "# Extract the labels and sizes for the pie chart\n",
    "labels_vol = list(non_zero_weights_vol.keys())\n",
    "sizes_vol = list(non_zero_weights_vol.values())\n",
    "sizes_vol = [abs(x) for x in sizes_vol]\n",
    "\n",
    "# Create the figure for the pie chart\n",
    "fig_vol = go.Figure(data=[go.Pie(labels=labels_vol, values=sizes_vol)])\n",
    "\n",
    "# Adjust the layout of the pie chart\n",
    "fig_vol.update_layout(\n",
    "    title_text='Portfolio Allocation',\n",
    "    autosize=False,\n",
    "    width=800,\n",
    "    height=600,\n",
    ")\n",
    "\n",
    "# Improve label positioning\n",
    "fig_vol.update_traces(\n",
    "    textinfo='percent+label',\n",
    "    textfont_size=10,\n",
    "    marker=dict(line=dict(color='#000000', width=1)),\n",
    "    pull=[0.05 if size_vol > 10 else 0 for size_vol in sizes_vol],  # Pull out slices with size > 10%\n",
    "    textposition='inside'\n",
    ")\n",
    "\n",
    "# Show the Plotly figure\n",
    "fig_vol.show()"
   ]
  },
  {
   "cell_type": "code",
   "execution_count": 56,
   "metadata": {},
   "outputs": [
    {
     "name": "stdout",
     "output_type": "stream",
     "text": [
      "[*********************100%%**********************]  1 of 1 completed\n"
     ]
    },
    {
     "data": {
      "text/html": [
       "<div>\n",
       "<style scoped>\n",
       "    .dataframe tbody tr th:only-of-type {\n",
       "        vertical-align: middle;\n",
       "    }\n",
       "\n",
       "    .dataframe tbody tr th {\n",
       "        vertical-align: top;\n",
       "    }\n",
       "\n",
       "    .dataframe thead th {\n",
       "        text-align: right;\n",
       "    }\n",
       "</style>\n",
       "<table border=\"1\" class=\"dataframe\">\n",
       "  <thead>\n",
       "    <tr style=\"text-align: right;\">\n",
       "      <th></th>\n",
       "      <th>Stock</th>\n",
       "      <th>Direction</th>\n",
       "      <th>Type</th>\n",
       "      <th>Stock Price</th>\n",
       "      <th>Price</th>\n",
       "      <th>Units</th>\n",
       "      <th>Value</th>\n",
       "      <th>Weight</th>\n",
       "      <th>Beta</th>\n",
       "    </tr>\n",
       "  </thead>\n",
       "  <tbody>\n",
       "    <tr>\n",
       "      <th>CBOM</th>\n",
       "      <td>CBOM</td>\n",
       "      <td>Long</td>\n",
       "      <td>S</td>\n",
       "      <td>7.44100</td>\n",
       "      <td>7.44100</td>\n",
       "      <td>5428</td>\n",
       "      <td>40389.74800</td>\n",
       "      <td>0.03886</td>\n",
       "      <td>0.000872</td>\n",
       "    </tr>\n",
       "    <tr>\n",
       "      <th>BSPB</th>\n",
       "      <td>BSPB</td>\n",
       "      <td>Long</td>\n",
       "      <td>S</td>\n",
       "      <td>149.96000</td>\n",
       "      <td>149.96000</td>\n",
       "      <td>7</td>\n",
       "      <td>1049.72000</td>\n",
       "      <td>0.00099</td>\n",
       "      <td>0.042779</td>\n",
       "    </tr>\n",
       "    <tr>\n",
       "      <th>BELU</th>\n",
       "      <td>BELU</td>\n",
       "      <td>Long</td>\n",
       "      <td>S</td>\n",
       "      <td>4023.00000</td>\n",
       "      <td>4023.00000</td>\n",
       "      <td>6</td>\n",
       "      <td>24138.00000</td>\n",
       "      <td>0.02071</td>\n",
       "      <td>1.055396</td>\n",
       "    </tr>\n",
       "    <tr>\n",
       "      <th>RENI</th>\n",
       "      <td>RENI</td>\n",
       "      <td>Long</td>\n",
       "      <td>S</td>\n",
       "      <td>54.60000</td>\n",
       "      <td>54.60000</td>\n",
       "      <td>132</td>\n",
       "      <td>7207.20000</td>\n",
       "      <td>0.00762</td>\n",
       "      <td>0.016623</td>\n",
       "    </tr>\n",
       "    <tr>\n",
       "      <th>RTKMP</th>\n",
       "      <td>RTKMP</td>\n",
       "      <td>Long</td>\n",
       "      <td>S</td>\n",
       "      <td>60.70000</td>\n",
       "      <td>60.70000</td>\n",
       "      <td>1141</td>\n",
       "      <td>69258.70000</td>\n",
       "      <td>0.06919</td>\n",
       "      <td>0.012603</td>\n",
       "    </tr>\n",
       "    <tr>\n",
       "      <th>HYDR</th>\n",
       "      <td>HYDR</td>\n",
       "      <td>Long</td>\n",
       "      <td>S</td>\n",
       "      <td>0.82310</td>\n",
       "      <td>0.82310</td>\n",
       "      <td>38903</td>\n",
       "      <td>32021.05930</td>\n",
       "      <td>0.03194</td>\n",
       "      <td>0.000225</td>\n",
       "    </tr>\n",
       "    <tr>\n",
       "      <th>PHOR</th>\n",
       "      <td>PHOR</td>\n",
       "      <td>Long</td>\n",
       "      <td>S</td>\n",
       "      <td>7419.00000</td>\n",
       "      <td>7419.00000</td>\n",
       "      <td>1</td>\n",
       "      <td>7419.00000</td>\n",
       "      <td>0.00616</td>\n",
       "      <td>3.223570</td>\n",
       "    </tr>\n",
       "    <tr>\n",
       "      <th>ELFV</th>\n",
       "      <td>ELFV</td>\n",
       "      <td>Long</td>\n",
       "      <td>S</td>\n",
       "      <td>0.57860</td>\n",
       "      <td>0.57860</td>\n",
       "      <td>884409</td>\n",
       "      <td>511719.04740</td>\n",
       "      <td>0.50659</td>\n",
       "      <td>NaN</td>\n",
       "    </tr>\n",
       "    <tr>\n",
       "      <th>SFIN</th>\n",
       "      <td>SFIN</td>\n",
       "      <td>Long</td>\n",
       "      <td>S</td>\n",
       "      <td>508.00000</td>\n",
       "      <td>508.00000</td>\n",
       "      <td>95</td>\n",
       "      <td>48260.00000</td>\n",
       "      <td>0.04880</td>\n",
       "      <td>0.108234</td>\n",
       "    </tr>\n",
       "    <tr>\n",
       "      <th>MSNG</th>\n",
       "      <td>MSNG</td>\n",
       "      <td>Long</td>\n",
       "      <td>S</td>\n",
       "      <td>2.31950</td>\n",
       "      <td>2.31950</td>\n",
       "      <td>5522</td>\n",
       "      <td>12808.27900</td>\n",
       "      <td>0.01271</td>\n",
       "      <td>0.001049</td>\n",
       "    </tr>\n",
       "    <tr>\n",
       "      <th>APTK</th>\n",
       "      <td>APTK</td>\n",
       "      <td>Long</td>\n",
       "      <td>S</td>\n",
       "      <td>13.01800</td>\n",
       "      <td>13.01800</td>\n",
       "      <td>8255</td>\n",
       "      <td>107463.59000</td>\n",
       "      <td>0.10739</td>\n",
       "      <td>0.002345</td>\n",
       "    </tr>\n",
       "    <tr>\n",
       "      <th>MRKV</th>\n",
       "      <td>MRKV</td>\n",
       "      <td>Long</td>\n",
       "      <td>S</td>\n",
       "      <td>0.03415</td>\n",
       "      <td>0.03415</td>\n",
       "      <td>19749</td>\n",
       "      <td>674.42835</td>\n",
       "      <td>0.00071</td>\n",
       "      <td>0.000014</td>\n",
       "    </tr>\n",
       "    <tr>\n",
       "      <th>MRKS</th>\n",
       "      <td>MRKS</td>\n",
       "      <td>Long</td>\n",
       "      <td>S</td>\n",
       "      <td>0.33900</td>\n",
       "      <td>0.33900</td>\n",
       "      <td>22359</td>\n",
       "      <td>7579.70100</td>\n",
       "      <td>0.00758</td>\n",
       "      <td>0.000160</td>\n",
       "    </tr>\n",
       "    <tr>\n",
       "      <th>SVAV</th>\n",
       "      <td>SVAV</td>\n",
       "      <td>Long</td>\n",
       "      <td>S</td>\n",
       "      <td>237.00000</td>\n",
       "      <td>237.00000</td>\n",
       "      <td>7</td>\n",
       "      <td>1659.00000</td>\n",
       "      <td>0.00158</td>\n",
       "      <td>0.063396</td>\n",
       "    </tr>\n",
       "    <tr>\n",
       "      <th>TGKN</th>\n",
       "      <td>TGKN</td>\n",
       "      <td>Long</td>\n",
       "      <td>S</td>\n",
       "      <td>0.00415</td>\n",
       "      <td>0.00415</td>\n",
       "      <td>6421568</td>\n",
       "      <td>26649.50720</td>\n",
       "      <td>0.02620</td>\n",
       "      <td>0.000002</td>\n",
       "    </tr>\n",
       "    <tr>\n",
       "      <th>VSMO</th>\n",
       "      <td>VSMO</td>\n",
       "      <td>Long</td>\n",
       "      <td>S</td>\n",
       "      <td>47020.00000</td>\n",
       "      <td>47020.00000</td>\n",
       "      <td>2</td>\n",
       "      <td>94040.00000</td>\n",
       "      <td>0.11299</td>\n",
       "      <td>-0.414550</td>\n",
       "    </tr>\n",
       "  </tbody>\n",
       "</table>\n",
       "</div>"
      ],
      "text/plain": [
       "       Stock Direction Type  Stock Price        Price    Units         Value  \\\n",
       "CBOM    CBOM      Long    S      7.44100      7.44100     5428   40389.74800   \n",
       "BSPB    BSPB      Long    S    149.96000    149.96000        7    1049.72000   \n",
       "BELU    BELU      Long    S   4023.00000   4023.00000        6   24138.00000   \n",
       "RENI    RENI      Long    S     54.60000     54.60000      132    7207.20000   \n",
       "RTKMP  RTKMP      Long    S     60.70000     60.70000     1141   69258.70000   \n",
       "HYDR    HYDR      Long    S      0.82310      0.82310    38903   32021.05930   \n",
       "PHOR    PHOR      Long    S   7419.00000   7419.00000        1    7419.00000   \n",
       "ELFV    ELFV      Long    S      0.57860      0.57860   884409  511719.04740   \n",
       "SFIN    SFIN      Long    S    508.00000    508.00000       95   48260.00000   \n",
       "MSNG    MSNG      Long    S      2.31950      2.31950     5522   12808.27900   \n",
       "APTK    APTK      Long    S     13.01800     13.01800     8255  107463.59000   \n",
       "MRKV    MRKV      Long    S      0.03415      0.03415    19749     674.42835   \n",
       "MRKS    MRKS      Long    S      0.33900      0.33900    22359    7579.70100   \n",
       "SVAV    SVAV      Long    S    237.00000    237.00000        7    1659.00000   \n",
       "TGKN    TGKN      Long    S      0.00415      0.00415  6421568   26649.50720   \n",
       "VSMO    VSMO      Long    S  47020.00000  47020.00000        2   94040.00000   \n",
       "\n",
       "        Weight      Beta  \n",
       "CBOM   0.03886  0.000872  \n",
       "BSPB   0.00099  0.042779  \n",
       "BELU   0.02071  1.055396  \n",
       "RENI   0.00762  0.016623  \n",
       "RTKMP  0.06919  0.012603  \n",
       "HYDR   0.03194  0.000225  \n",
       "PHOR   0.00616  3.223570  \n",
       "ELFV   0.50659       NaN  \n",
       "SFIN   0.04880  0.108234  \n",
       "MSNG   0.01271  0.001049  \n",
       "APTK   0.10739  0.002345  \n",
       "MRKV   0.00071  0.000014  \n",
       "MRKS   0.00758  0.000160  \n",
       "SVAV   0.00158  0.063396  \n",
       "TGKN   0.02620  0.000002  \n",
       "VSMO   0.11299 -0.414550  "
      ]
     },
     "execution_count": 56,
     "metadata": {},
     "output_type": "execute_result"
    }
   ],
   "source": [
    "# Minimum volatility portfolio table\n",
    "\n",
    "non_zero_vol = [name for name, value in cleaned_weights_vol.items() if value > 0]\n",
    "non_zero_df = df[non_zero_vol]\n",
    "\n",
    "# Define index symbol\n",
    "stock = ['IMOEX.ME']\n",
    "\n",
    "# Fetch data from Yahoo Finance\n",
    "index = yf.download(stock, start=start, end=end)\n",
    "index = index.reset_index()\n",
    "index.rename(columns={'Date': 'TRADEDATE', 'Adj Close': 'IMOEX'}, inplace=True)\n",
    "index_mer = index[['TRADEDATE', 'IMOEX']]\n",
    "\n",
    "index_mer = index_mer.round(2)\n",
    "\n",
    "all_data = non_zero_df.merge(index_mer, on='TRADEDATE', how='outer')\n",
    "\n",
    "# Sort by TRADEDATE\n",
    "all_data = all_data.sort_values(by='TRADEDATE')\n",
    "\n",
    "# Set TRADEDATE as index column\n",
    "all_data.set_index('TRADEDATE', inplace=True)\n",
    "all_data = all_data.iloc[:-1]\n",
    "\n",
    "non_zero_df_vol = all_data\n",
    "non_zero_df_vol\n",
    "\n",
    "beta_vol = matrix_beta(non_zero_df_vol)\n",
    "\n",
    "non_zero_df_vol.drop('IMOEX', axis = 1, inplace = True)\n",
    "non_zero_df_vol\n",
    "\n",
    "allocation_vol = {col: allocation_vol[col] for col in non_zero_df_vol.columns if col in allocation_vol}\n",
    "\n",
    "units_vol = np.array(list(allocation_vol.values()))\n",
    "price_nested_vol = non_zero_df_vol.iloc[-1:].values.tolist()\n",
    "price_vol = price_nested_vol[0]\n",
    "value_vol = [unit*pr for unit, pr in zip(units_vol, price_vol)]\n",
    "weight_vol = np.array(list(cleaned_weights_vol.values()))\n",
    "non_zero_weight_vol = [value for value in weight_vol if value > 0]\n",
    "\n",
    "Portfolio_vol = pd.DataFrame({\n",
    "    'Stock': non_zero_df_vol.columns.tolist(),\n",
    "    'Direction': 'Long',\n",
    "    'Type': 'S',\n",
    "    'Stock Price': price_vol,\n",
    "    'Price': price_vol,\n",
    "    'Units': units_vol,\n",
    "    'Value': units_vol*price_vol,\n",
    "    'Weight': non_zero_weight_vol,\n",
    "    'Beta': beta_vol,\n",
    "    })\n",
    "Portfolio_vol"
   ]
  },
  {
   "cell_type": "code",
   "execution_count": 57,
   "id": "585d2895-0d0b-4775-9faa-acb30d437d08",
   "metadata": {},
   "outputs": [
    {
     "name": "stdout",
     "output_type": "stream",
     "text": [
      "OrderedDict([('CBOM', 0.0), ('ALRS', 0.0), ('VTBR', 0.0), ('RUAL', 0.0), ('ENPG', 0.0), ('BSPB', 0.98048), ('AFKS', 0.0), ('AFLT', 0.0), ('BELU', 0.0), ('GAZP', 0.0), ('GMKN', 0.0), ('LSRG', 0.0), ('POSI', 0.01952), ('RENI', 0.0), ('DSKY', 0.0), ('IRAO', 0.0), ('MVID', 0.0), ('MAGN', 0.0), ('MTLR', 0.0), ('MTLRP', 0.0), ('MTSS', 0.0), ('MOEX', 0.0), ('LKOH', 0.0), ('NLMK', 0.0), ('PIKK', 0.0), ('PLZL', 0.0), ('RTKM', 0.0), ('RTKMP', 0.0), ('SBER', 0.0), ('SBERP', 0.0), ('CHMF', 0.0), ('SELG', 0.0), ('FLOT', 0.0), ('TGKA', 0.0), ('TRNFP', 0.0), ('HYDR', 0.0), ('FEES', 0.0), ('PHOR', 0.0), ('ELFV', 0.0), ('SFIN', 0.0), ('UPRO', 0.0), ('SGZH', 0.0), ('RNFT', 0.0), ('MSNG', 0.0), ('SMLT', 0.0), ('NVTK', 0.0), ('ROSN', 0.0), ('TATN', 0.0), ('TATNP', 0.0), ('AQUA', 0.0), ('AKRN', 0.0), ('APTK', 0.0), ('OGKB', 0.0), ('FESH', 0.0), ('KMAZ', 0.0), ('RASP', 0.0), ('MRKV', 0.0), ('MSRS', 0.0), ('MRKZ', 0.0), ('MRKS', 0.0), ('MRKU', 0.0), ('MRKP', 0.0), ('MRKC', 0.0), ('SVAV', 0.0), ('SNGS', 0.0), ('SNGSP', 0.0), ('TGKN', 0.0), ('TRMK', 0.0), ('VSMO', 0.0), ('MGTSP', 0.0)])\n",
      "Expected annual return: 168.5%\n",
      "Annual volatility: 43.7%\n",
      "Sharpe Ratio: 3.81\n"
     ]
    },
    {
     "name": "stderr",
     "output_type": "stream",
     "text": [
      "c:\\Users\\Gegenubr\\anaconda3\\Lib\\site-packages\\cvxpy\\reductions\\solvers\\solving_chain.py:336: FutureWarning:\n",
      "\n",
      "\n",
      "    Your problem is being solved with the ECOS solver by default. Starting in \n",
      "    CVXPY 1.5.0, Clarabel will be used as the default solver instead. To continue \n",
      "    using ECOS, specify the ECOS solver explicitly using the ``solver=cp.ECOS`` \n",
      "    argument to the ``problem.solve`` method.\n",
      "    \n",
      "\n"
     ]
    },
    {
     "data": {
      "text/plain": [
       "(1.684635865963877, 0.4365508838261965, 3.813154268235582)"
      ]
     },
     "execution_count": 57,
     "metadata": {},
     "output_type": "execute_result"
    }
   ],
   "source": [
    "# Maximum Return Portfolio\n",
    "\n",
    "# Calculate all assets risk and returns\n",
    "mu_max_return = expected_returns.mean_historical_return(df.ffill())\n",
    "s_max_return = risk_models.CovarianceShrinkage(df.ffill()).ledoit_wolf()\n",
    "\n",
    "# Use efficient frontier to determine weights for the maximum return\n",
    "ef_max_return = EfficientFrontier(mu_max_return, s_max_return)\n",
    "\n",
    "# Find the highest expected return from the assets\n",
    "max_return = max(mu_max_return)-0.01\n",
    "\n",
    "# Get the portfolio weights that target the maximum return\n",
    "weights_max_return = ef_max_return.efficient_return(target_return=max_return)\n",
    "\n",
    "cleaned_weights_max_return = ef_max_return.clean_weights()\n",
    "print(cleaned_weights_max_return)\n",
    "ef_max_return.portfolio_performance(verbose=True)\n"
   ]
  },
  {
   "cell_type": "code",
   "execution_count": 58,
   "id": "389a917a-6648-4e34-8dd1-6ee7a469f726",
   "metadata": {},
   "outputs": [
    {
     "name": "stdout",
     "output_type": "stream",
     "text": [
      "Discrete Allocation:  {'BSPB': 6602, 'POSI': 11}\n",
      "Funds Remaining:  718.2000000000007\n"
     ]
    }
   ],
   "source": [
    "# Calculate allocation\n",
    "\n",
    "portfolio_val = 1000000\n",
    "latest_prices_max_return = get_latest_prices(df)\n",
    "weights_max_return = cleaned_weights_max_return\n",
    "da_max_return = DiscreteAllocation(weights_max_return, latest_prices_max_return, total_portfolio_value = portfolio_val)\n",
    "allocation_max_return, leftover_max_return = da_max_return.greedy_portfolio()\n",
    "print('Discrete Allocation: ', allocation_max_return)\n",
    "print('Funds Remaining: ', leftover_max_return)"
   ]
  },
  {
   "cell_type": "code",
   "execution_count": 59,
   "id": "8a3058e1-261d-4a05-9dd8-b4225ba9dbed",
   "metadata": {},
   "outputs": [
    {
     "name": "stderr",
     "output_type": "stream",
     "text": [
      "c:\\Users\\Gegenubr\\anaconda3\\Lib\\site-packages\\cvxpy\\reductions\\solvers\\solving_chain.py:336: FutureWarning:\n",
      "\n",
      "\n",
      "    Your problem is being solved with the ECOS solver by default. Starting in \n",
      "    CVXPY 1.5.0, Clarabel will be used as the default solver instead. To continue \n",
      "    using ECOS, specify the ECOS solver explicitly using the ``solver=cp.ECOS`` \n",
      "    argument to the ``problem.solve`` method.\n",
      "    \n",
      "\n"
     ]
    },
    {
     "data": {
      "image/png": "[encoded data removed]",
      "text/plain": [
       "<Figure size 640x480 with 1 Axes>"
      ]
     },
     "metadata": {},
     "output_type": "display_data"
    },
    {
     "data": {
      "application/vnd.plotly.v1+json": {
       "config": {
        "plotlyServerURL": "https://plot.ly"
       },
       "data": [
        {
         "labels": [
          "BSPB"
         ],
         "marker": {
          "line": {
           "color": "#000000",
           "width": 1
          }
         },
         "pull": [
          0
         ],
         "textfont": {
          "size": 10
         },
         "textinfo": "percent+label",
         "textposition": "inside",
         "type": "pie",
         "values": [
          0.99998
         ]
        }
       ],
       "layout": {
        "autosize": false,
        "height": 600,
        "template": {
         "data": {
          "bar": [
           {
            "error_x": {
             "color": "#2a3f5f"
            },
            "error_y": {
             "color": "#2a3f5f"
            },
            "marker": {
             "line": {
              "color": "#E5ECF6",
              "width": 0.5
             },
             "pattern": {
              "fillmode": "overlay",
              "size": 10,
              "solidity": 0.2
             }
            },
            "type": "bar"
           }
          ],
          "barpolar": [
           {
            "marker": {
             "line": {
              "color": "#E5ECF6",
              "width": 0.5
             },
             "pattern": {
              "fillmode": "overlay",
              "size": 10,
              "solidity": 0.2
             }
            },
            "type": "barpolar"
           }
          ],
          "carpet": [
           {
            "aaxis": {
             "endlinecolor": "#2a3f5f",
             "gridcolor": "white",
             "linecolor": "white",
             "minorgridcolor": "white",
             "startlinecolor": "#2a3f5f"
            },
            "baxis": {
             "endlinecolor": "#2a3f5f",
             "gridcolor": "white",
             "linecolor": "white",
             "minorgridcolor": "white",
             "startlinecolor": "#2a3f5f"
            },
            "type": "carpet"
           }
          ],
          "choropleth": [
           {
            "colorbar": {
             "outlinewidth": 0,
             "ticks": ""
            },
            "type": "choropleth"
           }
          ],
          "contour": [
           {
            "colorbar": {
             "outlinewidth": 0,
             "ticks": ""
            },
            "colorscale": [
             [
              0,
              "#0d0887"
             ],
             [
              0.1111111111111111,
              "#46039f"
             ],
             [
              0.2222222222222222,
              "#7201a8"
             ],
             [
              0.3333333333333333,
              "#9c179e"
             ],
             [
              0.4444444444444444,
              "#bd3786"
             ],
             [
              0.5555555555555556,
              "#d8576b"
             ],
             [
              0.6666666666666666,
              "#ed7953"
             ],
             [
              0.7777777777777778,
              "#fb9f3a"
             ],
             [
              0.8888888888888888,
              "#fdca26"
             ],
             [
              1,
              "#f0f921"
             ]
            ],
            "type": "contour"
           }
          ],
          "contourcarpet": [
           {
            "colorbar": {
             "outlinewidth": 0,
             "ticks": ""
            },
            "type": "contourcarpet"
           }
          ],
          "heatmap": [
           {
            "colorbar": {
             "outlinewidth": 0,
             "ticks": ""
            },
            "colorscale": [
             [
              0,
              "#0d0887"
             ],
             [
              0.1111111111111111,
              "#46039f"
             ],
             [
              0.2222222222222222,
              "#7201a8"
             ],
             [
              0.3333333333333333,
              "#9c179e"
             ],
             [
              0.4444444444444444,
              "#bd3786"
             ],
             [
              0.5555555555555556,
              "#d8576b"
             ],
             [
              0.6666666666666666,
              "#ed7953"
             ],
             [
              0.7777777777777778,
              "#fb9f3a"
             ],
             [
              0.8888888888888888,
              "#fdca26"
             ],
             [
              1,
              "#f0f921"
             ]
            ],
            "type": "heatmap"
           }
          ],
          "heatmapgl": [
           {
            "colorbar": {
             "outlinewidth": 0,
             "ticks": ""
            },
            "colorscale": [
             [
              0,
              "#0d0887"
             ],
             [
              0.1111111111111111,
              "#46039f"
             ],
             [
              0.2222222222222222,
              "#7201a8"
             ],
             [
              0.3333333333333333,
              "#9c179e"
             ],
             [
              0.4444444444444444,
              "#bd3786"
             ],
             [
              0.5555555555555556,
              "#d8576b"
             ],
             [
              0.6666666666666666,
              "#ed7953"
             ],
             [
              0.7777777777777778,
              "#fb9f3a"
             ],
             [
              0.8888888888888888,
              "#fdca26"
             ],
             [
              1,
              "#f0f921"
             ]
            ],
            "type": "heatmapgl"
           }
          ],
          "histogram": [
           {
            "marker": {
             "pattern": {
              "fillmode": "overlay",
              "size": 10,
              "solidity": 0.2
             }
            },
            "type": "histogram"
           }
          ],
          "histogram2d": [
           {
            "colorbar": {
             "outlinewidth": 0,
             "ticks": ""
            },
            "colorscale": [
             [
              0,
              "#0d0887"
             ],
             [
              0.1111111111111111,
              "#46039f"
             ],
             [
              0.2222222222222222,
              "#7201a8"
             ],
             [
              0.3333333333333333,
              "#9c179e"
             ],
             [
              0.4444444444444444,
              "#bd3786"
             ],
             [
              0.5555555555555556,
              "#d8576b"
             ],
             [
              0.6666666666666666,
              "#ed7953"
             ],
             [
              0.7777777777777778,
              "#fb9f3a"
             ],
             [
              0.8888888888888888,
              "#fdca26"
             ],
             [
              1,
              "#f0f921"
             ]
            ],
            "type": "histogram2d"
           }
          ],
          "histogram2dcontour": [
           {
            "colorbar": {
             "outlinewidth": 0,
             "ticks": ""
            },
            "colorscale": [
             [
              0,
              "#0d0887"
             ],
             [
              0.1111111111111111,
              "#46039f"
             ],
             [
              0.2222222222222222,
              "#7201a8"
             ],
             [
              0.3333333333333333,
              "#9c179e"
             ],
             [
              0.4444444444444444,
              "#bd3786"
             ],
             [
              0.5555555555555556,
              "#d8576b"
             ],
             [
              0.6666666666666666,
              "#ed7953"
             ],
             [
              0.7777777777777778,
              "#fb9f3a"
             ],
             [
              0.8888888888888888,
              "#fdca26"
             ],
             [
              1,
              "#f0f921"
             ]
            ],
            "type": "histogram2dcontour"
           }
          ],
          "mesh3d": [
           {
            "colorbar": {
             "outlinewidth": 0,
             "ticks": ""
            },
            "type": "mesh3d"
           }
          ],
          "parcoords": [
           {
            "line": {
             "colorbar": {
              "outlinewidth": 0,
              "ticks": ""
             }
            },
            "type": "parcoords"
           }
          ],
          "pie": [
           {
            "automargin": true,
            "type": "pie"
           }
          ],
          "scatter": [
           {
            "fillpattern": {
             "fillmode": "overlay",
             "size": 10,
             "solidity": 0.2
            },
            "type": "scatter"
           }
          ],
          "scatter3d": [
           {
            "line": {
             "colorbar": {
              "outlinewidth": 0,
              "ticks": ""
             }
            },
            "marker": {
             "colorbar": {
              "outlinewidth": 0,
              "ticks": ""
             }
            },
            "type": "scatter3d"
           }
          ],
          "scattercarpet": [
           {
            "marker": {
             "colorbar": {
              "outlinewidth": 0,
              "ticks": ""
             }
            },
            "type": "scattercarpet"
           }
          ],
          "scattergeo": [
           {
            "marker": {
             "colorbar": {
              "outlinewidth": 0,
              "ticks": ""
             }
            },
            "type": "scattergeo"
           }
          ],
          "scattergl": [
           {
            "marker": {
             "colorbar": {
              "outlinewidth": 0,
              "ticks": ""
             }
            },
            "type": "scattergl"
           }
          ],
          "scattermapbox": [
           {
            "marker": {
             "colorbar": {
              "outlinewidth": 0,
              "ticks": ""
             }
            },
            "type": "scattermapbox"
           }
          ],
          "scatterpolar": [
           {
            "marker": {
             "colorbar": {
              "outlinewidth": 0,
              "ticks": ""
             }
            },
            "type": "scatterpolar"
           }
          ],
          "scatterpolargl": [
           {
            "marker": {
             "colorbar": {
              "outlinewidth": 0,
              "ticks": ""
             }
            },
            "type": "scatterpolargl"
           }
          ],
          "scatterternary": [
           {
            "marker": {
             "colorbar": {
              "outlinewidth": 0,
              "ticks": ""
             }
            },
            "type": "scatterternary"
           }
          ],
          "surface": [
           {
            "colorbar": {
             "outlinewidth": 0,
             "ticks": ""
            },
            "colorscale": [
             [
              0,
              "#0d0887"
             ],
             [
              0.1111111111111111,
              "#46039f"
             ],
             [
              0.2222222222222222,
              "#7201a8"
             ],
             [
              0.3333333333333333,
              "#9c179e"
             ],
             [
              0.4444444444444444,
              "#bd3786"
             ],
             [
              0.5555555555555556,
              "#d8576b"
             ],
             [
              0.6666666666666666,
              "#ed7953"
             ],
             [
              0.7777777777777778,
              "#fb9f3a"
             ],
             [
              0.8888888888888888,
              "#fdca26"
             ],
             [
              1,
              "#f0f921"
             ]
            ],
            "type": "surface"
           }
          ],
          "table": [
           {
            "cells": {
             "fill": {
              "color": "#EBF0F8"
             },
             "line": {
              "color": "white"
             }
            },
            "header": {
             "fill": {
              "color": "#C8D4E3"
             },
             "line": {
              "color": "white"
             }
            },
            "type": "table"
           }
          ]
         },
         "layout": {
          "annotationdefaults": {
           "arrowcolor": "#2a3f5f",
           "arrowhead": 0,
           "arrowwidth": 1
          },
          "autotypenumbers": "strict",
          "coloraxis": {
           "colorbar": {
            "outlinewidth": 0,
            "ticks": ""
           }
          },
          "colorscale": {
           "diverging": [
            [
             0,
             "#8e0152"
            ],
            [
             0.1,
             "#c51b7d"
            ],
            [
             0.2,
             "#de77ae"
            ],
            [
             0.3,
             "#f1b6da"
            ],
            [
             0.4,
             "#fde0ef"
            ],
            [
             0.5,
             "#f7f7f7"
            ],
            [
             0.6,
             "#e6f5d0"
            ],
            [
             0.7,
             "#b8e186"
            ],
            [
             0.8,
             "#7fbc41"
            ],
            [
             0.9,
             "#4d9221"
            ],
            [
             1,
             "#276419"
            ]
           ],
           "sequential": [
            [
             0,
             "#0d0887"
            ],
            [
             0.1111111111111111,
             "#46039f"
            ],
            [
             0.2222222222222222,
             "#7201a8"
            ],
            [
             0.3333333333333333,
             "#9c179e"
            ],
            [
             0.4444444444444444,
             "#bd3786"
            ],
            [
             0.5555555555555556,
             "#d8576b"
            ],
            [
             0.6666666666666666,
             "#ed7953"
            ],
            [
             0.7777777777777778,
             "#fb9f3a"
            ],
            [
             0.8888888888888888,
             "#fdca26"
            ],
            [
             1,
             "#f0f921"
            ]
           ],
           "sequentialminus": [
            [
             0,
             "#0d0887"
            ],
            [
             0.1111111111111111,
             "#46039f"
            ],
            [
             0.2222222222222222,
             "#7201a8"
            ],
            [
             0.3333333333333333,
             "#9c179e"
            ],
            [
             0.4444444444444444,
             "#bd3786"
            ],
            [
             0.5555555555555556,
             "#d8576b"
            ],
            [
             0.6666666666666666,
             "#ed7953"
            ],
            [
             0.7777777777777778,
             "#fb9f3a"
            ],
            [
             0.8888888888888888,
             "#fdca26"
            ],
            [
             1,
             "#f0f921"
            ]
           ]
          },
          "colorway": [
           "#636efa",
           "#EF553B",
           "#00cc96",
           "#ab63fa",
           "#FFA15A",
           "#19d3f3",
           "#FF6692",
           "#B6E880",
           "#FF97FF",
           "#FECB52"
          ],
          "font": {
           "color": "#2a3f5f"
          },
          "geo": {
           "bgcolor": "white",
           "lakecolor": "white",
           "landcolor": "#E5ECF6",
           "showlakes": true,
           "showland": true,
           "subunitcolor": "white"
          },
          "hoverlabel": {
           "align": "left"
          },
          "hovermode": "closest",
          "mapbox": {
           "style": "light"
          },
          "paper_bgcolor": "white",
          "plot_bgcolor": "#E5ECF6",
          "polar": {
           "angularaxis": {
            "gridcolor": "white",
            "linecolor": "white",
            "ticks": ""
           },
           "bgcolor": "#E5ECF6",
           "radialaxis": {
            "gridcolor": "white",
            "linecolor": "white",
            "ticks": ""
           }
          },
          "scene": {
           "xaxis": {
            "backgroundcolor": "#E5ECF6",
            "gridcolor": "white",
            "gridwidth": 2,
            "linecolor": "white",
            "showbackground": true,
            "ticks": "",
            "zerolinecolor": "white"
           },
           "yaxis": {
            "backgroundcolor": "#E5ECF6",
            "gridcolor": "white",
            "gridwidth": 2,
            "linecolor": "white",
            "showbackground": true,
            "ticks": "",
            "zerolinecolor": "white"
           },
           "zaxis": {
            "backgroundcolor": "#E5ECF6",
            "gridcolor": "white",
            "gridwidth": 2,
            "linecolor": "white",
            "showbackground": true,
            "ticks": "",
            "zerolinecolor": "white"
           }
          },
          "shapedefaults": {
           "line": {
            "color": "#2a3f5f"
           }
          },
          "ternary": {
           "aaxis": {
            "gridcolor": "white",
            "linecolor": "white",
            "ticks": ""
           },
           "baxis": {
            "gridcolor": "white",
            "linecolor": "white",
            "ticks": ""
           },
           "bgcolor": "#E5ECF6",
           "caxis": {
            "gridcolor": "white",
            "linecolor": "white",
            "ticks": ""
           }
          },
          "title": {
           "x": 0.05
          },
          "xaxis": {
           "automargin": true,
           "gridcolor": "white",
           "linecolor": "white",
           "ticks": "",
           "title": {
            "standoff": 15
           },
           "zerolinecolor": "white",
           "zerolinewidth": 2
          },
          "yaxis": {
           "automargin": true,
           "gridcolor": "white",
           "linecolor": "white",
           "ticks": "",
           "title": {
            "standoff": 15
           },
           "zerolinecolor": "white",
           "zerolinewidth": 2
          }
         }
        },
        "title": {
         "text": "Portfolio Allocation"
        },
        "width": 800
       }
      }
     },
     "metadata": {},
     "output_type": "display_data"
    }
   ],
   "source": [
    "plt.style.use('classic')\n",
    "\n",
    "# Create a new Efficient Frontier object for plotting\n",
    "ef_max_ret_plot = EfficientFrontier(mu_max_return, s_max_return)\n",
    "\n",
    "# Plotting the efficient frontier\n",
    "fig, ax = plt.subplots()\n",
    "plotting.plot_efficient_frontier(ef_max_ret_plot, ax=ax, show_assets=True)\n",
    "\n",
    "# Calculate the maximum return portfolio instead of the minimum volatility\n",
    "ef_max_return = EfficientFrontier(mu_max_return, s_max_return)\n",
    "max_return = max(mu_max_return) - 0.00001\n",
    "weights_max_return = ef_max_return.efficient_return(target_return=max_return)\n",
    "cleaned_weights_max_return = ef_max_return.clean_weights()\n",
    "ret_max_return, std_max_return, _ = ef_max_return.portfolio_performance()\n",
    "ax.scatter(std_max_return, ret_max_return, marker=\"*\", s=100, c=\"r\", label=\"Max Return\")\n",
    "\n",
    "# Format the matplotlib plot\n",
    "ax.set_title(\"Efficient Frontier with Maximum Return Portfolio\")\n",
    "ax.legend()\n",
    "plt.tight_layout()\n",
    "plt.show()  # Display the matplotlib plot\n",
    "\n",
    "# Filter out portfolio weights that are 0\n",
    "non_zero_weights_max_return = {ticker: weight for ticker, weight in cleaned_weights_max_return.items() if weight > 0}\n",
    "\n",
    "# Extract the labels and sizes for the pie chart\n",
    "labels_max_return = list(non_zero_weights_max_return.keys())\n",
    "sizes_max_return = list(non_zero_weights_max_return.values())\n",
    "sizes_max_return = [abs(x) for x in sizes_max_return]  # take the absolute value for plotting\n",
    "\n",
    "# Create the figure for the pie chart\n",
    "fig_max_return = go.Figure(data=[go.Pie(labels=labels_max_return, values=sizes_max_return)])\n",
    "\n",
    "# Adjust the layout of the pie chart\n",
    "fig_max_return.update_layout(\n",
    "    title_text='Portfolio Allocation',\n",
    "    autosize=False,\n",
    "    width=800,\n",
    "    height=600,\n",
    ")\n",
    "\n",
    "# Improve label positioning\n",
    "fig_max_return.update_traces(\n",
    "    textinfo='percent+label',\n",
    "    textfont_size=10,\n",
    "    marker=dict(line=dict(color='#000000', width=1)),\n",
    "    pull=[0.05 if size > 10 else 0 for size in sizes_max_return],  # Pull out slices with size > 10%\n",
    "    textposition='inside'\n",
    ")\n",
    "\n",
    "# Show the Plotly figure\n",
    "fig_max_return.show()"
   ]
  },
  {
   "cell_type": "code",
   "execution_count": 60,
   "id": "07fa3ac8",
   "metadata": {},
   "outputs": [
    {
     "name": "stdout",
     "output_type": "stream",
     "text": [
      "[*********************100%%**********************]  1 of 1 completed\n"
     ]
    },
    {
     "data": {
      "text/html": [
       "<div>\n",
       "<style scoped>\n",
       "    .dataframe tbody tr th:only-of-type {\n",
       "        vertical-align: middle;\n",
       "    }\n",
       "\n",
       "    .dataframe tbody tr th {\n",
       "        vertical-align: top;\n",
       "    }\n",
       "\n",
       "    .dataframe thead th {\n",
       "        text-align: right;\n",
       "    }\n",
       "</style>\n",
       "<table border=\"1\" class=\"dataframe\">\n",
       "  <thead>\n",
       "    <tr style=\"text-align: right;\">\n",
       "      <th></th>\n",
       "      <th>Stock</th>\n",
       "      <th>Direction</th>\n",
       "      <th>Type</th>\n",
       "      <th>Stock Price</th>\n",
       "      <th>Price</th>\n",
       "      <th>Units</th>\n",
       "      <th>Value</th>\n",
       "      <th>Weight</th>\n",
       "      <th>Beta</th>\n",
       "    </tr>\n",
       "  </thead>\n",
       "  <tbody>\n",
       "    <tr>\n",
       "      <th>BSPB</th>\n",
       "      <td>BSPB</td>\n",
       "      <td>Long</td>\n",
       "      <td>S</td>\n",
       "      <td>149.96</td>\n",
       "      <td>149.96</td>\n",
       "      <td>6602</td>\n",
       "      <td>990035.92</td>\n",
       "      <td>0.99998</td>\n",
       "      <td>0.042779</td>\n",
       "    </tr>\n",
       "  </tbody>\n",
       "</table>\n",
       "</div>"
      ],
      "text/plain": [
       "     Stock Direction Type  Stock Price   Price  Units      Value   Weight  \\\n",
       "BSPB  BSPB      Long    S       149.96  149.96   6602  990035.92  0.99998   \n",
       "\n",
       "          Beta  \n",
       "BSPB  0.042779  "
      ]
     },
     "execution_count": 60,
     "metadata": {},
     "output_type": "execute_result"
    }
   ],
   "source": [
    "# Maximum return portfolio table\n",
    "\n",
    "non_zero_max_return = [name for name, value in cleaned_weights_max_return.items() if value > 0]\n",
    "non_zero_df = df[non_zero_max_return]\n",
    "\n",
    "# Define index symbol\n",
    "stock = ['IMOEX.ME']\n",
    "\n",
    "# Fetch data from Yahoo Finance\n",
    "index = yf.download(stock, start=start, end=end)\n",
    "index = index.reset_index()\n",
    "index.rename(columns={'Date': 'TRADEDATE', 'Adj Close': 'IMOEX'}, inplace=True)\n",
    "index_mer = index[['TRADEDATE', 'IMOEX']]\n",
    "\n",
    "index_mer = index_mer.round(2)\n",
    "\n",
    "all_data = non_zero_df.merge(index_mer, on='TRADEDATE', how='outer')\n",
    "\n",
    "# Sort by TRADEDATE\n",
    "all_data = all_data.sort_values(by='TRADEDATE')\n",
    "\n",
    "# Set TRADEDATE as index column\n",
    "all_data.set_index('TRADEDATE', inplace=True)\n",
    "all_data = all_data.iloc[:-1]\n",
    "\n",
    "non_zero_df_max_return = all_data\n",
    "non_zero_df_max_return\n",
    "\n",
    "beta_max_return = matrix_beta(non_zero_df_max_return)\n",
    "\n",
    "non_zero_df_max_return.drop('IMOEX', axis = 1, inplace = True)\n",
    "non_zero_df_max_return\n",
    "\n",
    "allocation_max_return = {col: allocation_max_return[col] for col in non_zero_df_max_return.columns if col in allocation_max_return}\n",
    "\n",
    "units_max_return = np.array(list(allocation_max_return.values()))\n",
    "price_nested_max_return = non_zero_df_max_return.iloc[-1:].values.tolist()\n",
    "price_max_return = price_nested_max_return[0]\n",
    "value_max_return = [unit*pr for unit, pr in zip(units_max_return, price_max_return)]\n",
    "weight_max_return = np.array(list(cleaned_weights_max_return.values()))\n",
    "non_zero_weight_max_return = [value for value in weight_max_return if value > 0]\n",
    "\n",
    "Portfolio_max_return = pd.DataFrame({\n",
    "    'Stock': non_zero_df_max_return.columns.tolist(),\n",
    "    'Direction': 'Long',\n",
    "    'Type': 'S',\n",
    "    'Stock Price': price_max_return,\n",
    "    'Price': price_max_return,\n",
    "    'Units': units_max_return,\n",
    "    'Value': units_max_return*price_max_return,\n",
    "    'Weight': non_zero_weight_max_return,\n",
    "    'Beta': beta_max_return,\n",
    "    })\n",
    "Portfolio_max_return"
   ]
  },
  {
   "cell_type": "code",
   "execution_count": 61,
   "id": "cbed8665-ca98-4af0-bc55-39502616a74c",
   "metadata": {},
   "outputs": [
    {
     "name": "stdout",
     "output_type": "stream",
     "text": [
      "[*********************100%%**********************]  1 of 1 completed"
     ]
    },
    {
     "name": "stdout",
     "output_type": "stream",
     "text": [
      "\n"
     ]
    },
    {
     "data": {
      "text/html": [
       "<div>\n",
       "<style scoped>\n",
       "    .dataframe tbody tr th:only-of-type {\n",
       "        vertical-align: middle;\n",
       "    }\n",
       "\n",
       "    .dataframe tbody tr th {\n",
       "        vertical-align: top;\n",
       "    }\n",
       "\n",
       "    .dataframe thead th {\n",
       "        text-align: right;\n",
       "    }\n",
       "</style>\n",
       "<table border=\"1\" class=\"dataframe\">\n",
       "  <thead>\n",
       "    <tr style=\"text-align: right;\">\n",
       "      <th></th>\n",
       "      <th>BSPB</th>\n",
       "      <th>BELU</th>\n",
       "      <th>POSI</th>\n",
       "      <th>SBERP</th>\n",
       "      <th>TGKN</th>\n",
       "      <th>TRMK</th>\n",
       "      <th>IMOEX</th>\n",
       "    </tr>\n",
       "    <tr>\n",
       "      <th>TRADEDATE</th>\n",
       "      <th></th>\n",
       "      <th></th>\n",
       "      <th></th>\n",
       "      <th></th>\n",
       "      <th></th>\n",
       "      <th></th>\n",
       "      <th></th>\n",
       "    </tr>\n",
       "  </thead>\n",
       "  <tbody>\n",
       "    <tr>\n",
       "      <th>2022-06-01</th>\n",
       "      <td>64.50</td>\n",
       "      <td>2312</td>\n",
       "      <td>890.4</td>\n",
       "      <td>113.19</td>\n",
       "      <td>0.00262</td>\n",
       "      <td>53.90</td>\n",
       "      <td>2374.60</td>\n",
       "    </tr>\n",
       "    <tr>\n",
       "      <th>2022-06-02</th>\n",
       "      <td>64.78</td>\n",
       "      <td>2296</td>\n",
       "      <td>882.2</td>\n",
       "      <td>112.11</td>\n",
       "      <td>0.00261</td>\n",
       "      <td>52.64</td>\n",
       "      <td>2340.17</td>\n",
       "    </tr>\n",
       "    <tr>\n",
       "      <th>2022-06-03</th>\n",
       "      <td>65.22</td>\n",
       "      <td>2275</td>\n",
       "      <td>879.8</td>\n",
       "      <td>112.02</td>\n",
       "      <td>0.00262</td>\n",
       "      <td>51.74</td>\n",
       "      <td>2308.03</td>\n",
       "    </tr>\n",
       "    <tr>\n",
       "      <th>2022-06-06</th>\n",
       "      <td>66.80</td>\n",
       "      <td>2336</td>\n",
       "      <td>860.0</td>\n",
       "      <td>113.70</td>\n",
       "      <td>0.00263</td>\n",
       "      <td>51.70</td>\n",
       "      <td>2282.16</td>\n",
       "    </tr>\n",
       "    <tr>\n",
       "      <th>2022-06-07</th>\n",
       "      <td>66.22</td>\n",
       "      <td>2330</td>\n",
       "      <td>850.0</td>\n",
       "      <td>113.00</td>\n",
       "      <td>0.00264</td>\n",
       "      <td>52.02</td>\n",
       "      <td>2291.62</td>\n",
       "    </tr>\n",
       "    <tr>\n",
       "      <th>...</th>\n",
       "      <td>...</td>\n",
       "      <td>...</td>\n",
       "      <td>...</td>\n",
       "      <td>...</td>\n",
       "      <td>...</td>\n",
       "      <td>...</td>\n",
       "      <td>...</td>\n",
       "    </tr>\n",
       "    <tr>\n",
       "      <th>2023-03-24</th>\n",
       "      <td>155.20</td>\n",
       "      <td>3894</td>\n",
       "      <td>1702.8</td>\n",
       "      <td>203.68</td>\n",
       "      <td>0.00360</td>\n",
       "      <td>95.90</td>\n",
       "      <td>2391.53</td>\n",
       "    </tr>\n",
       "    <tr>\n",
       "      <th>2023-03-27</th>\n",
       "      <td>154.00</td>\n",
       "      <td>4009</td>\n",
       "      <td>1708.0</td>\n",
       "      <td>211.94</td>\n",
       "      <td>0.00366</td>\n",
       "      <td>104.48</td>\n",
       "      <td>2440.68</td>\n",
       "    </tr>\n",
       "    <tr>\n",
       "      <th>2023-03-28</th>\n",
       "      <td>152.10</td>\n",
       "      <td>4038</td>\n",
       "      <td>1703.2</td>\n",
       "      <td>213.90</td>\n",
       "      <td>0.00380</td>\n",
       "      <td>103.00</td>\n",
       "      <td>2442.19</td>\n",
       "    </tr>\n",
       "    <tr>\n",
       "      <th>2023-03-29</th>\n",
       "      <td>150.09</td>\n",
       "      <td>4032</td>\n",
       "      <td>1709.8</td>\n",
       "      <td>217.67</td>\n",
       "      <td>0.00375</td>\n",
       "      <td>102.70</td>\n",
       "      <td>2460.87</td>\n",
       "    </tr>\n",
       "    <tr>\n",
       "      <th>2023-03-30</th>\n",
       "      <td>149.96</td>\n",
       "      <td>4023</td>\n",
       "      <td>1716.0</td>\n",
       "      <td>216.80</td>\n",
       "      <td>0.00415</td>\n",
       "      <td>100.72</td>\n",
       "      <td>2465.93</td>\n",
       "    </tr>\n",
       "  </tbody>\n",
       "</table>\n",
       "<p>212 rows × 7 columns</p>\n",
       "</div>"
      ],
      "text/plain": [
       "              BSPB  BELU    POSI   SBERP     TGKN    TRMK    IMOEX\n",
       "TRADEDATE                                                         \n",
       "2022-06-01   64.50  2312   890.4  113.19  0.00262   53.90  2374.60\n",
       "2022-06-02   64.78  2296   882.2  112.11  0.00261   52.64  2340.17\n",
       "2022-06-03   65.22  2275   879.8  112.02  0.00262   51.74  2308.03\n",
       "2022-06-06   66.80  2336   860.0  113.70  0.00263   51.70  2282.16\n",
       "2022-06-07   66.22  2330   850.0  113.00  0.00264   52.02  2291.62\n",
       "...            ...   ...     ...     ...      ...     ...      ...\n",
       "2023-03-24  155.20  3894  1702.8  203.68  0.00360   95.90  2391.53\n",
       "2023-03-27  154.00  4009  1708.0  211.94  0.00366  104.48  2440.68\n",
       "2023-03-28  152.10  4038  1703.2  213.90  0.00380  103.00  2442.19\n",
       "2023-03-29  150.09  4032  1709.8  217.67  0.00375  102.70  2460.87\n",
       "2023-03-30  149.96  4023  1716.0  216.80  0.00415  100.72  2465.93\n",
       "\n",
       "[212 rows x 7 columns]"
      ]
     },
     "execution_count": 61,
     "metadata": {},
     "output_type": "execute_result"
    }
   ],
   "source": [
    "non_zero = [name for name, value in cleaned_weights.items() if value > 0]\n",
    "non_zero_df = df[non_zero]\n",
    "\n",
    "# Define index symbol\n",
    "stock = ['IMOEX.ME']\n",
    "\n",
    "# Fetch data from Yahoo Finance\n",
    "index = yf.download(stock, start=start, end=end)\n",
    "index = index.reset_index()\n",
    "index.rename(columns={'Date': 'TRADEDATE', 'Adj Close': 'IMOEX'}, inplace=True)\n",
    "index_mer = index[['TRADEDATE', 'IMOEX']]\n",
    "\n",
    "index_mer = index_mer.round(2)\n",
    "\n",
    "all_data = non_zero_df.merge(index_mer, on='TRADEDATE', how='outer')\n",
    "\n",
    "# Sort by TRADEDATE\n",
    "all_data = all_data.sort_values(by='TRADEDATE')\n",
    "\n",
    "# Set TRADEDATE as index column\n",
    "all_data.set_index('TRADEDATE', inplace=True)\n",
    "all_data = all_data.iloc[:-1]\n",
    "\n",
    "non_zero_df = all_data\n",
    "non_zero_df"
   ]
  },
  {
   "cell_type": "code",
   "execution_count": 62,
   "id": "5bc35d62-022a-4bb3-a286-70c46311526e",
   "metadata": {},
   "outputs": [
    {
     "data": {
      "text/plain": [
       "BSPB     0.042779\n",
       "BELU     1.055396\n",
       "POSI     0.594174\n",
       "SBERP    0.097403\n",
       "TGKN     0.000002\n",
       "TRMK     0.027841\n",
       "Name: Beta, dtype: float64"
      ]
     },
     "execution_count": 62,
     "metadata": {},
     "output_type": "execute_result"
    }
   ],
   "source": [
    "beta = matrix_beta(non_zero_df)\n",
    "beta"
   ]
  },
  {
   "cell_type": "code",
   "execution_count": 63,
   "id": "c46ddaa3-a925-4c45-88ea-b68b37b6a1f7",
   "metadata": {},
   "outputs": [
    {
     "data": {
      "text/html": [
       "<div>\n",
       "<style scoped>\n",
       "    .dataframe tbody tr th:only-of-type {\n",
       "        vertical-align: middle;\n",
       "    }\n",
       "\n",
       "    .dataframe tbody tr th {\n",
       "        vertical-align: top;\n",
       "    }\n",
       "\n",
       "    .dataframe thead th {\n",
       "        text-align: right;\n",
       "    }\n",
       "</style>\n",
       "<table border=\"1\" class=\"dataframe\">\n",
       "  <thead>\n",
       "    <tr style=\"text-align: right;\">\n",
       "      <th></th>\n",
       "      <th>BSPB</th>\n",
       "      <th>BELU</th>\n",
       "      <th>POSI</th>\n",
       "      <th>SBERP</th>\n",
       "      <th>TGKN</th>\n",
       "      <th>TRMK</th>\n",
       "    </tr>\n",
       "    <tr>\n",
       "      <th>TRADEDATE</th>\n",
       "      <th></th>\n",
       "      <th></th>\n",
       "      <th></th>\n",
       "      <th></th>\n",
       "      <th></th>\n",
       "      <th></th>\n",
       "    </tr>\n",
       "  </thead>\n",
       "  <tbody>\n",
       "    <tr>\n",
       "      <th>2022-06-01</th>\n",
       "      <td>64.50</td>\n",
       "      <td>2312</td>\n",
       "      <td>890.4</td>\n",
       "      <td>113.19</td>\n",
       "      <td>0.00262</td>\n",
       "      <td>53.90</td>\n",
       "    </tr>\n",
       "    <tr>\n",
       "      <th>2022-06-02</th>\n",
       "      <td>64.78</td>\n",
       "      <td>2296</td>\n",
       "      <td>882.2</td>\n",
       "      <td>112.11</td>\n",
       "      <td>0.00261</td>\n",
       "      <td>52.64</td>\n",
       "    </tr>\n",
       "    <tr>\n",
       "      <th>2022-06-03</th>\n",
       "      <td>65.22</td>\n",
       "      <td>2275</td>\n",
       "      <td>879.8</td>\n",
       "      <td>112.02</td>\n",
       "      <td>0.00262</td>\n",
       "      <td>51.74</td>\n",
       "    </tr>\n",
       "    <tr>\n",
       "      <th>2022-06-06</th>\n",
       "      <td>66.80</td>\n",
       "      <td>2336</td>\n",
       "      <td>860.0</td>\n",
       "      <td>113.70</td>\n",
       "      <td>0.00263</td>\n",
       "      <td>51.70</td>\n",
       "    </tr>\n",
       "    <tr>\n",
       "      <th>2022-06-07</th>\n",
       "      <td>66.22</td>\n",
       "      <td>2330</td>\n",
       "      <td>850.0</td>\n",
       "      <td>113.00</td>\n",
       "      <td>0.00264</td>\n",
       "      <td>52.02</td>\n",
       "    </tr>\n",
       "    <tr>\n",
       "      <th>...</th>\n",
       "      <td>...</td>\n",
       "      <td>...</td>\n",
       "      <td>...</td>\n",
       "      <td>...</td>\n",
       "      <td>...</td>\n",
       "      <td>...</td>\n",
       "    </tr>\n",
       "    <tr>\n",
       "      <th>2023-03-24</th>\n",
       "      <td>155.20</td>\n",
       "      <td>3894</td>\n",
       "      <td>1702.8</td>\n",
       "      <td>203.68</td>\n",
       "      <td>0.00360</td>\n",
       "      <td>95.90</td>\n",
       "    </tr>\n",
       "    <tr>\n",
       "      <th>2023-03-27</th>\n",
       "      <td>154.00</td>\n",
       "      <td>4009</td>\n",
       "      <td>1708.0</td>\n",
       "      <td>211.94</td>\n",
       "      <td>0.00366</td>\n",
       "      <td>104.48</td>\n",
       "    </tr>\n",
       "    <tr>\n",
       "      <th>2023-03-28</th>\n",
       "      <td>152.10</td>\n",
       "      <td>4038</td>\n",
       "      <td>1703.2</td>\n",
       "      <td>213.90</td>\n",
       "      <td>0.00380</td>\n",
       "      <td>103.00</td>\n",
       "    </tr>\n",
       "    <tr>\n",
       "      <th>2023-03-29</th>\n",
       "      <td>150.09</td>\n",
       "      <td>4032</td>\n",
       "      <td>1709.8</td>\n",
       "      <td>217.67</td>\n",
       "      <td>0.00375</td>\n",
       "      <td>102.70</td>\n",
       "    </tr>\n",
       "    <tr>\n",
       "      <th>2023-03-30</th>\n",
       "      <td>149.96</td>\n",
       "      <td>4023</td>\n",
       "      <td>1716.0</td>\n",
       "      <td>216.80</td>\n",
       "      <td>0.00415</td>\n",
       "      <td>100.72</td>\n",
       "    </tr>\n",
       "  </tbody>\n",
       "</table>\n",
       "<p>212 rows × 6 columns</p>\n",
       "</div>"
      ],
      "text/plain": [
       "              BSPB  BELU    POSI   SBERP     TGKN    TRMK\n",
       "TRADEDATE                                                \n",
       "2022-06-01   64.50  2312   890.4  113.19  0.00262   53.90\n",
       "2022-06-02   64.78  2296   882.2  112.11  0.00261   52.64\n",
       "2022-06-03   65.22  2275   879.8  112.02  0.00262   51.74\n",
       "2022-06-06   66.80  2336   860.0  113.70  0.00263   51.70\n",
       "2022-06-07   66.22  2330   850.0  113.00  0.00264   52.02\n",
       "...            ...   ...     ...     ...      ...     ...\n",
       "2023-03-24  155.20  3894  1702.8  203.68  0.00360   95.90\n",
       "2023-03-27  154.00  4009  1708.0  211.94  0.00366  104.48\n",
       "2023-03-28  152.10  4038  1703.2  213.90  0.00380  103.00\n",
       "2023-03-29  150.09  4032  1709.8  217.67  0.00375  102.70\n",
       "2023-03-30  149.96  4023  1716.0  216.80  0.00415  100.72\n",
       "\n",
       "[212 rows x 6 columns]"
      ]
     },
     "execution_count": 63,
     "metadata": {},
     "output_type": "execute_result"
    }
   ],
   "source": [
    "non_zero_df.drop('IMOEX', axis = 1, inplace = True)\n",
    "non_zero_df"
   ]
  },
  {
   "cell_type": "code",
   "execution_count": 64,
   "id": "dffbb0c8-efea-4af1-a2f6-a8c35901a24d",
   "metadata": {},
   "outputs": [],
   "source": [
    "allocation = {col: allocation[col] for col in non_zero_df.columns if col in allocation}\n",
    "\n",
    "units = np.array(list(allocation.values()))\n",
    "price_nested = non_zero_df.iloc[-1:].values.tolist()\n",
    "price = price_nested[0]\n",
    "value = [unit*pr for unit, pr in zip(units, price)]\n",
    "weight = np.array(list(cleaned_weights.values()))\n",
    "non_zero_weight = [value for value in weight if value > 0]"
   ]
  },
  {
   "cell_type": "code",
   "execution_count": 65,
   "id": "8fd218aa-bd82-4598-b96b-24d751d50936",
   "metadata": {},
   "outputs": [
    {
     "data": {
      "text/html": [
       "<div>\n",
       "<style scoped>\n",
       "    .dataframe tbody tr th:only-of-type {\n",
       "        vertical-align: middle;\n",
       "    }\n",
       "\n",
       "    .dataframe tbody tr th {\n",
       "        vertical-align: top;\n",
       "    }\n",
       "\n",
       "    .dataframe thead th {\n",
       "        text-align: right;\n",
       "    }\n",
       "</style>\n",
       "<table border=\"1\" class=\"dataframe\">\n",
       "  <thead>\n",
       "    <tr style=\"text-align: right;\">\n",
       "      <th></th>\n",
       "      <th>Stock</th>\n",
       "      <th>Direction</th>\n",
       "      <th>Type</th>\n",
       "      <th>Stock Price</th>\n",
       "      <th>Price</th>\n",
       "      <th>Units</th>\n",
       "      <th>Value</th>\n",
       "      <th>Weight</th>\n",
       "      <th>Beta</th>\n",
       "      <th>Weighted Beta</th>\n",
       "    </tr>\n",
       "  </thead>\n",
       "  <tbody>\n",
       "    <tr>\n",
       "      <th>BSPB</th>\n",
       "      <td>BSPB</td>\n",
       "      <td>Long</td>\n",
       "      <td>S</td>\n",
       "      <td>149.96000</td>\n",
       "      <td>149.96000</td>\n",
       "      <td>1862</td>\n",
       "      <td>279225.5200</td>\n",
       "      <td>0.27657</td>\n",
       "      <td>0.042779</td>\n",
       "      <td>1.183144e-02</td>\n",
       "    </tr>\n",
       "    <tr>\n",
       "      <th>BELU</th>\n",
       "      <td>BELU</td>\n",
       "      <td>Long</td>\n",
       "      <td>S</td>\n",
       "      <td>4023.00000</td>\n",
       "      <td>4023.00000</td>\n",
       "      <td>46</td>\n",
       "      <td>185058.0000</td>\n",
       "      <td>0.18781</td>\n",
       "      <td>1.055396</td>\n",
       "      <td>1.982139e-01</td>\n",
       "    </tr>\n",
       "    <tr>\n",
       "      <th>POSI</th>\n",
       "      <td>POSI</td>\n",
       "      <td>Long</td>\n",
       "      <td>S</td>\n",
       "      <td>1716.00000</td>\n",
       "      <td>1716.00000</td>\n",
       "      <td>140</td>\n",
       "      <td>240240.0000</td>\n",
       "      <td>0.24064</td>\n",
       "      <td>0.594174</td>\n",
       "      <td>1.429820e-01</td>\n",
       "    </tr>\n",
       "    <tr>\n",
       "      <th>SBERP</th>\n",
       "      <td>SBERP</td>\n",
       "      <td>Long</td>\n",
       "      <td>S</td>\n",
       "      <td>216.80000</td>\n",
       "      <td>216.80000</td>\n",
       "      <td>482</td>\n",
       "      <td>104497.6000</td>\n",
       "      <td>0.10416</td>\n",
       "      <td>0.097403</td>\n",
       "      <td>1.014545e-02</td>\n",
       "    </tr>\n",
       "    <tr>\n",
       "      <th>TGKN</th>\n",
       "      <td>TGKN</td>\n",
       "      <td>Long</td>\n",
       "      <td>S</td>\n",
       "      <td>0.00415</td>\n",
       "      <td>0.00415</td>\n",
       "      <td>13656862</td>\n",
       "      <td>56675.9773</td>\n",
       "      <td>0.05572</td>\n",
       "      <td>0.000002</td>\n",
       "      <td>1.023476e-07</td>\n",
       "    </tr>\n",
       "    <tr>\n",
       "      <th>TRMK</th>\n",
       "      <td>TRMK</td>\n",
       "      <td>Long</td>\n",
       "      <td>S</td>\n",
       "      <td>100.72000</td>\n",
       "      <td>100.72000</td>\n",
       "      <td>1349</td>\n",
       "      <td>135871.2800</td>\n",
       "      <td>0.13509</td>\n",
       "      <td>0.027841</td>\n",
       "      <td>3.761001e-03</td>\n",
       "    </tr>\n",
       "  </tbody>\n",
       "</table>\n",
       "</div>"
      ],
      "text/plain": [
       "       Stock Direction Type  Stock Price       Price     Units        Value  \\\n",
       "BSPB    BSPB      Long    S    149.96000   149.96000      1862  279225.5200   \n",
       "BELU    BELU      Long    S   4023.00000  4023.00000        46  185058.0000   \n",
       "POSI    POSI      Long    S   1716.00000  1716.00000       140  240240.0000   \n",
       "SBERP  SBERP      Long    S    216.80000   216.80000       482  104497.6000   \n",
       "TGKN    TGKN      Long    S      0.00415     0.00415  13656862   56675.9773   \n",
       "TRMK    TRMK      Long    S    100.72000   100.72000      1349  135871.2800   \n",
       "\n",
       "        Weight      Beta  Weighted Beta  \n",
       "BSPB   0.27657  0.042779   1.183144e-02  \n",
       "BELU   0.18781  1.055396   1.982139e-01  \n",
       "POSI   0.24064  0.594174   1.429820e-01  \n",
       "SBERP  0.10416  0.097403   1.014545e-02  \n",
       "TGKN   0.05572  0.000002   1.023476e-07  \n",
       "TRMK   0.13509  0.027841   3.761001e-03  "
      ]
     },
     "execution_count": 65,
     "metadata": {},
     "output_type": "execute_result"
    }
   ],
   "source": [
    "Portfolio = pd.DataFrame({\n",
    "    'Stock': non_zero_df.columns.tolist(),\n",
    "    'Direction': 'Long',\n",
    "    'Type': 'S',\n",
    "    'Stock Price': price,\n",
    "    'Price': price,\n",
    "    'Units': units,\n",
    "    'Value': units*price,\n",
    "    'Weight': non_zero_weight,\n",
    "    'Beta': beta,\n",
    "    'Weighted Beta': non_zero_weight*beta\n",
    "})\n",
    "Portfolio"
   ]
  },
  {
   "cell_type": "code",
   "execution_count": 66,
   "id": "2b5bff4e-bbf4-4f52-99ac-377b90bcdfd9",
   "metadata": {},
   "outputs": [
    {
     "data": {
      "text/html": [
       "<div>\n",
       "<style scoped>\n",
       "    .dataframe tbody tr th:only-of-type {\n",
       "        vertical-align: middle;\n",
       "    }\n",
       "\n",
       "    .dataframe tbody tr th {\n",
       "        vertical-align: top;\n",
       "    }\n",
       "\n",
       "    .dataframe thead th {\n",
       "        text-align: right;\n",
       "    }\n",
       "</style>\n",
       "<table border=\"1\" class=\"dataframe\">\n",
       "  <thead>\n",
       "    <tr style=\"text-align: right;\">\n",
       "      <th></th>\n",
       "      <th>Stock</th>\n",
       "      <th>Direction</th>\n",
       "      <th>Type</th>\n",
       "      <th>Stock Price</th>\n",
       "      <th>Price</th>\n",
       "      <th>Units</th>\n",
       "      <th>Value</th>\n",
       "      <th>Beta</th>\n",
       "      <th>Delta</th>\n",
       "    </tr>\n",
       "  </thead>\n",
       "  <tbody>\n",
       "    <tr>\n",
       "      <th>BSPB</th>\n",
       "      <td>BSPB</td>\n",
       "      <td>Long</td>\n",
       "      <td>S</td>\n",
       "      <td>149.96000</td>\n",
       "      <td>149.96000</td>\n",
       "      <td>1862</td>\n",
       "      <td>279225.5200</td>\n",
       "      <td>0.042779</td>\n",
       "      <td>1862</td>\n",
       "    </tr>\n",
       "    <tr>\n",
       "      <th>BELU</th>\n",
       "      <td>BELU</td>\n",
       "      <td>Long</td>\n",
       "      <td>S</td>\n",
       "      <td>4023.00000</td>\n",
       "      <td>4023.00000</td>\n",
       "      <td>46</td>\n",
       "      <td>185058.0000</td>\n",
       "      <td>1.055396</td>\n",
       "      <td>46</td>\n",
       "    </tr>\n",
       "    <tr>\n",
       "      <th>POSI</th>\n",
       "      <td>POSI</td>\n",
       "      <td>Long</td>\n",
       "      <td>S</td>\n",
       "      <td>1716.00000</td>\n",
       "      <td>1716.00000</td>\n",
       "      <td>140</td>\n",
       "      <td>240240.0000</td>\n",
       "      <td>0.594174</td>\n",
       "      <td>140</td>\n",
       "    </tr>\n",
       "    <tr>\n",
       "      <th>SBERP</th>\n",
       "      <td>SBERP</td>\n",
       "      <td>Long</td>\n",
       "      <td>S</td>\n",
       "      <td>216.80000</td>\n",
       "      <td>216.80000</td>\n",
       "      <td>482</td>\n",
       "      <td>104497.6000</td>\n",
       "      <td>0.097403</td>\n",
       "      <td>482</td>\n",
       "    </tr>\n",
       "    <tr>\n",
       "      <th>TGKN</th>\n",
       "      <td>TGKN</td>\n",
       "      <td>Long</td>\n",
       "      <td>S</td>\n",
       "      <td>0.00415</td>\n",
       "      <td>0.00415</td>\n",
       "      <td>13656862</td>\n",
       "      <td>56675.9773</td>\n",
       "      <td>0.000002</td>\n",
       "      <td>13656862</td>\n",
       "    </tr>\n",
       "    <tr>\n",
       "      <th>TRMK</th>\n",
       "      <td>TRMK</td>\n",
       "      <td>Long</td>\n",
       "      <td>S</td>\n",
       "      <td>100.72000</td>\n",
       "      <td>100.72000</td>\n",
       "      <td>1349</td>\n",
       "      <td>135871.2800</td>\n",
       "      <td>0.027841</td>\n",
       "      <td>1349</td>\n",
       "    </tr>\n",
       "  </tbody>\n",
       "</table>\n",
       "</div>"
      ],
      "text/plain": [
       "       Stock Direction Type  Stock Price       Price     Units        Value  \\\n",
       "BSPB    BSPB      Long    S    149.96000   149.96000      1862  279225.5200   \n",
       "BELU    BELU      Long    S   4023.00000  4023.00000        46  185058.0000   \n",
       "POSI    POSI      Long    S   1716.00000  1716.00000       140  240240.0000   \n",
       "SBERP  SBERP      Long    S    216.80000   216.80000       482  104497.6000   \n",
       "TGKN    TGKN      Long    S      0.00415     0.00415  13656862   56675.9773   \n",
       "TRMK    TRMK      Long    S    100.72000   100.72000      1349  135871.2800   \n",
       "\n",
       "           Beta     Delta  \n",
       "BSPB   0.042779      1862  \n",
       "BELU   1.055396        46  \n",
       "POSI   0.594174       140  \n",
       "SBERP  0.097403       482  \n",
       "TGKN   0.000002  13656862  \n",
       "TRMK   0.027841      1349  "
      ]
     },
     "execution_count": 66,
     "metadata": {},
     "output_type": "execute_result"
    }
   ],
   "source": [
    "Portfolio = Portfolio.drop(['Weight', 'Weighted Beta'], axis=1)\n",
    "Portfolio['Delta'] = Portfolio['Units']\n",
    "Portfolio"
   ]
  },
  {
   "cell_type": "code",
   "execution_count": 67,
   "id": "f0d0998f",
   "metadata": {},
   "outputs": [],
   "source": [
    "def black_scholes_call(S, X, T, r, sigma):\n",
    "    # Calculate d1 and d2 parameters\n",
    "    d1 = (np.log(S / X) + (r + 0.5 * sigma ** 2) * T) / (sigma * np.sqrt(T))\n",
    "    d2 = d1 - sigma * np.sqrt(T)\n",
    "    # Calculate call option price\n",
    "    call_price = (S * norm.cdf(d1) - X * np.exp(-r * T) * norm.cdf(d2))\n",
    "    return call_price\n",
    "\n",
    "def black_scholes_put(S, X, T, r, sigma):\n",
    "    # Calculate d1 and d2 parameters\n",
    "    d1 = (np.log(S / X) + (r + 0.5 * sigma ** 2) * T) / (sigma * np.sqrt(T))\n",
    "    d2 = d1 - sigma * np.sqrt(T)\n",
    "    # Calculate put option price\n",
    "    put_price = (X * np.exp(-r * T) * norm.cdf(-d2) - S * norm.cdf(-d1))\n",
    "    return put_price\n",
    "\n",
    "def call_option_delta(S, X, T, r, sigma):\n",
    "    d1 = (np.log(S / X) + (r + 0.5 * sigma ** 2) * T) / (sigma * np.sqrt(T))\n",
    "    return norm.cdf(d1)\n",
    "\n",
    "def put_option_delta(S, X, T, r, sigma):\n",
    "    d1 = (np.log(S / X) + (r + 0.5 * sigma ** 2) * T) / (sigma * np.sqrt(T))\n",
    "    return norm.cdf(d1) - 1"
   ]
  },
  {
   "cell_type": "code",
   "execution_count": 68,
   "id": "95bd7a14",
   "metadata": {},
   "outputs": [
    {
     "data": {
      "text/html": [
       "<div>\n",
       "<style scoped>\n",
       "    .dataframe tbody tr th:only-of-type {\n",
       "        vertical-align: middle;\n",
       "    }\n",
       "\n",
       "    .dataframe tbody tr th {\n",
       "        vertical-align: top;\n",
       "    }\n",
       "\n",
       "    .dataframe thead th {\n",
       "        text-align: right;\n",
       "    }\n",
       "</style>\n",
       "<table border=\"1\" class=\"dataframe\">\n",
       "  <thead>\n",
       "    <tr style=\"text-align: right;\">\n",
       "      <th></th>\n",
       "      <th>Direction</th>\n",
       "      <th>Type</th>\n",
       "      <th>Stock Price</th>\n",
       "      <th>Price</th>\n",
       "      <th>Units</th>\n",
       "      <th>Value</th>\n",
       "      <th>Beta</th>\n",
       "      <th>Delta</th>\n",
       "    </tr>\n",
       "    <tr>\n",
       "      <th>Stock</th>\n",
       "      <th></th>\n",
       "      <th></th>\n",
       "      <th></th>\n",
       "      <th></th>\n",
       "      <th></th>\n",
       "      <th></th>\n",
       "      <th></th>\n",
       "      <th></th>\n",
       "    </tr>\n",
       "  </thead>\n",
       "  <tbody>\n",
       "    <tr>\n",
       "      <th>BSPB</th>\n",
       "      <td>Long</td>\n",
       "      <td>S</td>\n",
       "      <td>149.96000</td>\n",
       "      <td>149.960000</td>\n",
       "      <td>1862.0</td>\n",
       "      <td>279225.520000</td>\n",
       "      <td>0.042779</td>\n",
       "      <td>1862.00</td>\n",
       "    </tr>\n",
       "    <tr>\n",
       "      <th>BELU</th>\n",
       "      <td>Long</td>\n",
       "      <td>S</td>\n",
       "      <td>4023.00000</td>\n",
       "      <td>4023.000000</td>\n",
       "      <td>46.0</td>\n",
       "      <td>185058.000000</td>\n",
       "      <td>1.055396</td>\n",
       "      <td>46.00</td>\n",
       "    </tr>\n",
       "    <tr>\n",
       "      <th>POSI</th>\n",
       "      <td>Long</td>\n",
       "      <td>S</td>\n",
       "      <td>1716.00000</td>\n",
       "      <td>1716.000000</td>\n",
       "      <td>140.0</td>\n",
       "      <td>240240.000000</td>\n",
       "      <td>0.594174</td>\n",
       "      <td>140.00</td>\n",
       "    </tr>\n",
       "    <tr>\n",
       "      <th>SBERP</th>\n",
       "      <td>Long</td>\n",
       "      <td>S</td>\n",
       "      <td>216.80000</td>\n",
       "      <td>216.800000</td>\n",
       "      <td>482.0</td>\n",
       "      <td>104497.600000</td>\n",
       "      <td>0.097403</td>\n",
       "      <td>482.00</td>\n",
       "    </tr>\n",
       "    <tr>\n",
       "      <th>TGKN</th>\n",
       "      <td>Long</td>\n",
       "      <td>S</td>\n",
       "      <td>0.00415</td>\n",
       "      <td>0.004150</td>\n",
       "      <td>13656862.0</td>\n",
       "      <td>56675.977300</td>\n",
       "      <td>0.000002</td>\n",
       "      <td>13656862.00</td>\n",
       "    </tr>\n",
       "    <tr>\n",
       "      <th>TRMK</th>\n",
       "      <td>Long</td>\n",
       "      <td>S</td>\n",
       "      <td>100.72000</td>\n",
       "      <td>100.720000</td>\n",
       "      <td>1349.0</td>\n",
       "      <td>135871.280000</td>\n",
       "      <td>0.027841</td>\n",
       "      <td>1349.00</td>\n",
       "    </tr>\n",
       "    <tr>\n",
       "      <th>BELU</th>\n",
       "      <td>Long</td>\n",
       "      <td>Put</td>\n",
       "      <td>4023.00000</td>\n",
       "      <td>110.171599</td>\n",
       "      <td>302.0</td>\n",
       "      <td>33271.822900</td>\n",
       "      <td>1.055396</td>\n",
       "      <td>-46.05</td>\n",
       "    </tr>\n",
       "    <tr>\n",
       "      <th>SBERP</th>\n",
       "      <td>Long</td>\n",
       "      <td>Put</td>\n",
       "      <td>216.80000</td>\n",
       "      <td>8.640682</td>\n",
       "      <td>2717.0</td>\n",
       "      <td>23476.733232</td>\n",
       "      <td>0.097403</td>\n",
       "      <td>-481.97</td>\n",
       "    </tr>\n",
       "  </tbody>\n",
       "</table>\n",
       "</div>"
      ],
      "text/plain": [
       "      Direction Type  Stock Price        Price       Units          Value  \\\n",
       "Stock                                                                       \n",
       "BSPB       Long    S    149.96000   149.960000      1862.0  279225.520000   \n",
       "BELU       Long    S   4023.00000  4023.000000        46.0  185058.000000   \n",
       "POSI       Long    S   1716.00000  1716.000000       140.0  240240.000000   \n",
       "SBERP      Long    S    216.80000   216.800000       482.0  104497.600000   \n",
       "TGKN       Long    S      0.00415     0.004150  13656862.0   56675.977300   \n",
       "TRMK       Long    S    100.72000   100.720000      1349.0  135871.280000   \n",
       "BELU       Long  Put   4023.00000   110.171599       302.0   33271.822900   \n",
       "SBERP      Long  Put    216.80000     8.640682      2717.0   23476.733232   \n",
       "\n",
       "           Beta        Delta  \n",
       "Stock                         \n",
       "BSPB   0.042779      1862.00  \n",
       "BELU   1.055396        46.00  \n",
       "POSI   0.594174       140.00  \n",
       "SBERP  0.097403       482.00  \n",
       "TGKN   0.000002  13656862.00  \n",
       "TRMK   0.027841      1349.00  \n",
       "BELU   1.055396       -46.05  \n",
       "SBERP  0.097403      -481.97  "
      ]
     },
     "execution_count": 68,
     "metadata": {},
     "output_type": "execute_result"
    }
   ],
   "source": [
    "stock_list = ['SBERP', 'BELU']\n",
    "\n",
    "volatility_dict = {}\n",
    "for stock in stock_list:\n",
    "    stock_prices = non_zero_df[stock]\n",
    "    returns = stock_prices.pct_change()\n",
    "    volatility = returns.std() * np.sqrt(252)  # Annualized volatility\n",
    "    volatility_dict[stock] = volatility\n",
    "\n",
    "# Copy the portfolio DataFrame to not alter the original\n",
    "updated_portfolio_df = Portfolio.copy()\n",
    "\n",
    "# Iterate through portfolio, calculate options characteristics, and append new rows\n",
    "for index, row in Portfolio.iterrows():\n",
    "    stock = row['Stock']\n",
    "    if stock in volatility_dict:\n",
    "        S = row['Stock Price']\n",
    "        rt = 0.15  # Risk tolerance of investor\n",
    "        X = S * (1 - rt)  # Option strike price\n",
    "        T = 1  # Time to expiration in years\n",
    "        r = 0.10  # Risk-free interest rate\n",
    "        sigma = volatility_dict[stock]  # Volatility of the underlying stock\n",
    "\n",
    "        # Calculate options characteristics for put options\n",
    "        put_price = black_scholes_put(S, X, T, r, sigma)\n",
    "        put_delta = put_option_delta(S, X, T, r, sigma)\n",
    "\n",
    "        # Calculate number of options needed to fully cover the delta\n",
    "        options_needed_put = np.round(abs(row['Units'] / put_delta))  # Round to nearest whole number\n",
    "\n",
    "        # Create new row for put options\n",
    "        option_row = row.copy()\n",
    "        option_row['Type'] = 'Put'\n",
    "        option_row['Price'] = put_price\n",
    "        option_row['Units'] = options_needed_put  # Use rounded units\n",
    "        option_row['Value'] = put_price * options_needed_put\n",
    "        option_row['Delta'] = put_delta * options_needed_put\n",
    "\n",
    "        # Append the new option row to the updated portfolio DataFrame\n",
    "        updated_portfolio_df = pd.concat([updated_portfolio_df, pd.DataFrame([option_row])], ignore_index=True)\n",
    "\n",
    "# The 'updated_portfolio_df' now contains the original portfolio plus the new options data\n",
    "updated_portfolio_df.set_index('Stock', inplace = True)\n",
    "updated_portfolio_df['Delta'] = updated_portfolio_df['Delta'].apply(lambda x: f\"{x:.2f}\")\n",
    "updated_portfolio_df"
   ]
  },
  {
   "cell_type": "code",
   "execution_count": 69,
   "id": "39e1424f",
   "metadata": {},
   "outputs": [
    {
     "data": {
      "text/html": [
       "<div>\n",
       "<style scoped>\n",
       "    .dataframe tbody tr th:only-of-type {\n",
       "        vertical-align: middle;\n",
       "    }\n",
       "\n",
       "    .dataframe tbody tr th {\n",
       "        vertical-align: top;\n",
       "    }\n",
       "\n",
       "    .dataframe thead th {\n",
       "        text-align: right;\n",
       "    }\n",
       "</style>\n",
       "<table border=\"1\" class=\"dataframe\">\n",
       "  <thead>\n",
       "    <tr style=\"text-align: right;\">\n",
       "      <th></th>\n",
       "      <th>CBOM</th>\n",
       "      <th>BSPB</th>\n",
       "      <th>BELU</th>\n",
       "      <th>POSI</th>\n",
       "      <th>RENI</th>\n",
       "      <th>SBER</th>\n",
       "      <th>SBERP</th>\n",
       "      <th>SFIN</th>\n",
       "      <th>UPRO</th>\n",
       "      <th>RNFT</th>\n",
       "      <th>SVAV</th>\n",
       "      <th>TGKN</th>\n",
       "      <th>TRMK</th>\n",
       "      <th>MGTSP</th>\n",
       "      <th>Portfolio</th>\n",
       "    </tr>\n",
       "    <tr>\n",
       "      <th>TRADEDATE</th>\n",
       "      <th></th>\n",
       "      <th></th>\n",
       "      <th></th>\n",
       "      <th></th>\n",
       "      <th></th>\n",
       "      <th></th>\n",
       "      <th></th>\n",
       "      <th></th>\n",
       "      <th></th>\n",
       "      <th></th>\n",
       "      <th></th>\n",
       "      <th></th>\n",
       "      <th></th>\n",
       "      <th></th>\n",
       "      <th></th>\n",
       "    </tr>\n",
       "  </thead>\n",
       "  <tbody>\n",
       "    <tr>\n",
       "      <th>2022-06-02</th>\n",
       "      <td>-0.012496</td>\n",
       "      <td>0.004341</td>\n",
       "      <td>-0.006920</td>\n",
       "      <td>-0.009209</td>\n",
       "      <td>0.023012</td>\n",
       "      <td>-0.024350</td>\n",
       "      <td>-0.009541</td>\n",
       "      <td>0.006252</td>\n",
       "      <td>-0.011120</td>\n",
       "      <td>-0.004435</td>\n",
       "      <td>-0.014085</td>\n",
       "      <td>-0.003817</td>\n",
       "      <td>-0.023377</td>\n",
       "      <td>-0.002924</td>\n",
       "      <td>-0.008240</td>\n",
       "    </tr>\n",
       "    <tr>\n",
       "      <th>2022-06-03</th>\n",
       "      <td>-0.012834</td>\n",
       "      <td>0.006792</td>\n",
       "      <td>-0.009146</td>\n",
       "      <td>-0.002720</td>\n",
       "      <td>0.038490</td>\n",
       "      <td>0.001765</td>\n",
       "      <td>-0.000803</td>\n",
       "      <td>0.016311</td>\n",
       "      <td>-0.012048</td>\n",
       "      <td>-0.037862</td>\n",
       "      <td>-0.008571</td>\n",
       "      <td>0.003831</td>\n",
       "      <td>-0.017097</td>\n",
       "      <td>-0.032258</td>\n",
       "      <td>-0.002454</td>\n",
       "    </tr>\n",
       "    <tr>\n",
       "      <th>2022-06-06</th>\n",
       "      <td>-0.003479</td>\n",
       "      <td>0.024226</td>\n",
       "      <td>0.026813</td>\n",
       "      <td>-0.022505</td>\n",
       "      <td>0.049097</td>\n",
       "      <td>-0.003607</td>\n",
       "      <td>0.014997</td>\n",
       "      <td>0.006114</td>\n",
       "      <td>0.000000</td>\n",
       "      <td>-0.004630</td>\n",
       "      <td>0.008646</td>\n",
       "      <td>0.003817</td>\n",
       "      <td>-0.000773</td>\n",
       "      <td>-0.009091</td>\n",
       "      <td>0.007066</td>\n",
       "    </tr>\n",
       "    <tr>\n",
       "      <th>2022-06-07</th>\n",
       "      <td>-0.001654</td>\n",
       "      <td>-0.008683</td>\n",
       "      <td>-0.002568</td>\n",
       "      <td>-0.011628</td>\n",
       "      <td>0.008718</td>\n",
       "      <td>-0.003873</td>\n",
       "      <td>-0.006157</td>\n",
       "      <td>-0.010254</td>\n",
       "      <td>-0.008130</td>\n",
       "      <td>0.027907</td>\n",
       "      <td>-0.002857</td>\n",
       "      <td>0.003802</td>\n",
       "      <td>0.006190</td>\n",
       "      <td>0.039755</td>\n",
       "      <td>-0.001089</td>\n",
       "    </tr>\n",
       "    <tr>\n",
       "      <th>2022-06-08</th>\n",
       "      <td>-0.031842</td>\n",
       "      <td>0.013591</td>\n",
       "      <td>-0.003863</td>\n",
       "      <td>0.013882</td>\n",
       "      <td>0.025244</td>\n",
       "      <td>0.013354</td>\n",
       "      <td>0.018938</td>\n",
       "      <td>0.024559</td>\n",
       "      <td>-0.014754</td>\n",
       "      <td>0.013575</td>\n",
       "      <td>-0.002865</td>\n",
       "      <td>-0.007576</td>\n",
       "      <td>-0.002691</td>\n",
       "      <td>-0.008824</td>\n",
       "      <td>0.002538</td>\n",
       "    </tr>\n",
       "    <tr>\n",
       "      <th>...</th>\n",
       "      <td>...</td>\n",
       "      <td>...</td>\n",
       "      <td>...</td>\n",
       "      <td>...</td>\n",
       "      <td>...</td>\n",
       "      <td>...</td>\n",
       "      <td>...</td>\n",
       "      <td>...</td>\n",
       "      <td>...</td>\n",
       "      <td>...</td>\n",
       "      <td>...</td>\n",
       "      <td>...</td>\n",
       "      <td>...</td>\n",
       "      <td>...</td>\n",
       "      <td>...</td>\n",
       "    </tr>\n",
       "    <tr>\n",
       "      <th>2023-03-27</th>\n",
       "      <td>0.017197</td>\n",
       "      <td>-0.007732</td>\n",
       "      <td>0.029533</td>\n",
       "      <td>0.003054</td>\n",
       "      <td>0.007061</td>\n",
       "      <td>0.040625</td>\n",
       "      <td>0.040554</td>\n",
       "      <td>0.005948</td>\n",
       "      <td>0.029300</td>\n",
       "      <td>-0.005660</td>\n",
       "      <td>0.008386</td>\n",
       "      <td>0.016667</td>\n",
       "      <td>0.089468</td>\n",
       "      <td>0.013699</td>\n",
       "      <td>0.025239</td>\n",
       "    </tr>\n",
       "    <tr>\n",
       "      <th>2023-03-28</th>\n",
       "      <td>0.035071</td>\n",
       "      <td>-0.012338</td>\n",
       "      <td>0.007234</td>\n",
       "      <td>-0.002810</td>\n",
       "      <td>-0.009963</td>\n",
       "      <td>0.010338</td>\n",
       "      <td>0.009248</td>\n",
       "      <td>0.001577</td>\n",
       "      <td>0.052188</td>\n",
       "      <td>-0.005693</td>\n",
       "      <td>-0.006237</td>\n",
       "      <td>0.038251</td>\n",
       "      <td>-0.014165</td>\n",
       "      <td>-0.006006</td>\n",
       "      <td>0.007483</td>\n",
       "    </tr>\n",
       "    <tr>\n",
       "      <th>2023-03-29</th>\n",
       "      <td>0.006210</td>\n",
       "      <td>-0.013215</td>\n",
       "      <td>-0.001486</td>\n",
       "      <td>0.003875</td>\n",
       "      <td>0.015654</td>\n",
       "      <td>0.018502</td>\n",
       "      <td>0.017625</td>\n",
       "      <td>-0.001574</td>\n",
       "      <td>-0.019038</td>\n",
       "      <td>-0.001908</td>\n",
       "      <td>-0.004184</td>\n",
       "      <td>-0.013158</td>\n",
       "      <td>-0.002913</td>\n",
       "      <td>-0.009063</td>\n",
       "      <td>0.001324</td>\n",
       "    </tr>\n",
       "    <tr>\n",
       "      <th>2023-03-30</th>\n",
       "      <td>-0.001744</td>\n",
       "      <td>-0.000866</td>\n",
       "      <td>-0.002232</td>\n",
       "      <td>0.003626</td>\n",
       "      <td>0.001835</td>\n",
       "      <td>-0.005138</td>\n",
       "      <td>-0.003997</td>\n",
       "      <td>0.001182</td>\n",
       "      <td>-0.007661</td>\n",
       "      <td>0.198853</td>\n",
       "      <td>-0.004202</td>\n",
       "      <td>0.106667</td>\n",
       "      <td>-0.019279</td>\n",
       "      <td>0.007622</td>\n",
       "      <td>0.008140</td>\n",
       "    </tr>\n",
       "    <tr>\n",
       "      <th>2023-03-31</th>\n",
       "      <td>-0.038033</td>\n",
       "      <td>-0.009736</td>\n",
       "      <td>0.003480</td>\n",
       "      <td>0.000466</td>\n",
       "      <td>0.050916</td>\n",
       "      <td>-0.001245</td>\n",
       "      <td>-0.004428</td>\n",
       "      <td>0.005118</td>\n",
       "      <td>-0.007720</td>\n",
       "      <td>0.068581</td>\n",
       "      <td>-0.008439</td>\n",
       "      <td>-0.016867</td>\n",
       "      <td>-0.006354</td>\n",
       "      <td>-0.018154</td>\n",
       "      <td>-0.005344</td>\n",
       "    </tr>\n",
       "  </tbody>\n",
       "</table>\n",
       "<p>212 rows × 15 columns</p>\n",
       "</div>"
      ],
      "text/plain": [
       "                CBOM      BSPB      BELU      POSI      RENI      SBER  \\\n",
       "TRADEDATE                                                                \n",
       "2022-06-02 -0.012496  0.004341 -0.006920 -0.009209  0.023012 -0.024350   \n",
       "2022-06-03 -0.012834  0.006792 -0.009146 -0.002720  0.038490  0.001765   \n",
       "2022-06-06 -0.003479  0.024226  0.026813 -0.022505  0.049097 -0.003607   \n",
       "2022-06-07 -0.001654 -0.008683 -0.002568 -0.011628  0.008718 -0.003873   \n",
       "2022-06-08 -0.031842  0.013591 -0.003863  0.013882  0.025244  0.013354   \n",
       "...              ...       ...       ...       ...       ...       ...   \n",
       "2023-03-27  0.017197 -0.007732  0.029533  0.003054  0.007061  0.040625   \n",
       "2023-03-28  0.035071 -0.012338  0.007234 -0.002810 -0.009963  0.010338   \n",
       "2023-03-29  0.006210 -0.013215 -0.001486  0.003875  0.015654  0.018502   \n",
       "2023-03-30 -0.001744 -0.000866 -0.002232  0.003626  0.001835 -0.005138   \n",
       "2023-03-31 -0.038033 -0.009736  0.003480  0.000466  0.050916 -0.001245   \n",
       "\n",
       "               SBERP      SFIN      UPRO      RNFT      SVAV      TGKN  \\\n",
       "TRADEDATE                                                                \n",
       "2022-06-02 -0.009541  0.006252 -0.011120 -0.004435 -0.014085 -0.003817   \n",
       "2022-06-03 -0.000803  0.016311 -0.012048 -0.037862 -0.008571  0.003831   \n",
       "2022-06-06  0.014997  0.006114  0.000000 -0.004630  0.008646  0.003817   \n",
       "2022-06-07 -0.006157 -0.010254 -0.008130  0.027907 -0.002857  0.003802   \n",
       "2022-06-08  0.018938  0.024559 -0.014754  0.013575 -0.002865 -0.007576   \n",
       "...              ...       ...       ...       ...       ...       ...   \n",
       "2023-03-27  0.040554  0.005948  0.029300 -0.005660  0.008386  0.016667   \n",
       "2023-03-28  0.009248  0.001577  0.052188 -0.005693 -0.006237  0.038251   \n",
       "2023-03-29  0.017625 -0.001574 -0.019038 -0.001908 -0.004184 -0.013158   \n",
       "2023-03-30 -0.003997  0.001182 -0.007661  0.198853 -0.004202  0.106667   \n",
       "2023-03-31 -0.004428  0.005118 -0.007720  0.068581 -0.008439 -0.016867   \n",
       "\n",
       "                TRMK     MGTSP  Portfolio  \n",
       "TRADEDATE                                  \n",
       "2022-06-02 -0.023377 -0.002924  -0.008240  \n",
       "2022-06-03 -0.017097 -0.032258  -0.002454  \n",
       "2022-06-06 -0.000773 -0.009091   0.007066  \n",
       "2022-06-07  0.006190  0.039755  -0.001089  \n",
       "2022-06-08 -0.002691 -0.008824   0.002538  \n",
       "...              ...       ...        ...  \n",
       "2023-03-27  0.089468  0.013699   0.025239  \n",
       "2023-03-28 -0.014165 -0.006006   0.007483  \n",
       "2023-03-29 -0.002913 -0.009063   0.001324  \n",
       "2023-03-30 -0.019279  0.007622   0.008140  \n",
       "2023-03-31 -0.006354 -0.018154  -0.005344  \n",
       "\n",
       "[212 rows x 15 columns]"
      ]
     },
     "execution_count": 69,
     "metadata": {},
     "output_type": "execute_result"
    }
   ],
   "source": [
    "list_keys = [key for key in non_zero_weights_lim]\n",
    "list_weights = [weight for weight in non_zero_weights_lim.values()]\n",
    "\n",
    "df_mc = df[list_keys] \n",
    "returns = df_mc.pct_change().dropna()\n",
    "mean_returns = returns.mean()\n",
    "cov = returns.cov()\n",
    "returns['Portfolio'] = returns.dot(list_weights)\n",
    "returns"
   ]
  },
  {
   "cell_type": "code",
   "execution_count": 70,
   "id": "80239cf7",
   "metadata": {},
   "outputs": [
    {
     "data": {
      "text/plain": [
       "Text(0.5, 1.0, 'MC simulation of a stock portfolio')"
      ]
     },
     "execution_count": 70,
     "metadata": {},
     "output_type": "execute_result"
    },
    {
     "data": {
      "image/png": "[encoded data removed]",
      "text/plain": [
       "<Figure size 640x480 with 1 Axes>"
      ]
     },
     "metadata": {},
     "output_type": "display_data"
    }
   ],
   "source": [
    "# Monte Carlo Method\n",
    "mc_sims = 10000\n",
    "T = 213 #timeframe in days\n",
    "\n",
    "meanM = np.full(shape=(T, len(list_weights)), fill_value=mean_returns)\n",
    "meanM = meanM.T\n",
    "\n",
    "portfolio_sims = np.full(shape=(T, mc_sims), fill_value=0.0)\n",
    "\n",
    "portfolio_val = 1000000\n",
    "\n",
    "for m in range(0, mc_sims):\n",
    "    Z = np.random.normal(size=(T, len(list_weights)))\n",
    "    L = np.linalg.cholesky(cov)\n",
    "    dailyReturns = meanM + np.inner(L, Z)\n",
    "    portfolio_sims[:,m] = np.cumprod(np.inner(list_weights, dailyReturns.T)+1)*portfolio_val\n",
    "\n",
    "plt.plot(portfolio_sims)\n",
    "plt.ylabel('Portfolio Value (₽)')\n",
    "plt.xlabel('Days')\n",
    "plt.title('MC simulation of a stock portfolio')"
   ]
  },
  {
   "cell_type": "code",
   "execution_count": 71,
   "id": "05628157",
   "metadata": {},
   "outputs": [],
   "source": [
    "def mcCVaR(returns, alpha=5):\n",
    "    \n",
    "    if isinstance(returns, pd.Series):\n",
    "        belowVaR = returns <= np.percentile(returns, alpha)\n",
    "        return returns[belowVaR].mean()\n",
    "    else:\n",
    "        raise TypeError(\"Expected a pandas data series.\")"
   ]
  },
  {
   "cell_type": "code",
   "execution_count": 72,
   "id": "9abde271",
   "metadata": {},
   "outputs": [
    {
     "name": "stdout",
     "output_type": "stream",
     "text": [
      "VaR ₽1286287.58\n",
      "CVaR ₽1185345.33\n"
     ]
    }
   ],
   "source": [
    "port_results = pd.Series(portfolio_sims[-1,:])\n",
    "\n",
    "VaR = (np.percentile(port_results, 5))\n",
    "CVaR = mcCVaR(port_results, alpha=5)\n",
    "\n",
    "print('VaR ₽{}'.format(round(VaR,2)))\n",
    "print('CVaR ₽{}'.format(round(CVaR,2)))"
   ]
  },
  {
   "cell_type": "code",
   "execution_count": 73,
   "id": "fb675195",
   "metadata": {},
   "outputs": [
    {
     "data": {
      "text/plain": [
       "1816467.56"
      ]
     },
     "execution_count": 73,
     "metadata": {},
     "output_type": "execute_result"
    }
   ],
   "source": [
    "round(np.mean(port_results), 2)"
   ]
  }
 ],
 "metadata": {
  "kernelspec": {
   "display_name": "Python 3 (ipykernel)",
   "language": "python",
   "name": "python3"
  },
  "language_info": {
   "codemirror_mode": {
    "name": "ipython",
    "version": 3
   },
   "file_extension": ".py",
   "mimetype": "text/x-python",
   "name": "python",
   "nbconvert_exporter": "python",
   "pygments_lexer": "ipython3",
   "version": "3.11.5"
  }
 },
 "nbformat": 4,
 "nbformat_minor": 5
}
